{
 "cells": [
  {
   "cell_type": "code",
   "execution_count": 1,
   "metadata": {},
   "outputs": [],
   "source": [
    "import pandas as pd\n",
    "from sklearn.linear_model import LinearRegression\n",
    "import numpy as np"
   ]
  },
  {
   "cell_type": "code",
   "execution_count": 126,
   "metadata": {},
   "outputs": [
    {
     "data": {
      "text/plain": [
       "id                object\n",
       "date              object\n",
       "price            float64\n",
       "bedrooms         float64\n",
       "bathrooms        float64\n",
       "sqft_living      float64\n",
       "sqft_lot           int64\n",
       "floors            object\n",
       "waterfront         int64\n",
       "view               int64\n",
       "condition          int64\n",
       "grade              int64\n",
       "sqft_above         int64\n",
       "sqft_basement      int64\n",
       "yr_built           int64\n",
       "yr_renovated       int64\n",
       "zipcode           object\n",
       "lat              float64\n",
       "long             float64\n",
       "sqft_living15    float64\n",
       "sqft_lot15       float64\n",
       "dtype: object"
      ]
     },
     "execution_count": 126,
     "metadata": {},
     "output_type": "execute_result"
    }
   ],
   "source": [
    "dtype_dict = {'bathrooms':float, 'waterfront':int, 'sqft_above':int, 'sqft_living15':float, 'grade':int, 'yr_renovated':int, 'price':float, 'bedrooms':float, 'zipcode':str, 'long':float, 'sqft_lot15':float, 'sqft_living':float, 'floors':str, 'condition':int, 'lat':float, 'date':str, 'sqft_basement':int, 'yr_built':int, 'id':str, 'sqft_lot':int, 'view':int}\n",
    "sales=pd.read_csv(\"kc_house_data.csv\")\n",
    "sales=sales.astype(dtype_dict)\n",
    "sales.dtypes"
   ]
  },
  {
   "cell_type": "code",
   "execution_count": 157,
   "metadata": {},
   "outputs": [],
   "source": [
    "def polynomial_sframe(feature, degree):\n",
    "    # assume that degree >= 1\n",
    "    # initialize the SFrame:\n",
    "    poly_frame = pd.DataFrame()\n",
    "    # and set poly_sframe['power_1'] equal to the passed feature\n",
    "    poly_frame['power_1']=feature\n",
    "    # first check if degree > 1\n",
    "    if degree > 1:\n",
    "        # then loop over the remaining degrees\n",
    "        # range usually starts at 0 and stops at the endpoint-1. We want it to start at 2 and stop at degree\n",
    "        for power in range(2, degree+1): \n",
    "            # first we'll give the column a name:\n",
    "            name = 'power_' + str(power)\n",
    "            # then assign poly_sframe[name] to the appropriate power of feature\n",
    "            poly_frame[name]=np.power(feature,power)\n",
    "#             print(power,(feature)**power)\n",
    "\n",
    "    return poly_frame"
   ]
  },
  {
   "cell_type": "code",
   "execution_count": 158,
   "metadata": {},
   "outputs": [],
   "source": [
    "sales = sales.sort_values(['sqft_living', 'price'])"
   ]
  },
  {
   "cell_type": "code",
   "execution_count": 159,
   "metadata": {},
   "outputs": [],
   "source": [
    "poly1_data = polynomial_sframe(sales['sqft_living'], 1)\n",
    "poly1_data['price'] = sales['price'] # add price to the data since it's the target"
   ]
  },
  {
   "cell_type": "code",
   "execution_count": 160,
   "metadata": {},
   "outputs": [
    {
     "data": {
      "text/html": [
       "<div>\n",
       "<style scoped>\n",
       "    .dataframe tbody tr th:only-of-type {\n",
       "        vertical-align: middle;\n",
       "    }\n",
       "\n",
       "    .dataframe tbody tr th {\n",
       "        vertical-align: top;\n",
       "    }\n",
       "\n",
       "    .dataframe thead th {\n",
       "        text-align: right;\n",
       "    }\n",
       "</style>\n",
       "<table border=\"1\" class=\"dataframe\">\n",
       "  <thead>\n",
       "    <tr style=\"text-align: right;\">\n",
       "      <th></th>\n",
       "      <th>power_1</th>\n",
       "      <th>price</th>\n",
       "    </tr>\n",
       "  </thead>\n",
       "  <tbody>\n",
       "    <tr>\n",
       "      <th>19452</th>\n",
       "      <td>290.0</td>\n",
       "      <td>142000.0</td>\n",
       "    </tr>\n",
       "    <tr>\n",
       "      <th>15381</th>\n",
       "      <td>370.0</td>\n",
       "      <td>276000.0</td>\n",
       "    </tr>\n",
       "    <tr>\n",
       "      <th>860</th>\n",
       "      <td>380.0</td>\n",
       "      <td>245000.0</td>\n",
       "    </tr>\n",
       "    <tr>\n",
       "      <th>18379</th>\n",
       "      <td>384.0</td>\n",
       "      <td>265000.0</td>\n",
       "    </tr>\n",
       "    <tr>\n",
       "      <th>4868</th>\n",
       "      <td>390.0</td>\n",
       "      <td>228000.0</td>\n",
       "    </tr>\n",
       "    <tr>\n",
       "      <th>...</th>\n",
       "      <td>...</td>\n",
       "      <td>...</td>\n",
       "    </tr>\n",
       "    <tr>\n",
       "      <th>8092</th>\n",
       "      <td>9640.0</td>\n",
       "      <td>4668000.0</td>\n",
       "    </tr>\n",
       "    <tr>\n",
       "      <th>9254</th>\n",
       "      <td>9890.0</td>\n",
       "      <td>6885000.0</td>\n",
       "    </tr>\n",
       "    <tr>\n",
       "      <th>3914</th>\n",
       "      <td>10040.0</td>\n",
       "      <td>7062500.0</td>\n",
       "    </tr>\n",
       "    <tr>\n",
       "      <th>7252</th>\n",
       "      <td>12050.0</td>\n",
       "      <td>7700000.0</td>\n",
       "    </tr>\n",
       "    <tr>\n",
       "      <th>12777</th>\n",
       "      <td>13540.0</td>\n",
       "      <td>2280000.0</td>\n",
       "    </tr>\n",
       "  </tbody>\n",
       "</table>\n",
       "<p>21613 rows × 2 columns</p>\n",
       "</div>"
      ],
      "text/plain": [
       "       power_1      price\n",
       "19452    290.0   142000.0\n",
       "15381    370.0   276000.0\n",
       "860      380.0   245000.0\n",
       "18379    384.0   265000.0\n",
       "4868     390.0   228000.0\n",
       "...        ...        ...\n",
       "8092    9640.0  4668000.0\n",
       "9254    9890.0  6885000.0\n",
       "3914   10040.0  7062500.0\n",
       "7252   12050.0  7700000.0\n",
       "12777  13540.0  2280000.0\n",
       "\n",
       "[21613 rows x 2 columns]"
      ]
     },
     "execution_count": 160,
     "metadata": {},
     "output_type": "execute_result"
    }
   ],
   "source": [
    "poly1_data"
   ]
  },
  {
   "cell_type": "markdown",
   "metadata": {},
   "source": [
    "# Visualizing polynomial regression"
   ]
  },
  {
   "cell_type": "code",
   "execution_count": 161,
   "metadata": {},
   "outputs": [],
   "source": [
    "lr = LinearRegression()\n",
    "x_1=poly1_data['power_1'].values\n",
    "x_1 = x_1[:, np.newaxis]\n",
    "\n",
    "model1=lr.fit(x_1,poly1_data[\"price\"].values,sample_weight=None)"
   ]
  },
  {
   "cell_type": "code",
   "execution_count": 162,
   "metadata": {},
   "outputs": [
    {
     "name": "stdout",
     "output_type": "stream",
     "text": [
      "[280.6235679] -43580.74309447396\n"
     ]
    }
   ],
   "source": [
    "print(model1.coef_,model1.intercept_)"
   ]
  },
  {
   "cell_type": "code",
   "execution_count": 163,
   "metadata": {},
   "outputs": [],
   "source": [
    "import matplotlib.pyplot as plt\n",
    "%matplotlib inline"
   ]
  },
  {
   "cell_type": "code",
   "execution_count": 164,
   "metadata": {},
   "outputs": [
    {
     "data": {
      "text/plain": [
       "[<matplotlib.lines.Line2D at 0x7fcb995a8c10>,\n",
       " <matplotlib.lines.Line2D at 0x7fcb995e2250>]"
      ]
     },
     "execution_count": 164,
     "metadata": {},
     "output_type": "execute_result"
    },
    {
     "data": {
      "image/png": "[encoded data removed]",
      "text/plain": [
       "<Figure size 432x288 with 1 Axes>"
      ]
     },
     "metadata": {
      "needs_background": "light"
     },
     "output_type": "display_data"
    }
   ],
   "source": [
    "plt.plot(poly1_data['power_1'],poly1_data['price'],'.',\n",
    "         poly1_data['power_1'], model1.predict(x_1),'-')"
   ]
  },
  {
   "cell_type": "code",
   "execution_count": 165,
   "metadata": {},
   "outputs": [],
   "source": [
    "poly2_data = polynomial_sframe(sales['sqft_living'], 2)\n",
    "poly2_data['price'] = sales['price'] # add price to the data since it's the target"
   ]
  },
  {
   "cell_type": "code",
   "execution_count": 166,
   "metadata": {},
   "outputs": [
    {
     "data": {
      "text/html": [
       "<div>\n",
       "<style scoped>\n",
       "    .dataframe tbody tr th:only-of-type {\n",
       "        vertical-align: middle;\n",
       "    }\n",
       "\n",
       "    .dataframe tbody tr th {\n",
       "        vertical-align: top;\n",
       "    }\n",
       "\n",
       "    .dataframe thead th {\n",
       "        text-align: right;\n",
       "    }\n",
       "</style>\n",
       "<table border=\"1\" class=\"dataframe\">\n",
       "  <thead>\n",
       "    <tr style=\"text-align: right;\">\n",
       "      <th></th>\n",
       "      <th>power_1</th>\n",
       "      <th>power_2</th>\n",
       "      <th>price</th>\n",
       "    </tr>\n",
       "  </thead>\n",
       "  <tbody>\n",
       "    <tr>\n",
       "      <th>19452</th>\n",
       "      <td>290.0</td>\n",
       "      <td>84100.0</td>\n",
       "      <td>142000.0</td>\n",
       "    </tr>\n",
       "    <tr>\n",
       "      <th>15381</th>\n",
       "      <td>370.0</td>\n",
       "      <td>136900.0</td>\n",
       "      <td>276000.0</td>\n",
       "    </tr>\n",
       "    <tr>\n",
       "      <th>860</th>\n",
       "      <td>380.0</td>\n",
       "      <td>144400.0</td>\n",
       "      <td>245000.0</td>\n",
       "    </tr>\n",
       "    <tr>\n",
       "      <th>18379</th>\n",
       "      <td>384.0</td>\n",
       "      <td>147456.0</td>\n",
       "      <td>265000.0</td>\n",
       "    </tr>\n",
       "    <tr>\n",
       "      <th>4868</th>\n",
       "      <td>390.0</td>\n",
       "      <td>152100.0</td>\n",
       "      <td>228000.0</td>\n",
       "    </tr>\n",
       "    <tr>\n",
       "      <th>...</th>\n",
       "      <td>...</td>\n",
       "      <td>...</td>\n",
       "      <td>...</td>\n",
       "    </tr>\n",
       "    <tr>\n",
       "      <th>8092</th>\n",
       "      <td>9640.0</td>\n",
       "      <td>92929600.0</td>\n",
       "      <td>4668000.0</td>\n",
       "    </tr>\n",
       "    <tr>\n",
       "      <th>9254</th>\n",
       "      <td>9890.0</td>\n",
       "      <td>97812100.0</td>\n",
       "      <td>6885000.0</td>\n",
       "    </tr>\n",
       "    <tr>\n",
       "      <th>3914</th>\n",
       "      <td>10040.0</td>\n",
       "      <td>100801600.0</td>\n",
       "      <td>7062500.0</td>\n",
       "    </tr>\n",
       "    <tr>\n",
       "      <th>7252</th>\n",
       "      <td>12050.0</td>\n",
       "      <td>145202500.0</td>\n",
       "      <td>7700000.0</td>\n",
       "    </tr>\n",
       "    <tr>\n",
       "      <th>12777</th>\n",
       "      <td>13540.0</td>\n",
       "      <td>183331600.0</td>\n",
       "      <td>2280000.0</td>\n",
       "    </tr>\n",
       "  </tbody>\n",
       "</table>\n",
       "<p>21613 rows × 3 columns</p>\n",
       "</div>"
      ],
      "text/plain": [
       "       power_1      power_2      price\n",
       "19452    290.0      84100.0   142000.0\n",
       "15381    370.0     136900.0   276000.0\n",
       "860      380.0     144400.0   245000.0\n",
       "18379    384.0     147456.0   265000.0\n",
       "4868     390.0     152100.0   228000.0\n",
       "...        ...          ...        ...\n",
       "8092    9640.0   92929600.0  4668000.0\n",
       "9254    9890.0   97812100.0  6885000.0\n",
       "3914   10040.0  100801600.0  7062500.0\n",
       "7252   12050.0  145202500.0  7700000.0\n",
       "12777  13540.0  183331600.0  2280000.0\n",
       "\n",
       "[21613 rows x 3 columns]"
      ]
     },
     "execution_count": 166,
     "metadata": {},
     "output_type": "execute_result"
    }
   ],
   "source": [
    "poly2_data"
   ]
  },
  {
   "cell_type": "code",
   "execution_count": 167,
   "metadata": {},
   "outputs": [],
   "source": [
    "x_2=poly2_data[['power_1','power_2']].values\n",
    "\n",
    "model2=lr.fit(x_2,poly2_data[\"price\"].values,sample_weight=None)"
   ]
  },
  {
   "cell_type": "code",
   "execution_count": 168,
   "metadata": {},
   "outputs": [
    {
     "name": "stdout",
     "output_type": "stream",
     "text": [
      "[6.79940947e+01 3.85812609e-02] 199222.27930548496\n"
     ]
    }
   ],
   "source": [
    "print(model2.coef_,model2.intercept_)"
   ]
  },
  {
   "cell_type": "code",
   "execution_count": 169,
   "metadata": {},
   "outputs": [
    {
     "data": {
      "text/plain": [
       "[<matplotlib.lines.Line2D at 0x7fcb99519850>,\n",
       " <matplotlib.lines.Line2D at 0x7fcb995a8dd0>]"
      ]
     },
     "execution_count": 169,
     "metadata": {},
     "output_type": "execute_result"
    },
    {
     "data": {
      "image/png": "[encoded data removed]",
      "text/plain": [
       "<Figure size 432x288 with 1 Axes>"
      ]
     },
     "metadata": {
      "needs_background": "light"
     },
     "output_type": "display_data"
    }
   ],
   "source": [
    "plt.plot(poly2_data['power_1'],poly2_data['price'],'.',\n",
    "         poly2_data['power_1'], model2.predict(x_2),'-')"
   ]
  },
  {
   "cell_type": "code",
   "execution_count": 170,
   "metadata": {},
   "outputs": [],
   "source": [
    "poly3_data = polynomial_sframe(sales['sqft_living'], 3)\n",
    "poly3_data['price'] = sales['price'] # add price to the data since it's the target"
   ]
  },
  {
   "cell_type": "code",
   "execution_count": 171,
   "metadata": {},
   "outputs": [
    {
     "data": {
      "text/html": [
       "<div>\n",
       "<style scoped>\n",
       "    .dataframe tbody tr th:only-of-type {\n",
       "        vertical-align: middle;\n",
       "    }\n",
       "\n",
       "    .dataframe tbody tr th {\n",
       "        vertical-align: top;\n",
       "    }\n",
       "\n",
       "    .dataframe thead th {\n",
       "        text-align: right;\n",
       "    }\n",
       "</style>\n",
       "<table border=\"1\" class=\"dataframe\">\n",
       "  <thead>\n",
       "    <tr style=\"text-align: right;\">\n",
       "      <th></th>\n",
       "      <th>power_1</th>\n",
       "      <th>power_2</th>\n",
       "      <th>power_3</th>\n",
       "      <th>price</th>\n",
       "    </tr>\n",
       "  </thead>\n",
       "  <tbody>\n",
       "    <tr>\n",
       "      <th>19452</th>\n",
       "      <td>290.0</td>\n",
       "      <td>84100.0</td>\n",
       "      <td>2.438900e+07</td>\n",
       "      <td>142000.0</td>\n",
       "    </tr>\n",
       "    <tr>\n",
       "      <th>15381</th>\n",
       "      <td>370.0</td>\n",
       "      <td>136900.0</td>\n",
       "      <td>5.065300e+07</td>\n",
       "      <td>276000.0</td>\n",
       "    </tr>\n",
       "    <tr>\n",
       "      <th>860</th>\n",
       "      <td>380.0</td>\n",
       "      <td>144400.0</td>\n",
       "      <td>5.487200e+07</td>\n",
       "      <td>245000.0</td>\n",
       "    </tr>\n",
       "    <tr>\n",
       "      <th>18379</th>\n",
       "      <td>384.0</td>\n",
       "      <td>147456.0</td>\n",
       "      <td>5.662310e+07</td>\n",
       "      <td>265000.0</td>\n",
       "    </tr>\n",
       "    <tr>\n",
       "      <th>4868</th>\n",
       "      <td>390.0</td>\n",
       "      <td>152100.0</td>\n",
       "      <td>5.931900e+07</td>\n",
       "      <td>228000.0</td>\n",
       "    </tr>\n",
       "    <tr>\n",
       "      <th>...</th>\n",
       "      <td>...</td>\n",
       "      <td>...</td>\n",
       "      <td>...</td>\n",
       "      <td>...</td>\n",
       "    </tr>\n",
       "    <tr>\n",
       "      <th>8092</th>\n",
       "      <td>9640.0</td>\n",
       "      <td>92929600.0</td>\n",
       "      <td>8.958413e+11</td>\n",
       "      <td>4668000.0</td>\n",
       "    </tr>\n",
       "    <tr>\n",
       "      <th>9254</th>\n",
       "      <td>9890.0</td>\n",
       "      <td>97812100.0</td>\n",
       "      <td>9.673617e+11</td>\n",
       "      <td>6885000.0</td>\n",
       "    </tr>\n",
       "    <tr>\n",
       "      <th>3914</th>\n",
       "      <td>10040.0</td>\n",
       "      <td>100801600.0</td>\n",
       "      <td>1.012048e+12</td>\n",
       "      <td>7062500.0</td>\n",
       "    </tr>\n",
       "    <tr>\n",
       "      <th>7252</th>\n",
       "      <td>12050.0</td>\n",
       "      <td>145202500.0</td>\n",
       "      <td>1.749690e+12</td>\n",
       "      <td>7700000.0</td>\n",
       "    </tr>\n",
       "    <tr>\n",
       "      <th>12777</th>\n",
       "      <td>13540.0</td>\n",
       "      <td>183331600.0</td>\n",
       "      <td>2.482310e+12</td>\n",
       "      <td>2280000.0</td>\n",
       "    </tr>\n",
       "  </tbody>\n",
       "</table>\n",
       "<p>21613 rows × 4 columns</p>\n",
       "</div>"
      ],
      "text/plain": [
       "       power_1      power_2       power_3      price\n",
       "19452    290.0      84100.0  2.438900e+07   142000.0\n",
       "15381    370.0     136900.0  5.065300e+07   276000.0\n",
       "860      380.0     144400.0  5.487200e+07   245000.0\n",
       "18379    384.0     147456.0  5.662310e+07   265000.0\n",
       "4868     390.0     152100.0  5.931900e+07   228000.0\n",
       "...        ...          ...           ...        ...\n",
       "8092    9640.0   92929600.0  8.958413e+11  4668000.0\n",
       "9254    9890.0   97812100.0  9.673617e+11  6885000.0\n",
       "3914   10040.0  100801600.0  1.012048e+12  7062500.0\n",
       "7252   12050.0  145202500.0  1.749690e+12  7700000.0\n",
       "12777  13540.0  183331600.0  2.482310e+12  2280000.0\n",
       "\n",
       "[21613 rows x 4 columns]"
      ]
     },
     "execution_count": 171,
     "metadata": {},
     "output_type": "execute_result"
    }
   ],
   "source": [
    "poly3_data"
   ]
  },
  {
   "cell_type": "code",
   "execution_count": 172,
   "metadata": {},
   "outputs": [],
   "source": [
    "x_3=poly3_data.loc[:,:'power_3'].values\n",
    "\n",
    "model3=lr.fit(x_3,poly3_data[\"price\"].values,sample_weight=None)"
   ]
  },
  {
   "cell_type": "code",
   "execution_count": 173,
   "metadata": {},
   "outputs": [
    {
     "name": "stdout",
     "output_type": "stream",
     "text": [
      "[-9.01819864e+01  8.70465089e-02 -3.84055260e-06] 336819.7482214633\n"
     ]
    }
   ],
   "source": [
    "print(model3.coef_,model3.intercept_)"
   ]
  },
  {
   "cell_type": "code",
   "execution_count": 174,
   "metadata": {},
   "outputs": [
    {
     "data": {
      "text/plain": [
       "[<matplotlib.lines.Line2D at 0x7fcb99498650>,\n",
       " <matplotlib.lines.Line2D at 0x7fcb99519a50>]"
      ]
     },
     "execution_count": 174,
     "metadata": {},
     "output_type": "execute_result"
    },
    {
     "data": {
      "image/png": "[encoded data removed]",
      "text/plain": [
       "<Figure size 432x288 with 1 Axes>"
      ]
     },
     "metadata": {
      "needs_background": "light"
     },
     "output_type": "display_data"
    }
   ],
   "source": [
    "plt.plot(poly3_data['power_1'],poly3_data['price'],'.',\n",
    "         poly3_data['power_1'], model3.predict(x_3),'-')"
   ]
  },
  {
   "cell_type": "code",
   "execution_count": 175,
   "metadata": {},
   "outputs": [],
   "source": [
    "poly15_data = polynomial_sframe(sales['sqft_living'], 15)\n",
    "poly15_data['price'] = sales['price'] # add price to the data since it's the target"
   ]
  },
  {
   "cell_type": "code",
   "execution_count": 176,
   "metadata": {},
   "outputs": [
    {
     "name": "stdout",
     "output_type": "stream",
     "text": [
      "1220050976570582900000000000\n"
     ]
    }
   ],
   "source": [
    "print(290**11)"
   ]
  },
  {
   "cell_type": "code",
   "execution_count": 177,
   "metadata": {},
   "outputs": [
    {
     "data": {
      "text/html": [
       "<div>\n",
       "<style scoped>\n",
       "    .dataframe tbody tr th:only-of-type {\n",
       "        vertical-align: middle;\n",
       "    }\n",
       "\n",
       "    .dataframe tbody tr th {\n",
       "        vertical-align: top;\n",
       "    }\n",
       "\n",
       "    .dataframe thead th {\n",
       "        text-align: right;\n",
       "    }\n",
       "</style>\n",
       "<table border=\"1\" class=\"dataframe\">\n",
       "  <thead>\n",
       "    <tr style=\"text-align: right;\">\n",
       "      <th></th>\n",
       "      <th>power_1</th>\n",
       "      <th>power_2</th>\n",
       "      <th>power_3</th>\n",
       "      <th>power_4</th>\n",
       "      <th>power_5</th>\n",
       "      <th>power_6</th>\n",
       "      <th>power_7</th>\n",
       "      <th>power_8</th>\n",
       "      <th>power_9</th>\n",
       "      <th>power_10</th>\n",
       "      <th>power_11</th>\n",
       "      <th>power_12</th>\n",
       "      <th>power_13</th>\n",
       "      <th>power_14</th>\n",
       "      <th>power_15</th>\n",
       "      <th>price</th>\n",
       "    </tr>\n",
       "  </thead>\n",
       "  <tbody>\n",
       "    <tr>\n",
       "      <th>19452</th>\n",
       "      <td>290.0</td>\n",
       "      <td>84100.0</td>\n",
       "      <td>2.438900e+07</td>\n",
       "      <td>7.072810e+09</td>\n",
       "      <td>2.051115e+12</td>\n",
       "      <td>5.948233e+14</td>\n",
       "      <td>1.724988e+17</td>\n",
       "      <td>5.002464e+19</td>\n",
       "      <td>1.450715e+22</td>\n",
       "      <td>4.207072e+24</td>\n",
       "      <td>1.220051e+27</td>\n",
       "      <td>3.538148e+29</td>\n",
       "      <td>1.026063e+32</td>\n",
       "      <td>2.975582e+34</td>\n",
       "      <td>8.629189e+36</td>\n",
       "      <td>142000.0</td>\n",
       "    </tr>\n",
       "    <tr>\n",
       "      <th>15381</th>\n",
       "      <td>370.0</td>\n",
       "      <td>136900.0</td>\n",
       "      <td>5.065300e+07</td>\n",
       "      <td>1.874161e+10</td>\n",
       "      <td>6.934396e+12</td>\n",
       "      <td>2.565726e+15</td>\n",
       "      <td>9.493188e+17</td>\n",
       "      <td>3.512479e+20</td>\n",
       "      <td>1.299617e+23</td>\n",
       "      <td>4.808584e+25</td>\n",
       "      <td>1.779176e+28</td>\n",
       "      <td>6.582952e+30</td>\n",
       "      <td>2.435692e+33</td>\n",
       "      <td>9.012061e+35</td>\n",
       "      <td>3.334463e+38</td>\n",
       "      <td>276000.0</td>\n",
       "    </tr>\n",
       "    <tr>\n",
       "      <th>860</th>\n",
       "      <td>380.0</td>\n",
       "      <td>144400.0</td>\n",
       "      <td>5.487200e+07</td>\n",
       "      <td>2.085136e+10</td>\n",
       "      <td>7.923517e+12</td>\n",
       "      <td>3.010936e+15</td>\n",
       "      <td>1.144156e+18</td>\n",
       "      <td>4.347792e+20</td>\n",
       "      <td>1.652161e+23</td>\n",
       "      <td>6.278212e+25</td>\n",
       "      <td>2.385721e+28</td>\n",
       "      <td>9.065738e+30</td>\n",
       "      <td>3.444980e+33</td>\n",
       "      <td>1.309093e+36</td>\n",
       "      <td>4.974552e+38</td>\n",
       "      <td>245000.0</td>\n",
       "    </tr>\n",
       "    <tr>\n",
       "      <th>18379</th>\n",
       "      <td>384.0</td>\n",
       "      <td>147456.0</td>\n",
       "      <td>5.662310e+07</td>\n",
       "      <td>2.174327e+10</td>\n",
       "      <td>8.349416e+12</td>\n",
       "      <td>3.206176e+15</td>\n",
       "      <td>1.231172e+18</td>\n",
       "      <td>4.727699e+20</td>\n",
       "      <td>1.815436e+23</td>\n",
       "      <td>6.971275e+25</td>\n",
       "      <td>2.676970e+28</td>\n",
       "      <td>1.027956e+31</td>\n",
       "      <td>3.947353e+33</td>\n",
       "      <td>1.515783e+36</td>\n",
       "      <td>5.820608e+38</td>\n",
       "      <td>265000.0</td>\n",
       "    </tr>\n",
       "    <tr>\n",
       "      <th>4868</th>\n",
       "      <td>390.0</td>\n",
       "      <td>152100.0</td>\n",
       "      <td>5.931900e+07</td>\n",
       "      <td>2.313441e+10</td>\n",
       "      <td>9.022420e+12</td>\n",
       "      <td>3.518744e+15</td>\n",
       "      <td>1.372310e+18</td>\n",
       "      <td>5.352009e+20</td>\n",
       "      <td>2.087284e+23</td>\n",
       "      <td>8.140406e+25</td>\n",
       "      <td>3.174758e+28</td>\n",
       "      <td>1.238156e+31</td>\n",
       "      <td>4.828807e+33</td>\n",
       "      <td>1.883235e+36</td>\n",
       "      <td>7.344616e+38</td>\n",
       "      <td>228000.0</td>\n",
       "    </tr>\n",
       "    <tr>\n",
       "      <th>...</th>\n",
       "      <td>...</td>\n",
       "      <td>...</td>\n",
       "      <td>...</td>\n",
       "      <td>...</td>\n",
       "      <td>...</td>\n",
       "      <td>...</td>\n",
       "      <td>...</td>\n",
       "      <td>...</td>\n",
       "      <td>...</td>\n",
       "      <td>...</td>\n",
       "      <td>...</td>\n",
       "      <td>...</td>\n",
       "      <td>...</td>\n",
       "      <td>...</td>\n",
       "      <td>...</td>\n",
       "      <td>...</td>\n",
       "    </tr>\n",
       "    <tr>\n",
       "      <th>8092</th>\n",
       "      <td>9640.0</td>\n",
       "      <td>92929600.0</td>\n",
       "      <td>8.958413e+11</td>\n",
       "      <td>8.635911e+15</td>\n",
       "      <td>8.325018e+19</td>\n",
       "      <td>8.025317e+23</td>\n",
       "      <td>7.736406e+27</td>\n",
       "      <td>7.457895e+31</td>\n",
       "      <td>7.189411e+35</td>\n",
       "      <td>6.930592e+39</td>\n",
       "      <td>6.681091e+43</td>\n",
       "      <td>6.440572e+47</td>\n",
       "      <td>6.208711e+51</td>\n",
       "      <td>5.985197e+55</td>\n",
       "      <td>5.769730e+59</td>\n",
       "      <td>4668000.0</td>\n",
       "    </tr>\n",
       "    <tr>\n",
       "      <th>9254</th>\n",
       "      <td>9890.0</td>\n",
       "      <td>97812100.0</td>\n",
       "      <td>9.673617e+11</td>\n",
       "      <td>9.567207e+15</td>\n",
       "      <td>9.461968e+19</td>\n",
       "      <td>9.357886e+23</td>\n",
       "      <td>9.254949e+27</td>\n",
       "      <td>9.153145e+31</td>\n",
       "      <td>9.052460e+35</td>\n",
       "      <td>8.952883e+39</td>\n",
       "      <td>8.854401e+43</td>\n",
       "      <td>8.757003e+47</td>\n",
       "      <td>8.660676e+51</td>\n",
       "      <td>8.565409e+55</td>\n",
       "      <td>8.471189e+59</td>\n",
       "      <td>6885000.0</td>\n",
       "    </tr>\n",
       "    <tr>\n",
       "      <th>3914</th>\n",
       "      <td>10040.0</td>\n",
       "      <td>100801600.0</td>\n",
       "      <td>1.012048e+12</td>\n",
       "      <td>1.016096e+16</td>\n",
       "      <td>1.020161e+20</td>\n",
       "      <td>1.024241e+24</td>\n",
       "      <td>1.028338e+28</td>\n",
       "      <td>1.032452e+32</td>\n",
       "      <td>1.036581e+36</td>\n",
       "      <td>1.040728e+40</td>\n",
       "      <td>1.044891e+44</td>\n",
       "      <td>1.049070e+48</td>\n",
       "      <td>1.053266e+52</td>\n",
       "      <td>1.057480e+56</td>\n",
       "      <td>1.061709e+60</td>\n",
       "      <td>7062500.0</td>\n",
       "    </tr>\n",
       "    <tr>\n",
       "      <th>7252</th>\n",
       "      <td>12050.0</td>\n",
       "      <td>145202500.0</td>\n",
       "      <td>1.749690e+12</td>\n",
       "      <td>2.108377e+16</td>\n",
       "      <td>2.540594e+20</td>\n",
       "      <td>3.061416e+24</td>\n",
       "      <td>3.689006e+28</td>\n",
       "      <td>4.445252e+32</td>\n",
       "      <td>5.356529e+36</td>\n",
       "      <td>6.454617e+40</td>\n",
       "      <td>7.777813e+44</td>\n",
       "      <td>9.372265e+48</td>\n",
       "      <td>1.129358e+53</td>\n",
       "      <td>1.360876e+57</td>\n",
       "      <td>1.639856e+61</td>\n",
       "      <td>7700000.0</td>\n",
       "    </tr>\n",
       "    <tr>\n",
       "      <th>12777</th>\n",
       "      <td>13540.0</td>\n",
       "      <td>183331600.0</td>\n",
       "      <td>2.482310e+12</td>\n",
       "      <td>3.361048e+16</td>\n",
       "      <td>4.550858e+20</td>\n",
       "      <td>6.161862e+24</td>\n",
       "      <td>8.343162e+28</td>\n",
       "      <td>1.129664e+33</td>\n",
       "      <td>1.529565e+37</td>\n",
       "      <td>2.071031e+41</td>\n",
       "      <td>2.804176e+45</td>\n",
       "      <td>3.796855e+49</td>\n",
       "      <td>5.140941e+53</td>\n",
       "      <td>6.960834e+57</td>\n",
       "      <td>9.424970e+61</td>\n",
       "      <td>2280000.0</td>\n",
       "    </tr>\n",
       "  </tbody>\n",
       "</table>\n",
       "<p>21613 rows × 16 columns</p>\n",
       "</div>"
      ],
      "text/plain": [
       "       power_1      power_2       power_3       power_4       power_5  \\\n",
       "19452    290.0      84100.0  2.438900e+07  7.072810e+09  2.051115e+12   \n",
       "15381    370.0     136900.0  5.065300e+07  1.874161e+10  6.934396e+12   \n",
       "860      380.0     144400.0  5.487200e+07  2.085136e+10  7.923517e+12   \n",
       "18379    384.0     147456.0  5.662310e+07  2.174327e+10  8.349416e+12   \n",
       "4868     390.0     152100.0  5.931900e+07  2.313441e+10  9.022420e+12   \n",
       "...        ...          ...           ...           ...           ...   \n",
       "8092    9640.0   92929600.0  8.958413e+11  8.635911e+15  8.325018e+19   \n",
       "9254    9890.0   97812100.0  9.673617e+11  9.567207e+15  9.461968e+19   \n",
       "3914   10040.0  100801600.0  1.012048e+12  1.016096e+16  1.020161e+20   \n",
       "7252   12050.0  145202500.0  1.749690e+12  2.108377e+16  2.540594e+20   \n",
       "12777  13540.0  183331600.0  2.482310e+12  3.361048e+16  4.550858e+20   \n",
       "\n",
       "            power_6       power_7       power_8       power_9      power_10  \\\n",
       "19452  5.948233e+14  1.724988e+17  5.002464e+19  1.450715e+22  4.207072e+24   \n",
       "15381  2.565726e+15  9.493188e+17  3.512479e+20  1.299617e+23  4.808584e+25   \n",
       "860    3.010936e+15  1.144156e+18  4.347792e+20  1.652161e+23  6.278212e+25   \n",
       "18379  3.206176e+15  1.231172e+18  4.727699e+20  1.815436e+23  6.971275e+25   \n",
       "4868   3.518744e+15  1.372310e+18  5.352009e+20  2.087284e+23  8.140406e+25   \n",
       "...             ...           ...           ...           ...           ...   \n",
       "8092   8.025317e+23  7.736406e+27  7.457895e+31  7.189411e+35  6.930592e+39   \n",
       "9254   9.357886e+23  9.254949e+27  9.153145e+31  9.052460e+35  8.952883e+39   \n",
       "3914   1.024241e+24  1.028338e+28  1.032452e+32  1.036581e+36  1.040728e+40   \n",
       "7252   3.061416e+24  3.689006e+28  4.445252e+32  5.356529e+36  6.454617e+40   \n",
       "12777  6.161862e+24  8.343162e+28  1.129664e+33  1.529565e+37  2.071031e+41   \n",
       "\n",
       "           power_11      power_12      power_13      power_14      power_15  \\\n",
       "19452  1.220051e+27  3.538148e+29  1.026063e+32  2.975582e+34  8.629189e+36   \n",
       "15381  1.779176e+28  6.582952e+30  2.435692e+33  9.012061e+35  3.334463e+38   \n",
       "860    2.385721e+28  9.065738e+30  3.444980e+33  1.309093e+36  4.974552e+38   \n",
       "18379  2.676970e+28  1.027956e+31  3.947353e+33  1.515783e+36  5.820608e+38   \n",
       "4868   3.174758e+28  1.238156e+31  4.828807e+33  1.883235e+36  7.344616e+38   \n",
       "...             ...           ...           ...           ...           ...   \n",
       "8092   6.681091e+43  6.440572e+47  6.208711e+51  5.985197e+55  5.769730e+59   \n",
       "9254   8.854401e+43  8.757003e+47  8.660676e+51  8.565409e+55  8.471189e+59   \n",
       "3914   1.044891e+44  1.049070e+48  1.053266e+52  1.057480e+56  1.061709e+60   \n",
       "7252   7.777813e+44  9.372265e+48  1.129358e+53  1.360876e+57  1.639856e+61   \n",
       "12777  2.804176e+45  3.796855e+49  5.140941e+53  6.960834e+57  9.424970e+61   \n",
       "\n",
       "           price  \n",
       "19452   142000.0  \n",
       "15381   276000.0  \n",
       "860     245000.0  \n",
       "18379   265000.0  \n",
       "4868    228000.0  \n",
       "...          ...  \n",
       "8092   4668000.0  \n",
       "9254   6885000.0  \n",
       "3914   7062500.0  \n",
       "7252   7700000.0  \n",
       "12777  2280000.0  \n",
       "\n",
       "[21613 rows x 16 columns]"
      ]
     },
     "execution_count": 177,
     "metadata": {},
     "output_type": "execute_result"
    }
   ],
   "source": [
    "poly15_data"
   ]
  },
  {
   "cell_type": "code",
   "execution_count": 178,
   "metadata": {},
   "outputs": [],
   "source": [
    "x_15=poly15_data.loc[:,:'power_15'].values\n",
    "\n",
    "model15=lr.fit(x_15,poly15_data[\"price\"].values,sample_weight=None)"
   ]
  },
  {
   "cell_type": "code",
   "execution_count": 179,
   "metadata": {},
   "outputs": [
    {
     "data": {
      "text/plain": [
       "array([[2.90000000e+02, 8.41000000e+04, 2.43890000e+07, ...,\n",
       "        1.02606287e+32, 2.97558233e+34, 8.62918875e+36],\n",
       "       [3.70000000e+02, 1.36900000e+05, 5.06530000e+07, ...,\n",
       "        2.43569224e+33, 9.01206130e+35, 3.33446268e+38],\n",
       "       [3.80000000e+02, 1.44400000e+05, 5.48720000e+07, ...,\n",
       "        3.44498041e+33, 1.30909255e+36, 4.97455171e+38],\n",
       "       ...,\n",
       "       [1.00400000e+04, 1.00801600e+08, 1.01204806e+12, ...,\n",
       "        1.05326649e+52, 1.05747955e+56, 1.06170947e+60],\n",
       "       [1.20500000e+04, 1.45202500e+08, 1.74969012e+12, ...,\n",
       "        1.12935794e+53, 1.36087632e+57, 1.63985596e+61],\n",
       "       [1.35400000e+04, 1.83331600e+08, 2.48230986e+12, ...,\n",
       "        5.14094120e+53, 6.96083438e+57, 9.42496976e+61]])"
      ]
     },
     "execution_count": 179,
     "metadata": {},
     "output_type": "execute_result"
    }
   ],
   "source": [
    "x_15"
   ]
  },
  {
   "cell_type": "code",
   "execution_count": 182,
   "metadata": {},
   "outputs": [
    {
     "name": "stdout",
     "output_type": "stream",
     "text": [
      "[ 4.56404164e-91  6.91713451e-51  2.57712948e-56  4.97841222e-60\n",
      "  1.19863929e-74  2.68575522e-71  2.26147568e-67  1.85900299e-63\n",
      "  1.47144116e-59  1.09771012e-55  7.43509038e-52  4.23015578e-48\n",
      "  1.61618577e-44 -2.49283826e-48  9.59718336e-53] 537116.3296377079\n"
     ]
    }
   ],
   "source": [
    "print(model15.coef_,model15.intercept_)"
   ]
  },
  {
   "cell_type": "code",
   "execution_count": 181,
   "metadata": {},
   "outputs": [
    {
     "data": {
      "text/plain": [
       "[<matplotlib.lines.Line2D at 0x7fcb99422910>,\n",
       " <matplotlib.lines.Line2D at 0x7fcb99498850>]"
      ]
     },
     "execution_count": 181,
     "metadata": {},
     "output_type": "execute_result"
    },
    {
     "data": {
      "image/png": "[encoded data removed]",
      "text/plain": [
       "<Figure size 432x288 with 1 Axes>"
      ]
     },
     "metadata": {
      "needs_background": "light"
     },
     "output_type": "display_data"
    }
   ],
   "source": [
    "plt.plot(poly15_data['power_1'],poly15_data['price'],'.',\n",
    "         poly15_data['power_1'], model15.predict(x_15),'-')"
   ]
  },
  {
   "cell_type": "code",
   "execution_count": 195,
   "metadata": {},
   "outputs": [],
   "source": [
    "set1=pd.read_csv(\"wk3_kc_house_set_1_data.csv\",dtype=dtype_dict)\n",
    "set2=pd.read_csv(\"wk3_kc_house_set_2_data.csv\",dtype=dtype_dict)\n",
    "set3=pd.read_csv(\"wk3_kc_house_set_3_data.csv\",dtype=dtype_dict)\n",
    "set4=pd.read_csv(\"wk3_kc_house_set_4_data.csv\",dtype=dtype_dict)"
   ]
  },
  {
   "cell_type": "code",
   "execution_count": 196,
   "metadata": {},
   "outputs": [
    {
     "data": {
      "text/plain": [
       "[<matplotlib.lines.Line2D at 0x7fcb7bc36150>,\n",
       " <matplotlib.lines.Line2D at 0x7fcb7baa0bd0>]"
      ]
     },
     "execution_count": 196,
     "metadata": {},
     "output_type": "execute_result"
    },
    {
     "data": {
      "image/png": "[encoded data removed]",
      "text/plain": [
       "<Figure size 432x288 with 1 Axes>"
      ]
     },
     "metadata": {
      "needs_background": "light"
     },
     "output_type": "display_data"
    }
   ],
   "source": [
    "poly15_data1 = polynomial_sframe(set1['sqft_living'], 15)\n",
    "poly15_data1['price'] = set1['price'] # add price to the data since it's the target\n",
    "\n",
    "model15_1=lr.fit(poly15_data1.loc[:,:'power_15'].values,poly15_data1[\"price\"].values,sample_weight=None)\n",
    "\n",
    "plt.plot(poly15_data1['power_1'],poly15_data1['price'],'.',\n",
    "         poly15_data1['power_1'], model15_1.predict(poly15_data1.loc[:,:'power_15'].values),'-')"
   ]
  },
  {
   "cell_type": "code",
   "execution_count": 197,
   "metadata": {},
   "outputs": [
    {
     "name": "stdout",
     "output_type": "stream",
     "text": [
      "[ 3.05794168e-90 -1.69394947e-49 -5.61767616e-55  1.21887526e-88\n",
      "  3.23082736e-74  1.10358333e-70  8.37724029e-67  6.23411957e-63\n",
      "  4.49156442e-59  3.06938763e-55  1.91749300e-51  1.01335180e-47\n",
      "  3.62176959e-44 -5.63501661e-48  2.18641116e-52] 539058.8186680605\n"
     ]
    }
   ],
   "source": [
    "print(model15_1.coef_,model15_1.intercept_)"
   ]
  },
  {
   "cell_type": "code",
   "execution_count": null,
   "metadata": {},
   "outputs": [],
   "source": []
  },
  {
   "cell_type": "code",
   "execution_count": 198,
   "metadata": {},
   "outputs": [
    {
     "data": {
      "text/plain": [
       "[<matplotlib.lines.Line2D at 0x7fcb7b85ee90>,\n",
       " <matplotlib.lines.Line2D at 0x7fcb7bc36310>]"
      ]
     },
     "execution_count": 198,
     "metadata": {},
     "output_type": "execute_result"
    },
    {
     "data": {
      "image/png": "[encoded data removed]",
      "text/plain": [
       "<Figure size 432x288 with 1 Axes>"
      ]
     },
     "metadata": {
      "needs_background": "light"
     },
     "output_type": "display_data"
    }
   ],
   "source": [
    "poly15_data2 = polynomial_sframe(set2['sqft_living'], 15)\n",
    "poly15_data2['price'] = set2['price'] # add price to the data since it's the target\n",
    "\n",
    "model15_2=lr.fit(poly15_data2.loc[:,:'power_15'].values,poly15_data2[\"price\"].values,sample_weight=None)\n",
    "\n",
    "plt.plot(poly15_data2['power_1'],poly15_data2['price'],'.',\n",
    "         poly15_data2['power_1'], model15_2.predict(poly15_data2.loc[:,:'power_15'].values),'-')"
   ]
  },
  {
   "cell_type": "code",
   "execution_count": 199,
   "metadata": {},
   "outputs": [
    {
     "name": "stdout",
     "output_type": "stream",
     "text": [
      "[ 2.71335949e-77  7.33541099e-39 -1.85015239e-44  1.92231106e-49\n",
      "  5.73786196e-71  1.51934987e-58  3.64549616e-55  1.50416258e-51\n",
      "  5.76015665e-48  1.95770497e-44  5.39396539e-41  9.40376360e-38\n",
      " -3.63529141e-41  4.65476524e-45 -1.97199689e-49] 506893.31726394943\n"
     ]
    }
   ],
   "source": [
    "print(model15_2.coef_,model15_2.intercept_)"
   ]
  },
  {
   "cell_type": "code",
   "execution_count": null,
   "metadata": {},
   "outputs": [],
   "source": []
  },
  {
   "cell_type": "code",
   "execution_count": 200,
   "metadata": {},
   "outputs": [
    {
     "data": {
      "text/plain": [
       "[<matplotlib.lines.Line2D at 0x7fcba5f6cd90>,\n",
       " <matplotlib.lines.Line2D at 0x7fcba5f6c990>]"
      ]
     },
     "execution_count": 200,
     "metadata": {},
     "output_type": "execute_result"
    },
    {
     "data": {
      "image/png": "[encoded data removed]",
      "text/plain": [
       "<Figure size 432x288 with 1 Axes>"
      ]
     },
     "metadata": {
      "needs_background": "light"
     },
     "output_type": "display_data"
    }
   ],
   "source": [
    "poly15_data3 = polynomial_sframe(set3['sqft_living'], 15)\n",
    "poly15_data3['price'] = set3['price'] # add price to the data since it's the target\n",
    "\n",
    "model15_3=lr.fit(poly15_data3.loc[:,:'power_15'].values,poly15_data3[\"price\"].values,sample_weight=None)\n",
    "\n",
    "plt.plot(poly15_data3['power_1'],poly15_data3['price'],'.',\n",
    "         poly15_data3['power_1'], model15_3.predict(poly15_data3.loc[:,:'power_15'].values),'-')"
   ]
  },
  {
   "cell_type": "code",
   "execution_count": 201,
   "metadata": {},
   "outputs": [
    {
     "name": "stdout",
     "output_type": "stream",
     "text": [
      "[ 2.83751934e-88 -7.80224157e-49 -1.38764859e-55  3.98272978e-59\n",
      "  1.57170169e-72  4.27894908e-69  2.68009626e-65  1.63911362e-61\n",
      "  9.66435015e-58  5.38044653e-54  2.72563636e-50  1.16253248e-46\n",
      "  3.33756141e-43 -6.76238818e-47  3.43132932e-51] 530874.3166533138\n"
     ]
    }
   ],
   "source": [
    "print(model15_3.coef_,model15_3.intercept_)"
   ]
  },
  {
   "cell_type": "code",
   "execution_count": null,
   "metadata": {},
   "outputs": [],
   "source": []
  },
  {
   "cell_type": "code",
   "execution_count": 202,
   "metadata": {},
   "outputs": [
    {
     "data": {
      "text/plain": [
       "[<matplotlib.lines.Line2D at 0x7fcb7b9f86d0>,\n",
       " <matplotlib.lines.Line2D at 0x7fcba5f6c610>]"
      ]
     },
     "execution_count": 202,
     "metadata": {},
     "output_type": "execute_result"
    },
    {
     "data": {
      "image/png": "[encoded data removed]",
      "text/plain": [
       "<Figure size 432x288 with 1 Axes>"
      ]
     },
     "metadata": {
      "needs_background": "light"
     },
     "output_type": "display_data"
    }
   ],
   "source": [
    "poly15_data4 = polynomial_sframe(set4['sqft_living'], 15)\n",
    "poly15_data4['price'] = set4['price'] # add price to the data since it's the target\n",
    "\n",
    "model15_4=lr.fit(poly15_data4.loc[:,:'power_15'].values,poly15_data4[\"price\"].values,sample_weight=None)\n",
    "\n",
    "plt.plot(poly15_data4['power_1'],poly15_data4['price'],'.',\n",
    "         poly15_data4['power_1'], model15_4.predict(poly15_data4.loc[:,:'power_15'].values),'-')"
   ]
  },
  {
   "cell_type": "code",
   "execution_count": 203,
   "metadata": {},
   "outputs": [
    {
     "name": "stdout",
     "output_type": "stream",
     "text": [
      "[ 1.37116050e-76  2.79678230e-40 -2.13063833e-44 -5.68330385e-49\n",
      "  2.58420327e-70  5.29002498e-58  1.27070046e-54  4.87868972e-51\n",
      "  1.73549022e-47  5.47058320e-44  1.39587599e-40  2.25041871e-37\n",
      " -9.43954119e-41  1.31573060e-44 -6.09163428e-49] 494819.1553905213\n"
     ]
    }
   ],
   "source": [
    "print(model15_4.coef_,model15_4.intercept_)"
   ]
  },
  {
   "cell_type": "code",
   "execution_count": 220,
   "metadata": {},
   "outputs": [],
   "source": [
    "def get_rss(predictions,output):\n",
    "    RSS=predictions-output\n",
    "    RSS=RSS*RSS\n",
    "    RSS=RSS.sum()\n",
    "    return RSS"
   ]
  },
  {
   "cell_type": "code",
   "execution_count": 232,
   "metadata": {},
   "outputs": [],
   "source": [
    "train_data=pd.read_csv(\"wk3_kc_house_train_data.csv\",dtype=dtype_dict)\n",
    "test_data=pd.read_csv(\"wk3_kc_house_test_data.csv\",dtype=dtype_dict)\n",
    "validation_data=pd.read_csv(\"wk3_kc_house_valid_data.csv\",dtype=dtype_dict)"
   ]
  },
  {
   "cell_type": "code",
   "execution_count": 262,
   "metadata": {},
   "outputs": [
    {
     "name": "stdout",
     "output_type": "stream",
     "text": [
      "629097886299585.8\n",
      "623955062706518.0\n",
      "625820280251531.0\n",
      "629987341468500.5\n",
      "628240679314420.9\n",
      "566268594038536.0\n",
      "1073845847073242.0\n",
      "7087732635315798.0\n",
      "4.53034862724428e+16\n",
      "2.4756881526088448e+17\n",
      "1.1937655429205865e+18\n",
      "5.093263521247607e+18\n",
      "7.616230021278166e+17\n",
      "2.2975609250032942e+18\n",
      "6.955038097242461e+18\n"
     ]
    }
   ],
   "source": [
    "l=[]\n",
    "for i in range(1,16):\n",
    "    \n",
    "    poly_data=polynomial_sframe(train_data['sqft_living'], i)\n",
    "    poly_data['price'] = train_data['price'] \n",
    "    features=poly_data.iloc[:,:len(poly_data.columns)-1]\n",
    "#     print(features.values)\n",
    "    \n",
    "    model=lr.fit(features.values,poly_data[\"price\"].values,sample_weight=None)\n",
    "    val_data=polynomial_sframe(validation_data['sqft_living'], i)\n",
    "    val_data['price'] = validation_data['price']\n",
    "    features=val_data.iloc[:,:len(val_data.columns)-1]\n",
    "    predictions=model.predict(features.values)\n",
    "    rss=get_rss(predictions,val_data['price'])\n",
    "    l.append(rss)\n",
    "    print(rss)"
   ]
  },
  {
   "cell_type": "code",
   "execution_count": 257,
   "metadata": {},
   "outputs": [
    {
     "name": "stdout",
     "output_type": "stream",
     "text": [
      "[629097886299585.8, 623955062706518.0, 625820280251531.0, 629987341468500.5, 628240679314420.9, 566268594038536.0, 1073845847073242.0, 7087732635315798.0, 4.53034862724428e+16, 2.4756881526088448e+17, 1.1937655429205865e+18, 5.093263521247607e+18, 7.616230021278166e+17, 2.2975609250032942e+18, 6.955038097242461e+18]\n",
      "566268594038536.0\n"
     ]
    }
   ],
   "source": [
    "print(l)\n",
    "print(min(l))"
   ]
  },
  {
   "cell_type": "code",
   "execution_count": 261,
   "metadata": {},
   "outputs": [
    {
     "name": "stdout",
     "output_type": "stream",
     "text": [
      "135225114668686.84\n"
     ]
    }
   ],
   "source": [
    "poly_data=polynomial_sframe(train_data['sqft_living'], 6)\n",
    "poly_data['price'] = train_data['price'] \n",
    "features=poly_data.iloc[:,:len(poly_data.columns)-1]\n",
    "# print(features.values)\n",
    "\n",
    "model=lr.fit(features.values,poly_data[\"price\"].values,sample_weight=None)\n",
    "t_data=polynomial_sframe(test_data['sqft_living'], 6)\n",
    "t_data['price'] = test_data['price']\n",
    "features=t_data.iloc[:,:len(t_data.columns)-1]\n",
    "predictions=model.predict(features.values)\n",
    "rss=get_rss(predictions,t_data['price'])\n",
    "print(rss)"
   ]
  },
  {
   "cell_type": "code",
   "execution_count": null,
   "metadata": {},
   "outputs": [],
   "source": []
  }
 ],
 "metadata": {
  "kernelspec": {
   "display_name": "Python 3",
   "language": "python",
   "name": "python3"
  },
  "language_info": {
   "codemirror_mode": {
    "name": "ipython",
    "version": 3
   },
   "file_extension": ".py",
   "mimetype": "text/x-python",
   "name": "python",
   "nbconvert_exporter": "python",
   "pygments_lexer": "ipython3",
   "version": "3.7.6"
  }
 },
 "nbformat": 4,
 "nbformat_minor": 4
}
