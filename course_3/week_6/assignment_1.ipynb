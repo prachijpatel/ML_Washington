{
 "cells": [
  {
   "cell_type": "code",
   "execution_count": 5,
   "metadata": {},
   "outputs": [],
   "source": [
    "import pandas as pd\n",
    "import numpy as np\n",
    "\n",
    "products=pd.read_csv(\"../course_3_data/amazon_baby.csv\")\n",
    "products = products.fillna({'review':''}) "
   ]
  },
  {
   "cell_type": "code",
   "execution_count": 6,
   "metadata": {},
   "outputs": [],
   "source": [
    "def remove_punctuation(text):\n",
    "    import string\n",
    "    translation = text.maketrans(\"\",\"\",string.punctuation)\n",
    "\n",
    "    return text.translate(translation) \n",
    "\n",
    "products['review_clean'] = products['review'].apply(remove_punctuation)"
   ]
  },
  {
   "cell_type": "code",
   "execution_count": 7,
   "metadata": {},
   "outputs": [],
   "source": [
    "products = products[products['rating'] != 3]"
   ]
  },
  {
   "cell_type": "code",
   "execution_count": 8,
   "metadata": {},
   "outputs": [],
   "source": [
    "products['sentiment'] = products['rating'].apply(lambda rating : +1 if rating > 3 else -1)"
   ]
  },
  {
   "cell_type": "code",
   "execution_count": 9,
   "metadata": {},
   "outputs": [],
   "source": [
    "train_idx=pd.read_json(\"../course_3_data/module-9-assignment-train-idx.json\")\n",
    "test_idx=pd.read_json(\"../course_3_data/module-9-assignment-test-idx.json\")"
   ]
  },
  {
   "cell_type": "code",
   "execution_count": 10,
   "metadata": {},
   "outputs": [],
   "source": [
    "train_data=products.iloc[train_idx[0]]\n",
    "test_data=products.iloc[test_idx[0]]"
   ]
  },
  {
   "cell_type": "code",
   "execution_count": 11,
   "metadata": {},
   "outputs": [],
   "source": [
    "from sklearn.feature_extraction.text import CountVectorizer\n",
    "\n",
    "vectorizer = CountVectorizer(token_pattern=r'\\b\\w+\\b')\n",
    "     # Use this token pattern to keep single-letter words\n",
    "# First, learn vocabulary from the training data and assign columns to words\n",
    "# Then convert the training data into a sparse matrix\n",
    "train_matrix = vectorizer.fit_transform(train_data['review_clean'])\n",
    "# Second, convert the test data into a sparse matrix, using the same word-column mapping\n",
    "test_matrix = vectorizer.transform(test_data['review_clean'])"
   ]
  },
  {
   "cell_type": "code",
   "execution_count": 21,
   "metadata": {},
   "outputs": [],
   "source": [
    "from sklearn.linear_model import LogisticRegression\n",
    "feature=train_matrix\n",
    "target=train_data['sentiment'].to_numpy()"
   ]
  },
  {
   "cell_type": "code",
   "execution_count": 22,
   "metadata": {},
   "outputs": [
    {
     "name": "stderr",
     "output_type": "stream",
     "text": [
      "/home/prachi/anaconda3/lib/python3.7/site-packages/sklearn/linear_model/_logistic.py:940: ConvergenceWarning: lbfgs failed to converge (status=1):\n",
      "STOP: TOTAL NO. of ITERATIONS REACHED LIMIT.\n",
      "\n",
      "Increase the number of iterations (max_iter) or scale the data as shown in:\n",
      "    https://scikit-learn.org/stable/modules/preprocessing.html\n",
      "Please also refer to the documentation for alternative solver options:\n",
      "    https://scikit-learn.org/stable/modules/linear_model.html#logistic-regression\n",
      "  extra_warning_msg=_LOGISTIC_SOLVER_CONVERGENCE_MSG)\n"
     ]
    },
    {
     "data": {
      "text/plain": [
       "LogisticRegression(C=1.0, class_weight=None, dual=False, fit_intercept=True,\n",
       "                   intercept_scaling=1, l1_ratio=None, max_iter=100,\n",
       "                   multi_class='auto', n_jobs=None, penalty='l2',\n",
       "                   random_state=None, solver='lbfgs', tol=0.0001, verbose=0,\n",
       "                   warm_start=False)"
      ]
     },
     "execution_count": 22,
     "metadata": {},
     "output_type": "execute_result"
    }
   ],
   "source": [
    "model=LogisticRegression()\n",
    "model.fit(feature,target)"
   ]
  },
  {
   "cell_type": "code",
   "execution_count": 23,
   "metadata": {},
   "outputs": [
    {
     "name": "stdout",
     "output_type": "stream",
     "text": [
      "Test Accuracy: 0.9325953923686106\n"
     ]
    }
   ],
   "source": [
    "from sklearn.metrics import accuracy_score\n",
    "accuracy = accuracy_score(y_true=test_data['sentiment'].to_numpy(), y_pred=model.predict(test_matrix))\n",
    "print(\"Test Accuracy: %s\" % accuracy)"
   ]
  },
  {
   "cell_type": "code",
   "execution_count": 24,
   "metadata": {},
   "outputs": [
    {
     "name": "stdout",
     "output_type": "stream",
     "text": [
      "Baseline accuracy (majority class classifier): 0.8427825773938085\n"
     ]
    }
   ],
   "source": [
    "baseline = len(test_data[test_data['sentiment'] == 1])/len(test_data)\n",
    "print(\"Baseline accuracy (majority class classifier): %s\" % baseline)"
   ]
  },
  {
   "cell_type": "code",
   "execution_count": 25,
   "metadata": {},
   "outputs": [
    {
     "name": "stdout",
     "output_type": "stream",
     "text": [
      " target_label | predicted_label | count \n",
      "--------------+-----------------+-------\n",
      "     -1       |       -1        |  3784\n",
      "     -1       |        1        |  1457\n",
      "      1       |       -1        |   790\n",
      "      1       |        1        | 27305\n"
     ]
    }
   ],
   "source": [
    "from sklearn.metrics import confusion_matrix\n",
    "cmat = confusion_matrix(y_true=test_data['sentiment'].to_numpy(),\n",
    "                        y_pred=model.predict(test_matrix),\n",
    "                        labels=model.classes_)    # use the same order of class as the LR model.\n",
    "print(' target_label | predicted_label | count ')\n",
    "print('--------------+-----------------+-------')\n",
    "# Print out the confusion matrix.\n",
    "# NOTE: Your tool may arrange entries in a different order. Consult appropriate manuals.\n",
    "for i, target_label in enumerate(model.classes_):\n",
    "    for j, predicted_label in enumerate(model.classes_):\n",
    "        print('{0:^13} | {1:^15} | {2:5d}'.format(target_label, predicted_label, cmat[i,j]))"
   ]
  },
  {
   "cell_type": "code",
   "execution_count": 30,
   "metadata": {},
   "outputs": [
    {
     "data": {
      "text/plain": [
       "array([[ 3784,  1457],\n",
       "       [  790, 27305]])"
      ]
     },
     "execution_count": 30,
     "metadata": {},
     "output_type": "execute_result"
    }
   ],
   "source": [
    "cmat"
   ]
  },
  {
   "cell_type": "code",
   "execution_count": 32,
   "metadata": {},
   "outputs": [
    {
     "data": {
      "text/plain": [
       "146490"
      ]
     },
     "execution_count": 32,
     "metadata": {},
     "output_type": "execute_result"
    }
   ],
   "source": [
    "cost=100*cmat[0][1]+1*cmat[1][0]\n",
    "cost"
   ]
  },
  {
   "cell_type": "code",
   "execution_count": 33,
   "metadata": {},
   "outputs": [
    {
     "name": "stdout",
     "output_type": "stream",
     "text": [
      "Precision on test data: 0.9493428829705862\n"
     ]
    }
   ],
   "source": [
    "from sklearn.metrics import precision_score\n",
    "precision = precision_score(y_true=test_data['sentiment'].to_numpy(), \n",
    "                            y_pred=model.predict(test_matrix))\n",
    "print(\"Precision on test data: %s\" % precision)"
   ]
  },
  {
   "cell_type": "code",
   "execution_count": 34,
   "metadata": {},
   "outputs": [
    {
     "name": "stdout",
     "output_type": "stream",
     "text": [
      "Recall on test data: 0.9718811176365901\n"
     ]
    }
   ],
   "source": [
    "from sklearn.metrics import recall_score\n",
    "recall = recall_score(y_true=test_data['sentiment'].to_numpy(),\n",
    "                      y_pred=model.predict(test_matrix))\n",
    "print (\"Recall on test data: %s\" % recall)"
   ]
  },
  {
   "cell_type": "code",
   "execution_count": 123,
   "metadata": {},
   "outputs": [],
   "source": [
    "def apply_threshold(probabilities,threshold):\n",
    "    pred=[]\n",
    "    for i in probabilities:\n",
    "        if i>=threshold:\n",
    "            pred.append(1)\n",
    "        else:\n",
    "            pred.append(-1)\n",
    "    return pred"
   ]
  },
  {
   "cell_type": "code",
   "execution_count": null,
   "metadata": {},
   "outputs": [],
   "source": []
  },
  {
   "cell_type": "code",
   "execution_count": 124,
   "metadata": {},
   "outputs": [],
   "source": [
    "probabilities = model.predict_proba(test_matrix)[:,1]"
   ]
  },
  {
   "cell_type": "code",
   "execution_count": 125,
   "metadata": {},
   "outputs": [
    {
     "name": "stdout",
     "output_type": "stream",
     "text": [
      "Precision 0.5: 0.9493428829705862\n",
      "Precision 0.9: 0.9834256393549438\n"
     ]
    }
   ],
   "source": [
    "t_5=apply_threshold(probabilities,0.5)\n",
    "\n",
    "precision = precision_score(y_true=test_data['sentiment'].to_numpy(), \n",
    "                            y_pred=t_5)\n",
    "print(\"Precision 0.5: %s\" % precision)\n",
    "\n",
    "t_9=apply_threshold(probabilities,0.9)\n",
    "precision = precision_score(y_true=test_data['sentiment'].to_numpy(), \n",
    "                            y_pred=t_9)\n",
    "print(\"Precision 0.9: %s\" % precision)"
   ]
  },
  {
   "cell_type": "code",
   "execution_count": 126,
   "metadata": {},
   "outputs": [
    {
     "name": "stdout",
     "output_type": "stream",
     "text": [
      "Recall 0.5: 0.9718811176365901\n",
      "Recall 0.9: 0.8595479622708667\n"
     ]
    }
   ],
   "source": [
    "recall = recall_score(y_true=test_data['sentiment'].to_numpy(),\n",
    "                      y_pred=t_5)\n",
    "print (\"Recall 0.5: %s\" % recall)\n",
    "\n",
    "recall = recall_score(y_true=test_data['sentiment'].to_numpy(),\n",
    "                      y_pred=t_9)\n",
    "print (\"Recall 0.9: %s\" % recall)"
   ]
  },
  {
   "cell_type": "code",
   "execution_count": 127,
   "metadata": {},
   "outputs": [
    {
     "data": {
      "text/plain": [
       "array([1., 1., 1., 1., 1., 1., 1., 1.])"
      ]
     },
     "execution_count": 127,
     "metadata": {},
     "output_type": "execute_result"
    }
   ],
   "source": [
    "probabilities[probabilities==1]"
   ]
  },
  {
   "cell_type": "code",
   "execution_count": 128,
   "metadata": {},
   "outputs": [
    {
     "data": {
      "text/plain": [
       "array([0.92578352, 0.99999953, 0.9358188 , ..., 0.99996506, 0.99997914,\n",
       "       0.9869782 ])"
      ]
     },
     "execution_count": 128,
     "metadata": {},
     "output_type": "execute_result"
    }
   ],
   "source": [
    "probabilities"
   ]
  },
  {
   "cell_type": "code",
   "execution_count": 129,
   "metadata": {},
   "outputs": [
    {
     "name": "stdout",
     "output_type": "stream",
     "text": [
      "[0.5        0.50505051 0.51010101 0.51515152 0.52020202 0.52525253\n",
      " 0.53030303 0.53535354 0.54040404 0.54545455 0.55050505 0.55555556\n",
      " 0.56060606 0.56565657 0.57070707 0.57575758 0.58080808 0.58585859\n",
      " 0.59090909 0.5959596  0.6010101  0.60606061 0.61111111 0.61616162\n",
      " 0.62121212 0.62626263 0.63131313 0.63636364 0.64141414 0.64646465\n",
      " 0.65151515 0.65656566 0.66161616 0.66666667 0.67171717 0.67676768\n",
      " 0.68181818 0.68686869 0.69191919 0.6969697  0.7020202  0.70707071\n",
      " 0.71212121 0.71717172 0.72222222 0.72727273 0.73232323 0.73737374\n",
      " 0.74242424 0.74747475 0.75252525 0.75757576 0.76262626 0.76767677\n",
      " 0.77272727 0.77777778 0.78282828 0.78787879 0.79292929 0.7979798\n",
      " 0.8030303  0.80808081 0.81313131 0.81818182 0.82323232 0.82828283\n",
      " 0.83333333 0.83838384 0.84343434 0.84848485 0.85353535 0.85858586\n",
      " 0.86363636 0.86868687 0.87373737 0.87878788 0.88383838 0.88888889\n",
      " 0.89393939 0.8989899  0.9040404  0.90909091 0.91414141 0.91919192\n",
      " 0.92424242 0.92929293 0.93434343 0.93939394 0.94444444 0.94949495\n",
      " 0.95454545 0.95959596 0.96464646 0.96969697 0.97474747 0.97979798\n",
      " 0.98484848 0.98989899 0.99494949 1.        ]\n"
     ]
    }
   ],
   "source": [
    "threshold_values = np.linspace(0.5, 1, num=100)\n",
    "print(threshold_values)"
   ]
  },
  {
   "cell_type": "code",
   "execution_count": 130,
   "metadata": {},
   "outputs": [],
   "source": [
    "precision_all=[]\n",
    "recall_all=[]\n",
    "for threshold in threshold_values:\n",
    "    prediction=apply_threshold(probabilities,threshold)\n",
    "    precision = precision_score(y_true=test_data['sentiment'].to_numpy(), \n",
    "                            y_pred=prediction)\n",
    "    precision_all.append(precision)\n",
    "    recall = recall_score(y_true=test_data['sentiment'].to_numpy(),\n",
    "                      y_pred=prediction)\n",
    "    recall_all.append(recall)\n",
    "    \n",
    "    \n"
   ]
  },
  {
   "cell_type": "code",
   "execution_count": 131,
   "metadata": {},
   "outputs": [
    {
     "data": {
      "text/plain": [
       "[0.9493428829705862,\n",
       " 0.9498190423162584,\n",
       " 0.9502908698226913,\n",
       " 0.950697350069735,\n",
       " 0.9511343804537522,\n",
       " 0.9516106491510027,\n",
       " 0.9520945520665781,\n",
       " 0.9525825867861142,\n",
       " 0.9528011204481792,\n",
       " 0.953080103721354,\n",
       " 0.9534182188080957,\n",
       " 0.9536933015025979,\n",
       " 0.9542083992268494,\n",
       " 0.9546222034613762,\n",
       " 0.954836665727964,\n",
       " 0.9552244063975199,\n",
       " 0.9555633926997003,\n",
       " 0.9561211522168879,\n",
       " 0.9566385129165635,\n",
       " 0.9569432159915089,\n",
       " 0.9572622335528645,\n",
       " 0.9578044110346784,\n",
       " 0.9584235753594887,\n",
       " 0.9589688888888889,\n",
       " 0.9593521978999822,\n",
       " 0.9598674127668675,\n",
       " 0.9604497590576477,\n",
       " 0.9609090259415421,\n",
       " 0.9613279433334526,\n",
       " 0.9616486428417962,\n",
       " 0.9621119793533587,\n",
       " 0.9626637946508706,\n",
       " 0.9631879785742532,\n",
       " 0.9634813269050875,\n",
       " 0.9638649709983067,\n",
       " 0.9641195773682882,\n",
       " 0.9644675549777922,\n",
       " 0.9647816025455598,\n",
       " 0.9651289107763615,\n",
       " 0.9656172929058465,\n",
       " 0.9658892763731474,\n",
       " 0.9661744380592129,\n",
       " 0.9665950238606973,\n",
       " 0.9671191883804102,\n",
       " 0.9675144339691588,\n",
       " 0.9680430485394246,\n",
       " 0.9682359406484704,\n",
       " 0.9686731961410073,\n",
       " 0.9690543570142233,\n",
       " 0.9695564145039574,\n",
       " 0.9702301903497123,\n",
       " 0.9706947524020695,\n",
       " 0.9713407635057578,\n",
       " 0.9718090433621425,\n",
       " 0.9722408026755853,\n",
       " 0.9734742047881308,\n",
       " 0.9736111111111111,\n",
       " 0.9740098544401399,\n",
       " 0.974268168632031,\n",
       " 0.9746233148295004,\n",
       " 0.9748694269926577,\n",
       " 0.9753376840188193,\n",
       " 0.9757377547916033,\n",
       " 0.9759780370624571,\n",
       " 0.9762960697354336,\n",
       " 0.9767522154448153,\n",
       " 0.9773356933969525,\n",
       " 0.9777220077220077,\n",
       " 0.9783813102940607,\n",
       " 0.9786977648202138,\n",
       " 0.9789001560062403,\n",
       " 0.979410498297256,\n",
       " 0.9798773777707908,\n",
       " 0.9801792553401508,\n",
       " 0.9806067816775729,\n",
       " 0.9810772050035854,\n",
       " 0.9817031669135605,\n",
       " 0.9822916247434298,\n",
       " 0.9826860841423948,\n",
       " 0.9832452216348109,\n",
       " 0.9837185518510942,\n",
       " 0.9840570157370025,\n",
       " 0.9843834364746439,\n",
       " 0.98517650014656,\n",
       " 0.9856774684186066,\n",
       " 0.9863942676789218,\n",
       " 0.9865722550839774,\n",
       " 0.9870277353133872,\n",
       " 0.9875559098357026,\n",
       " 0.9879674942755803,\n",
       " 0.988345521023766,\n",
       " 0.9889726409826912,\n",
       " 0.9898994711515556,\n",
       " 0.9905419974517299,\n",
       " 0.9907426143261837,\n",
       " 0.9911891948928986,\n",
       " 0.9918996456094954,\n",
       " 0.9927243330638642,\n",
       " 0.9939547727442346,\n",
       " 1.0]"
      ]
     },
     "execution_count": 131,
     "metadata": {},
     "output_type": "execute_result"
    }
   ],
   "source": [
    "precision_all"
   ]
  },
  {
   "cell_type": "code",
   "execution_count": 132,
   "metadata": {},
   "outputs": [],
   "source": [
    "import matplotlib.pyplot as plt\n",
    "def plot_pr_curve(precision, recall, title):\n",
    "    plt.rcParams['figure.figsize'] = 7, 5\n",
    "    plt.locator_params(axis = 'x', nbins = 5)\n",
    "    plt.plot(precision, recall, 'b-', linewidth=4.0, color = '#B0017F')\n",
    "    plt.title(title)\n",
    "    plt.xlabel('Precision')\n",
    "    plt.ylabel('Recall')\n",
    "    plt.rcParams.update({'font.size': 16})"
   ]
  },
  {
   "cell_type": "code",
   "execution_count": 133,
   "metadata": {},
   "outputs": [
    {
     "data": {
      "image/png": "[encoded data removed]",
      "text/plain": [
       "<Figure size 504x360 with 1 Axes>"
      ]
     },
     "metadata": {
      "needs_background": "light"
     },
     "output_type": "display_data"
    }
   ],
   "source": [
    "plot_pr_curve(precision_all, recall_all, 'Precision recall curve (all)')"
   ]
  },
  {
   "cell_type": "code",
   "execution_count": 134,
   "metadata": {},
   "outputs": [],
   "source": [
    "test_data=test_data.fillna({'name':''})"
   ]
  },
  {
   "cell_type": "code",
   "execution_count": 135,
   "metadata": {},
   "outputs": [],
   "source": [
    "baby_reviews = test_data[test_data['name'].apply(lambda x: 'baby' in x.lower())]"
   ]
  },
  {
   "cell_type": "code",
   "execution_count": 136,
   "metadata": {},
   "outputs": [],
   "source": [
    "baby_matrix = vectorizer.transform(baby_reviews['review_clean'])\n",
    "probabilities = model.predict_proba(baby_matrix)[:,1]"
   ]
  },
  {
   "cell_type": "code",
   "execution_count": 137,
   "metadata": {},
   "outputs": [],
   "source": [
    "threshold_values = np.linspace(0.5, 1, num=100)"
   ]
  },
  {
   "cell_type": "code",
   "execution_count": 138,
   "metadata": {},
   "outputs": [],
   "source": [
    "precision_all=[]\n",
    "recall_all=[]\n",
    "for threshold in threshold_values:\n",
    "    prediction=apply_threshold(probabilities,threshold)\n",
    "    precision = precision_score(y_true=baby_reviews['sentiment'].to_numpy(), \n",
    "                            y_pred=prediction)\n",
    "    precision_all.append(precision)\n",
    "    recall = recall_score(y_true=baby_reviews['sentiment'].to_numpy(),\n",
    "                      y_pred=prediction)\n",
    "    recall_all.append(recall)\n",
    "    \n",
    "    \n"
   ]
  },
  {
   "cell_type": "code",
   "execution_count": 139,
   "metadata": {},
   "outputs": [
    {
     "data": {
      "image/png": "[encoded data removed]",
      "text/plain": [
       "<Figure size 504x360 with 1 Axes>"
      ]
     },
     "metadata": {
      "needs_background": "light"
     },
     "output_type": "display_data"
    }
   ],
   "source": [
    "plot_pr_curve(precision_all, recall_all, \"Precision-Recall (Baby)\")"
   ]
  },
  {
   "cell_type": "code",
   "execution_count": null,
   "metadata": {},
   "outputs": [],
   "source": []
  }
 ],
 "metadata": {
  "kernelspec": {
   "display_name": "Python 3",
   "language": "python",
   "name": "python3"
  },
  "language_info": {
   "codemirror_mode": {
    "name": "ipython",
    "version": 3
   },
   "file_extension": ".py",
   "mimetype": "text/x-python",
   "name": "python",
   "nbconvert_exporter": "python",
   "pygments_lexer": "ipython3",
   "version": "3.7.6"
  }
 },
 "nbformat": 4,
 "nbformat_minor": 4
}
