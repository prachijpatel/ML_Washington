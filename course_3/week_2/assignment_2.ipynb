{
 "cells": [
  {
   "cell_type": "code",
   "execution_count": 2,
   "metadata": {},
   "outputs": [],
   "source": [
    "import pandas as pd\n",
    "import numpy as np\n",
    "\n",
    "df=pd.read_csv(\"../course_3_data/amazon_baby_subset.csv\")\n",
    "df = df.fillna({'review':''}) "
   ]
  },
  {
   "cell_type": "markdown",
   "metadata": {},
   "source": [
    "# Removing Punctuations\n"
   ]
  },
  {
   "cell_type": "code",
   "execution_count": 3,
   "metadata": {},
   "outputs": [],
   "source": [
    "def remove_punctuation(text):\n",
    "    import string\n",
    "    translation = text.maketrans(\"\",\"\",string.punctuation)\n",
    "\n",
    "    return text.translate(translation) \n",
    "\n",
    "df['review_clean'] = df['review'].apply(remove_punctuation)"
   ]
  },
  {
   "cell_type": "markdown",
   "metadata": {},
   "source": [
    "# Importing important words"
   ]
  },
  {
   "cell_type": "code",
   "execution_count": 4,
   "metadata": {},
   "outputs": [
    {
     "data": {
      "text/plain": [
       "0        baby\n",
       "1         one\n",
       "2       great\n",
       "3        love\n",
       "4         use\n",
       "        ...  \n",
       "188    babies\n",
       "189       won\n",
       "190       tub\n",
       "191    almost\n",
       "192    either\n",
       "Name: 0, Length: 193, dtype: object"
      ]
     },
     "execution_count": 4,
     "metadata": {},
     "output_type": "execute_result"
    }
   ],
   "source": [
    "important_words=pd.read_json(\"../course_3_data/important_words.json\")\n",
    "important_words=important_words[0]\n",
    "important_words\n"
   ]
  },
  {
   "cell_type": "code",
   "execution_count": 5,
   "metadata": {},
   "outputs": [],
   "source": [
    "for word in important_words:\n",
    "    df[word] = df['review_clean'].apply(lambda s : s.split().count(word))\n"
   ]
  },
  {
   "cell_type": "code",
   "execution_count": 6,
   "metadata": {},
   "outputs": [],
   "source": [
    "train=pd.read_json(\"../course_3_data/module-4-assignment-train-idx.json\")\n",
    "valid=pd.read_json(\"../course_3_data/module-4-assignment-validation-idx.json\")"
   ]
  },
  {
   "cell_type": "code",
   "execution_count": 7,
   "metadata": {},
   "outputs": [],
   "source": [
    "train_data=df.iloc[train[0].values.reshape((-1,))]\n",
    "validation_data=df.iloc[valid[0].values.reshape((-1,))]"
   ]
  },
  {
   "cell_type": "code",
   "execution_count": 8,
   "metadata": {},
   "outputs": [],
   "source": [
    "def get_numpy_data(dataframe, features, label):\n",
    "    dataframe['constant'] = 1\n",
    "    features =np.insert(features,0,'constant')\n",
    "    features_frame = dataframe[features]\n",
    "    feature_matrix = features_frame.to_numpy()\n",
    "    label_sarray = dataframe[label]\n",
    "    label_array = label_sarray.to_numpy()\n",
    "    return(feature_matrix, label_array)"
   ]
  },
  {
   "cell_type": "code",
   "execution_count": 9,
   "metadata": {},
   "outputs": [
    {
     "name": "stderr",
     "output_type": "stream",
     "text": [
      "/home/prachi/anaconda3/lib/python3.7/site-packages/ipykernel_launcher.py:2: SettingWithCopyWarning: \n",
      "A value is trying to be set on a copy of a slice from a DataFrame.\n",
      "Try using .loc[row_indexer,col_indexer] = value instead\n",
      "\n",
      "See the caveats in the documentation: https://pandas.pydata.org/pandas-docs/stable/user_guide/indexing.html#returning-a-view-versus-a-copy\n",
      "  \n"
     ]
    }
   ],
   "source": [
    "feature_matrix_train, sentiment_train = get_numpy_data(train_data, important_words.values, 'sentiment')\n",
    "feature_matrix_valid, sentiment_valid = get_numpy_data(validation_data, important_words.values, 'sentiment') "
   ]
  },
  {
   "cell_type": "code",
   "execution_count": 10,
   "metadata": {},
   "outputs": [],
   "source": [
    "import math\n",
    "def predict_probability(feature_matrix, coefficients):\n",
    "    # Take dot product of feature_matrix and coefficients  \n",
    "    # YOUR CODE HERE\n",
    "    score = np.dot(feature_matrix,coefficients)\n",
    "    \n",
    "    # Compute P(y_i = +1 | x_i, w) using the link function\n",
    "    # YOUR CODE HERE\n",
    "    predictions=[]\n",
    "    for i in score:\n",
    "        predictions.append(1/(1+math.exp(-i)))\n",
    "    \n",
    "    # return predictions\n",
    "    return predictions"
   ]
  },
  {
   "cell_type": "code",
   "execution_count": 11,
   "metadata": {},
   "outputs": [],
   "source": [
    "def feature_derivative_with_L2(errors, feature, coefficient, l2_penalty, feature_is_constant): \n",
    "    \n",
    "    # Compute the dot product of errors and feature\n",
    "    ## YOUR CODE HERE\n",
    "    derivative = np.dot(errors,feature)\n",
    "\n",
    "    # add L2 penalty term for any feature that isn't the intercept.\n",
    "    if not feature_is_constant: \n",
    "        ## YOUR CODE HERE\n",
    "        derivative=derivative-2*l2_penalty*coefficient\n",
    "        \n",
    "    return derivative"
   ]
  },
  {
   "cell_type": "code",
   "execution_count": 12,
   "metadata": {},
   "outputs": [],
   "source": [
    "def compute_log_likelihood_with_L2(feature_matrix, sentiment, coefficients, l2_penalty):\n",
    "    indicator = (sentiment==+1)\n",
    "    scores = np.dot(feature_matrix, coefficients)\n",
    "    lp = np.sum((indicator-1)*scores - np.log(1. + np.exp(-scores))) - l2_penalty*np.sum(coefficients[1:]**2)\n",
    "    return lp"
   ]
  },
  {
   "cell_type": "code",
   "execution_count": 13,
   "metadata": {},
   "outputs": [],
   "source": [
    "def logistic_regression_with_L2(feature_matrix, sentiment, initial_coefficients, step_size, l2_penalty, max_iter):\n",
    "    coefficients = np.array(initial_coefficients) \n",
    "    # make sure it's a numpy array\n",
    "    for itr in range(max_iter):\n",
    "        # Predict P(y_i = +1|x_i,w) using your predict_probability() function\n",
    "        ## YOUR CODE HERE\n",
    "        predictions = predict_probability(feature_matrix,coefficients)\n",
    "        \n",
    "        # Compute indicator value for (y_i = +1)\n",
    "        indicator = (sentiment==+1)\n",
    "        \n",
    "        # Compute the errors as indicator - predictions\n",
    "        errors = indicator - predictions\n",
    "        for j in range(len(coefficients)): # loop over each coefficient\n",
    "            is_intercept = (j == 0)\n",
    "            # Recall that feature_matrix[:,j] is the feature column associated with coefficients[j].\n",
    "            # Compute the derivative for coefficients[j]. Save it in a variable called derivative\n",
    "            ## YOUR CODE HERE\n",
    "            \n",
    "            derivative = feature_derivative_with_L2(errors,feature_matrix[:,j],coefficients[j],l2_penalty,is_intercept)\n",
    "\n",
    "            # add the step size times the derivative to the current coefficient\n",
    "            ## YOUR CODE HERE\n",
    "            coefficients[j]=coefficients[j]+step_size*derivative\n",
    "            \n",
    "        # Checking whether log likelihood is increasing\n",
    "#         if itr <= 15 or (itr <= 100 and itr % 10 == 0) or (itr <= 1000 and itr % 100 == 0) \\\n",
    "#         or (itr <= 10000 and itr % 1000 == 0) or itr % 10000 == 0:\n",
    "#             lp = compute_log_likelihood_with_L2(feature_matrix, sentiment, coefficients, l2_penalty)\n",
    "#             print('iteration %*d: log likelihood of observed labels = %.8f' % \\\n",
    "#                 (int(np.ceil(np.log10(max_iter))), itr, lp))\n",
    "    return coefficients"
   ]
  },
  {
   "cell_type": "code",
   "execution_count": 14,
   "metadata": {},
   "outputs": [],
   "source": [
    "feature_matrix=feature_matrix_train\n",
    "sentiment=sentiment_train\n",
    "initial_coefficients = np.zeros(194)\n",
    "step_size = 5e-6\n",
    "max_iter = 501\n",
    "penalties=[0, 4, 10, 1e2, 1e3,1e5]"
   ]
  },
  {
   "cell_type": "code",
   "execution_count": 15,
   "metadata": {},
   "outputs": [
    {
     "data": {
      "text/plain": [
       "(42361, 194)"
      ]
     },
     "execution_count": 15,
     "metadata": {},
     "output_type": "execute_result"
    }
   ],
   "source": [
    "feature_matrix_train.shape"
   ]
  },
  {
   "cell_type": "code",
   "execution_count": 16,
   "metadata": {},
   "outputs": [],
   "source": [
    "coefficients_0_penalty=logistic_regression_with_L2(feature_matrix, sentiment, initial_coefficients, step_size,0, max_iter)\n",
    "\n",
    "coefficients_4_penalty =logistic_regression_with_L2(feature_matrix, sentiment, initial_coefficients, step_size, penalties[1], max_iter)\n",
    "\n",
    "coefficients_10_penalty=logistic_regression_with_L2(feature_matrix, sentiment, initial_coefficients, step_size, penalties[2], max_iter)\n",
    "\n",
    "coefficients_1e2_penalty=logistic_regression_with_L2(feature_matrix, sentiment, initial_coefficients, step_size, penalties[3], max_iter)\n",
    "\n",
    "coefficients_1e3_penalty=logistic_regression_with_L2(feature_matrix, sentiment, initial_coefficients, step_size, penalties[4], max_iter)\n",
    "\n",
    "coefficients_1e5_penalty=logistic_regression_with_L2(feature_matrix, sentiment, initial_coefficients, step_size, penalties[5], max_iter)\n"
   ]
  },
  {
   "cell_type": "code",
   "execution_count": 17,
   "metadata": {},
   "outputs": [
    {
     "data": {
      "text/plain": [
       "array([-6.37421352e-02,  7.40730059e-02,  1.27525058e-02,  8.01624990e-01,\n",
       "        1.05855398e+00, -1.04152191e-04, -2.87021444e-01, -3.38447399e-03,\n",
       "        9.84558820e-01,  5.24419456e-01, -8.69675407e-02,  2.08912434e-01,\n",
       "        4.53866487e-01, -1.96835211e-01,  1.58163325e-01, -1.79058177e-02,\n",
       "        1.28396325e-01, -7.24293854e-02, -1.51817046e-01, -2.63330304e-01,\n",
       "        1.56507228e-01,  2.63417760e-01, -1.32474753e-02,  1.05248405e+00,\n",
       "       -3.75326583e-02, -3.29713873e-04, -6.79948371e-02,  1.93363694e-01,\n",
       "        1.88508247e-01, -2.68954361e-01,  9.62841996e-02,  3.58309842e-01,\n",
       "       -4.63096879e-02, -3.68678195e-01,  8.35693208e-01,  4.29393687e-01,\n",
       "       -6.53274724e-03, -1.18953292e-01,  4.52597544e-02, -1.05433750e-01,\n",
       "       -1.40179533e-01,  1.15329513e-01,  4.70226839e-02,  2.77177536e-02,\n",
       "       -1.93377062e-01,  2.65797426e-01,  7.83957751e-02, -1.76600523e-01,\n",
       "        3.61782536e-01,  1.02765639e-01, -2.71592217e-01,  2.60319903e-01,\n",
       "        3.39154885e-01, -1.07684772e-01, -5.24146184e-02,  1.65204564e-01,\n",
       "        1.81497208e-01, -1.53387177e-01,  2.26303981e-01,  6.92301007e-02,\n",
       "        2.54329532e-02, -3.91547449e-02,  1.58058671e-01,  1.25891483e-01,\n",
       "        1.08457010e-01,  1.00928023e-01,  1.43336093e-01, -3.13020363e-01,\n",
       "       -8.35172021e-02, -1.67898466e-01, -2.27303866e-01,  2.68533786e-01,\n",
       "        1.74278630e-01, -5.37553904e-03,  1.53575474e-01,  8.96524839e-02,\n",
       "        5.35033890e-01,  5.78548994e-02, -5.26716290e-01, -8.25303707e-02,\n",
       "       -1.05571061e-01,  2.46090901e-01,  7.11403316e-03,  5.57395202e-01,\n",
       "        3.33591876e-01, -5.85048844e-02,  1.35808699e-01,  1.99408751e-01,\n",
       "        3.35757998e-01,  2.06879131e-01,  1.05514065e-01,  4.87652253e-01,\n",
       "       -5.28907387e-02,  1.09786170e-01, -1.71934925e-01,  1.79602396e-01,\n",
       "        8.51886084e-02, -7.68793135e-01, -1.74412073e-01, -2.90041955e-01,\n",
       "       -4.77856463e-01, -2.10858871e-01, -3.18734744e-01, -3.08369907e-01,\n",
       "       -2.86797468e-01, -2.24582972e-01, -9.55436628e-01, -2.50485721e-01,\n",
       "       -2.90003085e-01, -1.89419809e-01,  7.03044813e-02, -2.70696642e-02,\n",
       "       -2.22761522e-01, -6.17809178e-01, -7.42084955e-01, -5.18442510e-02,\n",
       "       -6.95570054e-02, -8.89271680e-02, -4.87549593e-02, -6.74038331e-02,\n",
       "       -2.82426839e-04, -7.42798962e-02, -2.00502000e-01, -2.94932582e-01,\n",
       "        4.88123366e-02, -1.45869307e-01, -8.05551175e-02,  7.12543440e-04,\n",
       "       -5.77628031e-02,  1.17042522e-02, -2.32784371e-01, -1.72200452e-01,\n",
       "       -2.20688410e-01, -1.01614979e-01, -4.58912148e-01, -2.08373670e-01,\n",
       "       -1.47643433e-02, -1.27594388e-01, -7.92551863e-02, -8.35155924e-02,\n",
       "       -3.48678293e-01, -1.35531249e-01,  5.37886137e-02,  6.99245771e-02,\n",
       "       -3.42352976e-02,  1.06787833e-01, -2.58925182e-01,  1.51917362e-02,\n",
       "       -1.50964736e-01, -5.31749902e-02, -7.85018793e-02, -8.21371125e-02,\n",
       "       -6.00293445e-02,  7.16430998e-02, -7.23661931e-02,  2.51956776e-02,\n",
       "       -2.43576080e-01, -2.49830980e-01,  2.75533421e-02, -2.41077002e-01,\n",
       "       -3.58632136e-01, -1.08882112e-01,  1.43849207e-01, -1.44650821e-02,\n",
       "       -1.53174140e-01, -1.86801451e-01, -9.94686989e-02, -2.76548135e-01,\n",
       "       -3.20087794e-02, -5.72707045e-01, -2.24076238e-01, -4.64452683e-02,\n",
       "       -5.55195064e-01, -9.02294478e-03, -3.00562697e-01, -1.93122735e-01,\n",
       "       -4.65369862e-01, -1.10471674e-01, -9.80488057e-02, -1.36801003e-01,\n",
       "       -1.06836325e-01, -3.20363242e-01,  3.32562653e-03, -1.96121253e-01,\n",
       "        5.83078123e-02, -1.96906060e-01, -2.77845406e-01,  1.73191268e-01,\n",
       "       -1.32196544e-01,  5.24938080e-02,  4.96002372e-03, -1.66745387e-01,\n",
       "       -3.19156148e-02, -2.28851609e-01])"
      ]
     },
     "execution_count": 17,
     "metadata": {},
     "output_type": "execute_result"
    }
   ],
   "source": [
    "coefficients_0_penalty"
   ]
  },
  {
   "cell_type": "code",
   "execution_count": 25,
   "metadata": {},
   "outputs": [
    {
     "data": {
      "text/html": [
       "<div>\n",
       "<style scoped>\n",
       "    .dataframe tbody tr th:only-of-type {\n",
       "        vertical-align: middle;\n",
       "    }\n",
       "\n",
       "    .dataframe tbody tr th {\n",
       "        vertical-align: top;\n",
       "    }\n",
       "\n",
       "    .dataframe thead th {\n",
       "        text-align: right;\n",
       "    }\n",
       "</style>\n",
       "<table border=\"1\" class=\"dataframe\">\n",
       "  <thead>\n",
       "    <tr style=\"text-align: right;\">\n",
       "      <th></th>\n",
       "      <th>word</th>\n",
       "      <th>0.0</th>\n",
       "      <th>4.0</th>\n",
       "      <th>10.0</th>\n",
       "      <th>100.0</th>\n",
       "      <th>1000.0</th>\n",
       "      <th>100000.0</th>\n",
       "    </tr>\n",
       "  </thead>\n",
       "  <tbody>\n",
       "    <tr>\n",
       "      <th>0</th>\n",
       "      <td>intercept</td>\n",
       "      <td>-0.063742</td>\n",
       "      <td>-0.063143</td>\n",
       "      <td>-0.062256</td>\n",
       "      <td>-0.050438</td>\n",
       "      <td>0.000054</td>\n",
       "      <td>0.011362</td>\n",
       "    </tr>\n",
       "    <tr>\n",
       "      <th>1</th>\n",
       "      <td>baby</td>\n",
       "      <td>0.074073</td>\n",
       "      <td>0.073994</td>\n",
       "      <td>0.073877</td>\n",
       "      <td>0.072360</td>\n",
       "      <td>0.059752</td>\n",
       "      <td>0.001784</td>\n",
       "    </tr>\n",
       "    <tr>\n",
       "      <th>2</th>\n",
       "      <td>one</td>\n",
       "      <td>0.012753</td>\n",
       "      <td>0.012495</td>\n",
       "      <td>0.012115</td>\n",
       "      <td>0.007247</td>\n",
       "      <td>-0.008761</td>\n",
       "      <td>-0.001827</td>\n",
       "    </tr>\n",
       "    <tr>\n",
       "      <th>3</th>\n",
       "      <td>great</td>\n",
       "      <td>0.801625</td>\n",
       "      <td>0.796897</td>\n",
       "      <td>0.789935</td>\n",
       "      <td>0.701425</td>\n",
       "      <td>0.376012</td>\n",
       "      <td>0.008950</td>\n",
       "    </tr>\n",
       "    <tr>\n",
       "      <th>4</th>\n",
       "      <td>love</td>\n",
       "      <td>1.058554</td>\n",
       "      <td>1.050856</td>\n",
       "      <td>1.039529</td>\n",
       "      <td>0.896644</td>\n",
       "      <td>0.418354</td>\n",
       "      <td>0.009042</td>\n",
       "    </tr>\n",
       "    <tr>\n",
       "      <th>...</th>\n",
       "      <td>...</td>\n",
       "      <td>...</td>\n",
       "      <td>...</td>\n",
       "      <td>...</td>\n",
       "      <td>...</td>\n",
       "      <td>...</td>\n",
       "      <td>...</td>\n",
       "    </tr>\n",
       "    <tr>\n",
       "      <th>189</th>\n",
       "      <td>babies</td>\n",
       "      <td>0.052494</td>\n",
       "      <td>0.052130</td>\n",
       "      <td>0.051594</td>\n",
       "      <td>0.044805</td>\n",
       "      <td>0.021026</td>\n",
       "      <td>0.000365</td>\n",
       "    </tr>\n",
       "    <tr>\n",
       "      <th>190</th>\n",
       "      <td>won</td>\n",
       "      <td>0.004960</td>\n",
       "      <td>0.004907</td>\n",
       "      <td>0.004830</td>\n",
       "      <td>0.003848</td>\n",
       "      <td>0.001084</td>\n",
       "      <td>0.000017</td>\n",
       "    </tr>\n",
       "    <tr>\n",
       "      <th>191</th>\n",
       "      <td>tub</td>\n",
       "      <td>-0.166745</td>\n",
       "      <td>-0.165367</td>\n",
       "      <td>-0.163338</td>\n",
       "      <td>-0.137693</td>\n",
       "      <td>-0.054778</td>\n",
       "      <td>-0.000936</td>\n",
       "    </tr>\n",
       "    <tr>\n",
       "      <th>192</th>\n",
       "      <td>almost</td>\n",
       "      <td>-0.031916</td>\n",
       "      <td>-0.031621</td>\n",
       "      <td>-0.031186</td>\n",
       "      <td>-0.025604</td>\n",
       "      <td>-0.007361</td>\n",
       "      <td>-0.000125</td>\n",
       "    </tr>\n",
       "    <tr>\n",
       "      <th>193</th>\n",
       "      <td>either</td>\n",
       "      <td>-0.228852</td>\n",
       "      <td>-0.226793</td>\n",
       "      <td>-0.223758</td>\n",
       "      <td>-0.184986</td>\n",
       "      <td>-0.061138</td>\n",
       "      <td>-0.000980</td>\n",
       "    </tr>\n",
       "  </tbody>\n",
       "</table>\n",
       "<p>194 rows × 7 columns</p>\n",
       "</div>"
      ],
      "text/plain": [
       "          word       0.0       4.0      10.0     100.0    1000.0  100000.0\n",
       "0    intercept -0.063742 -0.063143 -0.062256 -0.050438  0.000054  0.011362\n",
       "1         baby  0.074073  0.073994  0.073877  0.072360  0.059752  0.001784\n",
       "2          one  0.012753  0.012495  0.012115  0.007247 -0.008761 -0.001827\n",
       "3        great  0.801625  0.796897  0.789935  0.701425  0.376012  0.008950\n",
       "4         love  1.058554  1.050856  1.039529  0.896644  0.418354  0.009042\n",
       "..         ...       ...       ...       ...       ...       ...       ...\n",
       "189     babies  0.052494  0.052130  0.051594  0.044805  0.021026  0.000365\n",
       "190        won  0.004960  0.004907  0.004830  0.003848  0.001084  0.000017\n",
       "191        tub -0.166745 -0.165367 -0.163338 -0.137693 -0.054778 -0.000936\n",
       "192     almost -0.031916 -0.031621 -0.031186 -0.025604 -0.007361 -0.000125\n",
       "193     either -0.228852 -0.226793 -0.223758 -0.184986 -0.061138 -0.000980\n",
       "\n",
       "[194 rows x 7 columns]"
      ]
     },
     "execution_count": 25,
     "metadata": {},
     "output_type": "execute_result"
    }
   ],
   "source": [
    "table1=pd.DataFrame([coefficients_0_penalty,coefficients_4_penalty,coefficients_10_penalty,coefficients_1e2_penalty,coefficients_1e3_penalty,coefficients_1e5_penalty])\n",
    "imp=np.insert(important_words.values,0,'intercept')\n",
    "table1.columns=imp\n",
    "table1.index=penalties\n",
    "table=table1.T\n",
    "table=table.reset_index()\n",
    "table.rename(columns={'index':'word'},inplace=True)\n",
    "table\n",
    "\n"
   ]
  },
  {
   "cell_type": "code",
   "execution_count": 19,
   "metadata": {},
   "outputs": [
    {
     "name": "stdout",
     "output_type": "stream",
     "text": [
      "['love', 'loves', 'easy', 'perfect', 'great']\n",
      "['disappointed', 'money', 'return', 'waste', 'returned']\n"
     ]
    }
   ],
   "source": [
    "negative_words=table.sort_values(table.columns[1],ascending=True)['word'][:5].tolist()\n",
    "positive_words=table.sort_values(table.columns[1],ascending=False)['word'][:5].tolist()\n",
    "print(positive_words)\n",
    "print(negative_words)"
   ]
  },
  {
   "cell_type": "code",
   "execution_count": 20,
   "metadata": {},
   "outputs": [
    {
     "data": {
      "image/png": "[encoded data removed]",
      "text/plain": [
       "<Figure size 720x432 with 1 Axes>"
      ]
     },
     "metadata": {
      "needs_background": "light"
     },
     "output_type": "display_data"
    }
   ],
   "source": [
    "import matplotlib.pyplot as plt\n",
    "%matplotlib inline\n",
    "plt.rcParams['figure.figsize'] = 10, 6\n",
    "\n",
    "def make_coefficient_plot(table, positive_words, negative_words, l2_penalty_list):\n",
    "    cmap_positive = plt.get_cmap('Reds')\n",
    "    cmap_negative = plt.get_cmap('Blues')\n",
    "    \n",
    "    xx = l2_penalty_list\n",
    "    plt.plot(xx, [0.]*len(xx), '--', lw=1, color='k')\n",
    "    \n",
    "    table_positive_words = table[table['word'].isin(positive_words)]\n",
    "    table_negative_words = table[table['word'].isin(negative_words)]\n",
    "    del table_positive_words['word']\n",
    "    del table_negative_words['word']\n",
    "#     table_positive_words=table[positive_words.index]\n",
    "#     table_negative_words=table[negative_words.index]\n",
    "    \n",
    "    \n",
    "    for i in range(len(positive_words)):\n",
    "        color = cmap_positive(0.8*((i+1)/(len(positive_words)*1.2)+0.15))\n",
    "        plt.plot(xx, table_positive_words[i:i+1].to_numpy().flatten(),\n",
    "                 '-', label=positive_words[i], linewidth=4.0, color=color)\n",
    "        \n",
    "    for i in range(len(negative_words)):\n",
    "        color = cmap_negative(0.8*((i+1)/(len(negative_words)*1.2)+0.15))\n",
    "        plt.plot(xx, table_negative_words[i:i+1].to_numpy().flatten(),\n",
    "                 '-', label=negative_words[i], linewidth=4.0, color=color)\n",
    "    plt.legend(loc='best', ncol=3, prop={'size':16}, columnspacing=0.5)\n",
    "    plt.axis([1, 1e5, -1, 2])\n",
    "    plt.title('Coefficient path')\n",
    "    plt.xlabel('L2 penalty ($\\lambda$)')\n",
    "    plt.ylabel('Coefficient value')\n",
    "    plt.xscale('log')\n",
    "    plt.rcParams.update({'font.size': 18})\n",
    "    plt.tight_layout()\n",
    "\n",
    "\n",
    "make_coefficient_plot(table, positive_words, negative_words, l2_penalty_list=[0, 4, 10, 1e2, 1e3, 1e5])\n"
   ]
  },
  {
   "cell_type": "code",
   "execution_count": 21,
   "metadata": {},
   "outputs": [],
   "source": [
    "def predict_sentiment(feature_matrix,coefficients):\n",
    "    predictions=[]\n",
    "    scores=np.dot(feature_matrix,coefficients)\n",
    "    for i in scores:\n",
    "        if i>0:\n",
    "            predictions.append(1)\n",
    "        else:\n",
    "            predictions.append(-1)\n",
    "    return predictions\n",
    "    "
   ]
  },
  {
   "cell_type": "code",
   "execution_count": 22,
   "metadata": {},
   "outputs": [],
   "source": [
    "def accuracy(df,predictions):\n",
    "    true_predictions = df[df['sentiment'] == predictions]\n",
    "    accuracy=len(true_predictions)/len(df)\n",
    "    return accuracy\n"
   ]
  },
  {
   "cell_type": "code",
   "execution_count": 23,
   "metadata": {},
   "outputs": [
    {
     "name": "stdout",
     "output_type": "stream",
     "text": [
      "0.7851561577866434\n",
      "0.7851089445480512\n",
      "0.7849909114515711\n",
      "0.7839758268218409\n",
      "0.7758551497839994\n",
      "0.6803663747314747\n"
     ]
    }
   ],
   "source": [
    "predictions=predict_sentiment(feature_matrix,coefficients_0_penalty)\n",
    "print(accuracy(train_data,predictions))\n",
    "predictions=predict_sentiment(feature_matrix,coefficients_4_penalty)\n",
    "print(accuracy(train_data,predictions))\n",
    "predictions=predict_sentiment(feature_matrix,coefficients_10_penalty)\n",
    "print(accuracy(train_data,predictions))\n",
    "predictions=predict_sentiment(feature_matrix,coefficients_1e2_penalty)\n",
    "print(accuracy(train_data,predictions))\n",
    "predictions=predict_sentiment(feature_matrix,coefficients_1e3_penalty)\n",
    "print(accuracy(train_data,predictions))\n",
    "predictions=predict_sentiment(feature_matrix,coefficients_1e5_penalty)\n",
    "print(accuracy(train_data,predictions))"
   ]
  },
  {
   "cell_type": "code",
   "execution_count": 24,
   "metadata": {},
   "outputs": [
    {
     "ename": "NameError",
     "evalue": "name 'valid_data' is not defined",
     "output_type": "error",
     "traceback": [
      "\u001b[0;31m---------------------------------------------------------------------------\u001b[0m",
      "\u001b[0;31mNameError\u001b[0m                                 Traceback (most recent call last)",
      "\u001b[0;32m<ipython-input-24-802121fc5f1e>\u001b[0m in \u001b[0;36m<module>\u001b[0;34m\u001b[0m\n\u001b[1;32m      1\u001b[0m \u001b[0mpredictions\u001b[0m\u001b[0;34m=\u001b[0m\u001b[0mpredict_sentiment\u001b[0m\u001b[0;34m(\u001b[0m\u001b[0mfeature_matrix_valid\u001b[0m\u001b[0;34m,\u001b[0m\u001b[0mcoefficients_0_penalty\u001b[0m\u001b[0;34m)\u001b[0m\u001b[0;34m\u001b[0m\u001b[0;34m\u001b[0m\u001b[0m\n\u001b[0;32m----> 2\u001b[0;31m \u001b[0mprint\u001b[0m\u001b[0;34m(\u001b[0m\u001b[0maccuracy\u001b[0m\u001b[0;34m(\u001b[0m\u001b[0mvalid_data\u001b[0m\u001b[0;34m,\u001b[0m\u001b[0mpredictions\u001b[0m\u001b[0;34m)\u001b[0m\u001b[0;34m)\u001b[0m\u001b[0;34m\u001b[0m\u001b[0;34m\u001b[0m\u001b[0m\n\u001b[0m\u001b[1;32m      3\u001b[0m \u001b[0mpredictions\u001b[0m\u001b[0;34m=\u001b[0m\u001b[0mpredict_sentiment\u001b[0m\u001b[0;34m(\u001b[0m\u001b[0mfeature_matrix_valid\u001b[0m\u001b[0;34m,\u001b[0m\u001b[0mcoefficients_4_penalty\u001b[0m\u001b[0;34m)\u001b[0m\u001b[0;34m\u001b[0m\u001b[0;34m\u001b[0m\u001b[0m\n\u001b[1;32m      4\u001b[0m \u001b[0mprint\u001b[0m\u001b[0;34m(\u001b[0m\u001b[0maccuracy\u001b[0m\u001b[0;34m(\u001b[0m\u001b[0mvalid_data\u001b[0m\u001b[0;34m,\u001b[0m\u001b[0mpredictions\u001b[0m\u001b[0;34m)\u001b[0m\u001b[0;34m)\u001b[0m\u001b[0;34m\u001b[0m\u001b[0;34m\u001b[0m\u001b[0m\n\u001b[1;32m      5\u001b[0m \u001b[0mpredictions\u001b[0m\u001b[0;34m=\u001b[0m\u001b[0mpredict_sentiment\u001b[0m\u001b[0;34m(\u001b[0m\u001b[0mfeature_matrix_valid\u001b[0m\u001b[0;34m,\u001b[0m\u001b[0mcoefficients_10_penalty\u001b[0m\u001b[0;34m)\u001b[0m\u001b[0;34m\u001b[0m\u001b[0;34m\u001b[0m\u001b[0m\n",
      "\u001b[0;31mNameError\u001b[0m: name 'valid_data' is not defined"
     ]
    }
   ],
   "source": [
    "predictions=predict_sentiment(feature_matrix_valid,coefficients_0_penalty)\n",
    "print(accuracy(valid_data,predictions))\n",
    "predictions=predict_sentiment(feature_matrix_valid,coefficients_4_penalty)\n",
    "print(accuracy(valid_data,predictions))\n",
    "predictions=predict_sentiment(feature_matrix_valid,coefficients_10_penalty)\n",
    "print(accuracy(valid_data,predictions))\n",
    "predictions=predict_sentiment(feature_matrix_valid,coefficients_1e2_penalty)\n",
    "print(accuracy(valid_data,predictions))\n",
    "predictions=predict_sentiment(feature_matrix_valid,coefficients_1e3_penalty)\n",
    "print(accuracy(valid_data,predictions))\n",
    "predictions=predict_sentiment(feature_matrix_valid,coefficients_1e5_penalty)\n",
    "print(accuracy(valid_data,predictions))"
   ]
  },
  {
   "cell_type": "code",
   "execution_count": null,
   "metadata": {},
   "outputs": [],
   "source": []
  }
 ],
 "metadata": {
  "kernelspec": {
   "display_name": "Python 3",
   "language": "python",
   "name": "python3"
  },
  "language_info": {
   "codemirror_mode": {
    "name": "ipython",
    "version": 3
   },
   "file_extension": ".py",
   "mimetype": "text/x-python",
   "name": "python",
   "nbconvert_exporter": "python",
   "pygments_lexer": "ipython3",
   "version": "3.7.6"
  }
 },
 "nbformat": 4,
 "nbformat_minor": 4
}
