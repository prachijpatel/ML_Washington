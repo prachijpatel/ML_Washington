{
 "cells": [
  {
   "cell_type": "code",
   "execution_count": 76,
   "metadata": {},
   "outputs": [],
   "source": [
    "import pandas as pd\n",
    "import numpy as np\n",
    "from sklearn.metrics import accuracy_score,confusion_matrix\n",
    "# from sklearn.neighbors import KNeighborsClassifier\n",
    "from sklearn.cluster import KMeans\n",
    "from collections import Counter\n"
   ]
  },
  {
   "cell_type": "code",
   "execution_count": 77,
   "metadata": {},
   "outputs": [
    {
     "data": {
      "text/html": [
       "<div>\n",
       "<style scoped>\n",
       "    .dataframe tbody tr th:only-of-type {\n",
       "        vertical-align: middle;\n",
       "    }\n",
       "\n",
       "    .dataframe tbody tr th {\n",
       "        vertical-align: top;\n",
       "    }\n",
       "\n",
       "    .dataframe thead th {\n",
       "        text-align: right;\n",
       "    }\n",
       "</style>\n",
       "<table border=\"1\" class=\"dataframe\">\n",
       "  <thead>\n",
       "    <tr style=\"text-align: right;\">\n",
       "      <th></th>\n",
       "      <th>URI</th>\n",
       "      <th>name</th>\n",
       "      <th>text</th>\n",
       "    </tr>\n",
       "  </thead>\n",
       "  <tbody>\n",
       "    <tr>\n",
       "      <th>0</th>\n",
       "      <td>&lt;http://dbpedia.org/resource/Digby_Morrell&gt;</td>\n",
       "      <td>Digby Morrell</td>\n",
       "      <td>digby morrell born 10 october 1979 is a former...</td>\n",
       "    </tr>\n",
       "    <tr>\n",
       "      <th>1</th>\n",
       "      <td>&lt;http://dbpedia.org/resource/Alfred_J._Lewy&gt;</td>\n",
       "      <td>Alfred J. Lewy</td>\n",
       "      <td>alfred j lewy aka sandy lewy graduated from un...</td>\n",
       "    </tr>\n",
       "    <tr>\n",
       "      <th>2</th>\n",
       "      <td>&lt;http://dbpedia.org/resource/Harpdog_Brown&gt;</td>\n",
       "      <td>Harpdog Brown</td>\n",
       "      <td>harpdog brown is a singer and harmonica player...</td>\n",
       "    </tr>\n",
       "    <tr>\n",
       "      <th>3</th>\n",
       "      <td>&lt;http://dbpedia.org/resource/Franz_Rottensteiner&gt;</td>\n",
       "      <td>Franz Rottensteiner</td>\n",
       "      <td>franz rottensteiner born in waidmannsfeld lowe...</td>\n",
       "    </tr>\n",
       "    <tr>\n",
       "      <th>4</th>\n",
       "      <td>&lt;http://dbpedia.org/resource/G-Enka&gt;</td>\n",
       "      <td>G-Enka</td>\n",
       "      <td>henry krvits born 30 december 1974 in tallinn ...</td>\n",
       "    </tr>\n",
       "    <tr>\n",
       "      <th>...</th>\n",
       "      <td>...</td>\n",
       "      <td>...</td>\n",
       "      <td>...</td>\n",
       "    </tr>\n",
       "    <tr>\n",
       "      <th>59066</th>\n",
       "      <td>&lt;http://dbpedia.org/resource/Olari_Elts&gt;</td>\n",
       "      <td>Olari Elts</td>\n",
       "      <td>olari elts born april 27 1971 in tallinn eston...</td>\n",
       "    </tr>\n",
       "    <tr>\n",
       "      <th>59067</th>\n",
       "      <td>&lt;http://dbpedia.org/resource/Scott_F._Crago&gt;</td>\n",
       "      <td>Scott F. Crago</td>\n",
       "      <td>scott francis crago born july 26 1963 twin bro...</td>\n",
       "    </tr>\n",
       "    <tr>\n",
       "      <th>59068</th>\n",
       "      <td>&lt;http://dbpedia.org/resource/David_Cass_(footb...</td>\n",
       "      <td>David Cass (footballer)</td>\n",
       "      <td>david william royce cass born 27 march 1962 in...</td>\n",
       "    </tr>\n",
       "    <tr>\n",
       "      <th>59069</th>\n",
       "      <td>&lt;http://dbpedia.org/resource/Keith_Elias&gt;</td>\n",
       "      <td>Keith Elias</td>\n",
       "      <td>keith hector elias born february 3 1972 in lac...</td>\n",
       "    </tr>\n",
       "    <tr>\n",
       "      <th>59070</th>\n",
       "      <td>&lt;http://dbpedia.org/resource/Fawaz_Damrah&gt;</td>\n",
       "      <td>Fawaz Damrah</td>\n",
       "      <td>fawaz mohammed damrah arabic fawwz damra was t...</td>\n",
       "    </tr>\n",
       "  </tbody>\n",
       "</table>\n",
       "<p>59071 rows × 3 columns</p>\n",
       "</div>"
      ],
      "text/plain": [
       "                                                     URI  \\\n",
       "0            <http://dbpedia.org/resource/Digby_Morrell>   \n",
       "1           <http://dbpedia.org/resource/Alfred_J._Lewy>   \n",
       "2            <http://dbpedia.org/resource/Harpdog_Brown>   \n",
       "3      <http://dbpedia.org/resource/Franz_Rottensteiner>   \n",
       "4                   <http://dbpedia.org/resource/G-Enka>   \n",
       "...                                                  ...   \n",
       "59066           <http://dbpedia.org/resource/Olari_Elts>   \n",
       "59067       <http://dbpedia.org/resource/Scott_F._Crago>   \n",
       "59068  <http://dbpedia.org/resource/David_Cass_(footb...   \n",
       "59069          <http://dbpedia.org/resource/Keith_Elias>   \n",
       "59070         <http://dbpedia.org/resource/Fawaz_Damrah>   \n",
       "\n",
       "                          name  \\\n",
       "0                Digby Morrell   \n",
       "1               Alfred J. Lewy   \n",
       "2                Harpdog Brown   \n",
       "3          Franz Rottensteiner   \n",
       "4                       G-Enka   \n",
       "...                        ...   \n",
       "59066               Olari Elts   \n",
       "59067           Scott F. Crago   \n",
       "59068  David Cass (footballer)   \n",
       "59069              Keith Elias   \n",
       "59070             Fawaz Damrah   \n",
       "\n",
       "                                                    text  \n",
       "0      digby morrell born 10 october 1979 is a former...  \n",
       "1      alfred j lewy aka sandy lewy graduated from un...  \n",
       "2      harpdog brown is a singer and harmonica player...  \n",
       "3      franz rottensteiner born in waidmannsfeld lowe...  \n",
       "4      henry krvits born 30 december 1974 in tallinn ...  \n",
       "...                                                  ...  \n",
       "59066  olari elts born april 27 1971 in tallinn eston...  \n",
       "59067  scott francis crago born july 26 1963 twin bro...  \n",
       "59068  david william royce cass born 27 march 1962 in...  \n",
       "59069  keith hector elias born february 3 1972 in lac...  \n",
       "59070  fawaz mohammed damrah arabic fawwz damra was t...  \n",
       "\n",
       "[59071 rows x 3 columns]"
      ]
     },
     "execution_count": 77,
     "metadata": {},
     "output_type": "execute_result"
    }
   ],
   "source": [
    "people=pd.read_csv(\"people_wiki.csv\")\n",
    "people"
   ]
  },
  {
   "cell_type": "code",
   "execution_count": 78,
   "metadata": {},
   "outputs": [
    {
     "data": {
      "text/html": [
       "<div>\n",
       "<style scoped>\n",
       "    .dataframe tbody tr th:only-of-type {\n",
       "        vertical-align: middle;\n",
       "    }\n",
       "\n",
       "    .dataframe tbody tr th {\n",
       "        vertical-align: top;\n",
       "    }\n",
       "\n",
       "    .dataframe thead th {\n",
       "        text-align: right;\n",
       "    }\n",
       "</style>\n",
       "<table border=\"1\" class=\"dataframe\">\n",
       "  <thead>\n",
       "    <tr style=\"text-align: right;\">\n",
       "      <th></th>\n",
       "      <th>URI</th>\n",
       "      <th>name</th>\n",
       "      <th>text</th>\n",
       "      <th>word_count</th>\n",
       "    </tr>\n",
       "  </thead>\n",
       "  <tbody>\n",
       "    <tr>\n",
       "      <th>0</th>\n",
       "      <td>&lt;http://dbpedia.org/resource/Digby_Morrell&gt;</td>\n",
       "      <td>Digby Morrell</td>\n",
       "      <td>digby morrell born 10 october 1979 is a former...</td>\n",
       "      <td>{'digby': 1, 'morrell': 5, 'born': 1, '10': 1,...</td>\n",
       "    </tr>\n",
       "    <tr>\n",
       "      <th>1</th>\n",
       "      <td>&lt;http://dbpedia.org/resource/Alfred_J._Lewy&gt;</td>\n",
       "      <td>Alfred J. Lewy</td>\n",
       "      <td>alfred j lewy aka sandy lewy graduated from un...</td>\n",
       "      <td>{'alfred': 1, 'j': 1, 'lewy': 3, 'aka': 1, 'sa...</td>\n",
       "    </tr>\n",
       "    <tr>\n",
       "      <th>2</th>\n",
       "      <td>&lt;http://dbpedia.org/resource/Harpdog_Brown&gt;</td>\n",
       "      <td>Harpdog Brown</td>\n",
       "      <td>harpdog brown is a singer and harmonica player...</td>\n",
       "      <td>{'harpdog': 2, 'brown': 2, 'is': 7, 'a': 7, 's...</td>\n",
       "    </tr>\n",
       "    <tr>\n",
       "      <th>3</th>\n",
       "      <td>&lt;http://dbpedia.org/resource/Franz_Rottensteiner&gt;</td>\n",
       "      <td>Franz Rottensteiner</td>\n",
       "      <td>franz rottensteiner born in waidmannsfeld lowe...</td>\n",
       "      <td>{'franz': 1, 'rottensteiner': 3, 'born': 1, 'i...</td>\n",
       "    </tr>\n",
       "    <tr>\n",
       "      <th>4</th>\n",
       "      <td>&lt;http://dbpedia.org/resource/G-Enka&gt;</td>\n",
       "      <td>G-Enka</td>\n",
       "      <td>henry krvits born 30 december 1974 in tallinn ...</td>\n",
       "      <td>{'henry': 1, 'krvits': 1, 'born': 1, '30': 1, ...</td>\n",
       "    </tr>\n",
       "    <tr>\n",
       "      <th>...</th>\n",
       "      <td>...</td>\n",
       "      <td>...</td>\n",
       "      <td>...</td>\n",
       "      <td>...</td>\n",
       "    </tr>\n",
       "    <tr>\n",
       "      <th>59066</th>\n",
       "      <td>&lt;http://dbpedia.org/resource/Olari_Elts&gt;</td>\n",
       "      <td>Olari Elts</td>\n",
       "      <td>olari elts born april 27 1971 in tallinn eston...</td>\n",
       "      <td>{'olari': 2, 'elts': 3, 'born': 1, 'april': 1,...</td>\n",
       "    </tr>\n",
       "    <tr>\n",
       "      <th>59067</th>\n",
       "      <td>&lt;http://dbpedia.org/resource/Scott_F._Crago&gt;</td>\n",
       "      <td>Scott F. Crago</td>\n",
       "      <td>scott francis crago born july 26 1963 twin bro...</td>\n",
       "      <td>{'scott': 1, 'francis': 1, 'crago': 5, 'born':...</td>\n",
       "    </tr>\n",
       "    <tr>\n",
       "      <th>59068</th>\n",
       "      <td>&lt;http://dbpedia.org/resource/David_Cass_(footb...</td>\n",
       "      <td>David Cass (footballer)</td>\n",
       "      <td>david william royce cass born 27 march 1962 in...</td>\n",
       "      <td>{'david': 1, 'william': 1, 'royce': 1, 'cass':...</td>\n",
       "    </tr>\n",
       "    <tr>\n",
       "      <th>59069</th>\n",
       "      <td>&lt;http://dbpedia.org/resource/Keith_Elias&gt;</td>\n",
       "      <td>Keith Elias</td>\n",
       "      <td>keith hector elias born february 3 1972 in lac...</td>\n",
       "      <td>{'keith': 1, 'hector': 1, 'elias': 4, 'born': ...</td>\n",
       "    </tr>\n",
       "    <tr>\n",
       "      <th>59070</th>\n",
       "      <td>&lt;http://dbpedia.org/resource/Fawaz_Damrah&gt;</td>\n",
       "      <td>Fawaz Damrah</td>\n",
       "      <td>fawaz mohammed damrah arabic fawwz damra was t...</td>\n",
       "      <td>{'fawaz': 1, 'mohammed': 1, 'damrah': 4, 'arab...</td>\n",
       "    </tr>\n",
       "  </tbody>\n",
       "</table>\n",
       "<p>59071 rows × 4 columns</p>\n",
       "</div>"
      ],
      "text/plain": [
       "                                                     URI  \\\n",
       "0            <http://dbpedia.org/resource/Digby_Morrell>   \n",
       "1           <http://dbpedia.org/resource/Alfred_J._Lewy>   \n",
       "2            <http://dbpedia.org/resource/Harpdog_Brown>   \n",
       "3      <http://dbpedia.org/resource/Franz_Rottensteiner>   \n",
       "4                   <http://dbpedia.org/resource/G-Enka>   \n",
       "...                                                  ...   \n",
       "59066           <http://dbpedia.org/resource/Olari_Elts>   \n",
       "59067       <http://dbpedia.org/resource/Scott_F._Crago>   \n",
       "59068  <http://dbpedia.org/resource/David_Cass_(footb...   \n",
       "59069          <http://dbpedia.org/resource/Keith_Elias>   \n",
       "59070         <http://dbpedia.org/resource/Fawaz_Damrah>   \n",
       "\n",
       "                          name  \\\n",
       "0                Digby Morrell   \n",
       "1               Alfred J. Lewy   \n",
       "2                Harpdog Brown   \n",
       "3          Franz Rottensteiner   \n",
       "4                       G-Enka   \n",
       "...                        ...   \n",
       "59066               Olari Elts   \n",
       "59067           Scott F. Crago   \n",
       "59068  David Cass (footballer)   \n",
       "59069              Keith Elias   \n",
       "59070             Fawaz Damrah   \n",
       "\n",
       "                                                    text  \\\n",
       "0      digby morrell born 10 october 1979 is a former...   \n",
       "1      alfred j lewy aka sandy lewy graduated from un...   \n",
       "2      harpdog brown is a singer and harmonica player...   \n",
       "3      franz rottensteiner born in waidmannsfeld lowe...   \n",
       "4      henry krvits born 30 december 1974 in tallinn ...   \n",
       "...                                                  ...   \n",
       "59066  olari elts born april 27 1971 in tallinn eston...   \n",
       "59067  scott francis crago born july 26 1963 twin bro...   \n",
       "59068  david william royce cass born 27 march 1962 in...   \n",
       "59069  keith hector elias born february 3 1972 in lac...   \n",
       "59070  fawaz mohammed damrah arabic fawwz damra was t...   \n",
       "\n",
       "                                              word_count  \n",
       "0      {'digby': 1, 'morrell': 5, 'born': 1, '10': 1,...  \n",
       "1      {'alfred': 1, 'j': 1, 'lewy': 3, 'aka': 1, 'sa...  \n",
       "2      {'harpdog': 2, 'brown': 2, 'is': 7, 'a': 7, 's...  \n",
       "3      {'franz': 1, 'rottensteiner': 3, 'born': 1, 'i...  \n",
       "4      {'henry': 1, 'krvits': 1, 'born': 1, '30': 1, ...  \n",
       "...                                                  ...  \n",
       "59066  {'olari': 2, 'elts': 3, 'born': 1, 'april': 1,...  \n",
       "59067  {'scott': 1, 'francis': 1, 'crago': 5, 'born':...  \n",
       "59068  {'david': 1, 'william': 1, 'royce': 1, 'cass':...  \n",
       "59069  {'keith': 1, 'hector': 1, 'elias': 4, 'born': ...  \n",
       "59070  {'fawaz': 1, 'mohammed': 1, 'damrah': 4, 'arab...  \n",
       "\n",
       "[59071 rows x 4 columns]"
      ]
     },
     "execution_count": 78,
     "metadata": {},
     "output_type": "execute_result"
    }
   ],
   "source": [
    "people['word_count'] = people['text'].apply(lambda x: Counter(x.lower().split()))\n",
    "people"
   ]
  },
  {
   "cell_type": "code",
   "execution_count": 79,
   "metadata": {},
   "outputs": [
    {
     "data": {
      "text/plain": [
       "35817    barack hussein obama ii brk husen bm born augu...\n",
       "Name: text, dtype: object"
      ]
     },
     "execution_count": 79,
     "metadata": {},
     "output_type": "execute_result"
    }
   ],
   "source": [
    "obama = people[people['name'] == 'Barack Obama']\n",
    "obama[\"text\"]"
   ]
  },
  {
   "cell_type": "code",
   "execution_count": 80,
   "metadata": {},
   "outputs": [
    {
     "data": {
      "text/plain": [
       "38514    george timothy clooney born may 6 1961 is an a...\n",
       "Name: text, dtype: object"
      ]
     },
     "execution_count": 80,
     "metadata": {},
     "output_type": "execute_result"
    }
   ],
   "source": [
    "clooney = people[people['name'] == 'George Clooney']\n",
    "clooney['text']"
   ]
  },
  {
   "cell_type": "code",
   "execution_count": 114,
   "metadata": {},
   "outputs": [
    {
     "ename": "NameError",
     "evalue": "name 'word_count' is not defined",
     "output_type": "error",
     "traceback": [
      "\u001b[0;31m---------------------------------------------------------------------------\u001b[0m",
      "\u001b[0;31mNameError\u001b[0m                                 Traceback (most recent call last)",
      "\u001b[0;32m<ipython-input-114-f0a6cc38e05e>\u001b[0m in \u001b[0;36m<module>\u001b[0;34m\u001b[0m\n\u001b[1;32m      1\u001b[0m \u001b[0mobama\u001b[0m\u001b[0;34m[\u001b[0m\u001b[0;34m\"word_count\"\u001b[0m\u001b[0;34m]\u001b[0m\u001b[0;34m\u001b[0m\u001b[0;34m\u001b[0m\u001b[0m\n\u001b[0;32m----> 2\u001b[0;31m \u001b[0mms\u001b[0m \u001b[0;34m=\u001b[0m \u001b[0mnp\u001b[0m\u001b[0;34m.\u001b[0m\u001b[0mcolumn_stack\u001b[0m\u001b[0;34m(\u001b[0m\u001b[0;34m(\u001b[0m\u001b[0mword_count\u001b[0m\u001b[0;34m)\u001b[0m\u001b[0;34m)\u001b[0m\u001b[0;34m\u001b[0m\u001b[0;34m\u001b[0m\u001b[0m\n\u001b[0m\u001b[1;32m      3\u001b[0m df = pd.DataFrame(ms, \n\u001b[1;32m      4\u001b[0m                   columns = ['Ground truth', 'Clusters'])\n",
      "\u001b[0;31mNameError\u001b[0m: name 'word_count' is not defined"
     ]
    }
   ],
   "source": [
    "obama[\"word_count\"]\n",
    "ms = np.column_stack((word_count))\n",
    "df = pd.DataFrame(ms, \n",
    "                  columns = ['Ground truth', 'Clusters'])\n"
   ]
  },
  {
   "cell_type": "code",
   "execution_count": 106,
   "metadata": {},
   "outputs": [
    {
     "data": {
      "text/plain": [
       "0        {'digby': 1, 'morrell': 5, 'born': 1, '10': 1,...\n",
       "1        {'alfred': 1, 'j': 1, 'lewy': 3, 'aka': 1, 'sa...\n",
       "2        {'harpdog': 2, 'brown': 2, 'is': 7, 'a': 7, 's...\n",
       "3        {'franz': 1, 'rottensteiner': 3, 'born': 1, 'i...\n",
       "4        {'henry': 1, 'krvits': 1, 'born': 1, '30': 1, ...\n",
       "                               ...                        \n",
       "59066    {'olari': 2, 'elts': 3, 'born': 1, 'april': 1,...\n",
       "59067    {'scott': 1, 'francis': 1, 'crago': 5, 'born':...\n",
       "59068    {'david': 1, 'william': 1, 'royce': 1, 'cass':...\n",
       "59069    {'keith': 1, 'hector': 1, 'elias': 4, 'born': ...\n",
       "59070    {'fawaz': 1, 'mohammed': 1, 'damrah': 4, 'arab...\n",
       "Name: word_count, Length: 59071, dtype: object"
      ]
     },
     "execution_count": 106,
     "metadata": {},
     "output_type": "execute_result"
    }
   ],
   "source": [
    "# obama.stack()\n",
    "# people[\"word_count\"]=people[\"word_count\"].astype(str)\n",
    "people[\"word_count\"]\n",
    "# people"
   ]
  },
  {
   "cell_type": "code",
   "execution_count": 130,
   "metadata": {},
   "outputs": [
    {
     "name": "stdout",
     "output_type": "stream",
     "text": [
      "0        {'digby': 1, 'morrell': 5, 'born': 1, '10': 1,...\n",
      "1        {'alfred': 1, 'j': 1, 'lewy': 3, 'aka': 1, 'sa...\n",
      "2        {'harpdog': 2, 'brown': 2, 'is': 7, 'a': 7, 's...\n",
      "3        {'franz': 1, 'rottensteiner': 3, 'born': 1, 'i...\n",
      "4        {'henry': 1, 'krvits': 1, 'born': 1, '30': 1, ...\n",
      "                               ...                        \n",
      "59066    {'olari': 2, 'elts': 3, 'born': 1, 'april': 1,...\n",
      "59067    {'scott': 1, 'francis': 1, 'crago': 5, 'born':...\n",
      "59068    {'david': 1, 'william': 1, 'royce': 1, 'cass':...\n",
      "59069    {'keith': 1, 'hector': 1, 'elias': 4, 'born': ...\n",
      "59070    {'fawaz': 1, 'mohammed': 1, 'damrah': 4, 'arab...\n",
      "Name: word_count, Length: 59071, dtype: object\n"
     ]
    },
    {
     "data": {
      "text/plain": [
       "dict_values([1, 5, 1, 1, 1, 1, 1, 4, 1, 3, 1, 1, 1, 3, 5, 27, 3, 4, 2, 13, 10, 4, 1, 1, 1, 3, 1, 3, 4, 2, 1, 1, 1, 1, 1, 1, 6, 5, 1, 2, 1, 1, 4, 1, 4, 1, 1, 5, 1, 5, 1, 1, 1, 1, 1, 1, 1, 1, 2, 1, 1, 1, 1, 1, 1, 1, 1, 1, 1, 2, 1, 1, 1, 1, 3, 1, 1, 1, 1, 1, 1, 1, 1, 1, 1, 1, 1, 1, 1, 2, 1, 1, 2, 1, 1, 1, 1, 1, 1, 1, 1, 1, 1, 1, 2, 1, 2, 1, 1, 1, 1, 1, 1, 1, 2, 1, 1, 1, 1, 1, 1, 1, 1, 1, 1, 1, 1, 1, 1, 1, 1, 1, 1, 1, 1, 1, 1, 1, 1])"
      ]
     },
     "execution_count": 130,
     "metadata": {},
     "output_type": "execute_result"
    }
   ],
   "source": [
    "# kmeans = KMeans(n_clusters=2, random_state=0)\n",
    "# kmeans.fit(obama[\"word_count\"])\n",
    "l=people[\"word_count\"]\n",
    "print(l)\n",
    "l.iloc[0].values()"
   ]
  },
  {
   "cell_type": "code",
   "execution_count": 108,
   "metadata": {},
   "outputs": [
    {
     "data": {
      "text/plain": [
       "dict_values([Counter({'the': 40, 'in': 30, 'and': 21, 'of': 18, 'to': 14, 'his': 11, 'obama': 9, 'act': 8, 'a': 7, 'he': 7, 'law': 6, 'as': 6, 'us': 6, 'was': 5, 'president': 4, 'for': 4, 'democratic': 4, 'after': 4, 'military': 4, 'iraq': 4, 'control': 4, 'has': 4, 'united': 3, 'states': 3, 'first': 3, 'american': 3, 'school': 3, 'from': 3, '2004': 3, 'senate': 3, 'campaign': 3, 'with': 3, 'party': 3, 'election': 3, 'january': 3, '2009': 3, 'signed': 3, 'response': 3, 'term': 3, 'involvement': 3, 'ordered': 3, '2011': 3, 'born': 2, 'is': 2, 'office': 2, 'university': 2, 'harvard': 2, 'served': 2, 'chicago': 2, 'at': 2, 'illinois': 2, 'house': 2, 'representatives': 2, 'national': 2, 'during': 2, 'primary': 2, 'november': 2, 'presidential': 2, 'republican': 2, 'nominee': 2, 'on': 2, '20': 2, 'relief': 2, '2010': 2, 'domestic': 2, 'protection': 2, 'dont': 2, 'foreign': 2, 'policy': 2, 'afghanistan': 2, 'second': 2, 'barack': 1, 'hussein': 1, 'ii': 1, 'brk': 1, 'husen': 1, 'bm': 1, 'august': 1, '4': 1, '1961': 1, '44th': 1, 'current': 1, 'african': 1, 'hold': 1, 'honolulu': 1, 'hawaii': 1, 'graduate': 1, 'columbia': 1, 'where': 1, 'review': 1, 'community': 1, 'organizer': 1, 'before': 1, 'earning': 1, 'degree': 1, 'worked': 1, 'civil': 1, 'rights': 1, 'attorney': 1, 'taught': 1, 'constitutional': 1, '1992': 1, 'three': 1, 'terms': 1, 'representing': 1, '13th': 1, 'district': 1, '1997': 1, 'running': 1, 'unsuccessfully': 1, '2000in': 1, 'received': 1, 'attention': 1, 'represent': 1, 'victory': 1, 'march': 1, 'keynote': 1, 'address': 1, 'convention': 1, 'july': 1, 'began': 1, '2007': 1, 'close': 1, 'against': 1, 'hillary': 1, 'rodham': 1, 'clinton': 1, '2008': 1, 'won': 1, 'sufficient': 1, 'delegates': 1, 'primaries': 1, 'receive': 1, 'nomination': 1, 'then': 1, 'defeated': 1, 'john': 1, 'mccain': 1, 'general': 1, 'inaugurated': 1, 'nine': 1, 'months': 1, 'named': 1, 'nobel': 1, 'peace': 1, 'prize': 1, 'laureateduring': 1, 'two': 1, 'years': 1, 'into': 1, 'economic': 1, 'stimulus': 1, 'legislation': 1, 'great': 1, 'recession': 1, 'form': 1, 'recovery': 1, 'reinvestment': 1, 'tax': 1, 'unemployment': 1, 'insurance': 1, 'reauthorization': 1, 'job': 1, 'creation': 1, 'other': 1, 'major': 1, 'initiatives': 1, 'included': 1, 'patient': 1, 'affordable': 1, 'care': 1, 'often': 1, 'referred': 1, 'obamacare': 1, 'doddfrank': 1, 'wall': 1, 'street': 1, 'reform': 1, 'consumer': 1, 'ask': 1, 'tell': 1, 'repeal': 1, 'ended': 1, 'war': 1, 'increased': 1, 'troop': 1, 'levels': 1, 'new': 1, 'start': 1, 'arms': 1, 'treaty': 1, 'russia': 1, 'libya': 1, 'operation': 1, 'that': 1, 'resulted': 1, 'death': 1, 'osama': 1, 'bin': 1, 'laden': 1, 'republicans': 1, 'regained': 1, 'lost': 1, 'total': 1, '63': 1, 'seats': 1, 'lengthy': 1, 'debate': 1, 'over': 1, 'federal': 1, 'spending': 1, 'whether': 1, 'or': 1, 'not': 1, 'raise': 1, 'nations': 1, 'debt': 1, 'limit': 1, 'budget': 1, 'taxpayer': 1, '2012obama': 1, 'reelected': 1, '2012': 1, 'defeating': 1, 'mitt': 1, 'romney': 1, 'sworn': 1, '2013': 1, 'promoted': 1, 'policies': 1, 'related': 1, 'gun': 1, 'sandy': 1, 'hook': 1, 'elementary': 1, 'shooting': 1, 'called': 1, 'full': 1, 'equality': 1, 'lgbt': 1, 'americans': 1, 'while': 1, 'administration': 1, 'filed': 1, 'briefs': 1, 'which': 1, 'urged': 1, 'supreme': 1, 'court': 1, 'strike': 1, 'down': 1, 'defense': 1, 'marriage': 1, '1996': 1, 'californias': 1, 'proposition': 1, '8': 1, 'unconstitutional': 1, 'gains': 1, 'made': 1, 'by': 1, 'islamic': 1, 'state': 1, 'withdrawal': 1, 'continued': 1, 'process': 1, 'ending': 1, 'combat': 1, 'operations': 1, 'sought': 1, 'normalize': 1, 'relations': 1, 'cuba': 1})])"
      ]
     },
     "execution_count": 108,
     "metadata": {},
     "output_type": "execute_result"
    }
   ],
   "source": [
    "# from sklearn.cluster import KMeans\n",
    "# clustering = KMeans(n_clusters=10, \n",
    "#                     n_init=10, random_state=1)\n",
    "# clustering.fit(obama[\"word_count\"].values())\n",
    "l=dict(obama[\"word_count\"])\n",
    "l.values()"
   ]
  },
  {
   "cell_type": "code",
   "execution_count": 109,
   "metadata": {},
   "outputs": [
    {
     "name": "stdout",
     "output_type": "stream",
     "text": [
      "35817    barack hussein obama ii brk husen bm born augu...\n",
      "Name: text, dtype: object\n"
     ]
    }
   ],
   "source": [
    "print(obama[\"text\"])"
   ]
  },
  {
   "cell_type": "code",
   "execution_count": null,
   "metadata": {},
   "outputs": [],
   "source": []
  },
  {
   "cell_type": "code",
   "execution_count": 137,
   "metadata": {},
   "outputs": [
    {
     "name": "stdout",
     "output_type": "stream",
     "text": [
      "(1000, 2) (1000,)\n",
      "Counter({0: 500, 1: 500})\n",
      "[-3.05837272  4.48825769] 0\n",
      "[-8.60973869 -3.72714879] 1\n",
      "[1.37129721 5.23107449] 0\n",
      "[-9.33917563 -2.9544469 ] 1\n",
      "[-11.57178593  -3.85275513] 1\n",
      "[-11.42257341  -4.85679127] 1\n",
      "[-10.44518578  -3.76476563] 1\n",
      "[-10.44603561  -3.26065964] 1\n",
      "[-0.61947075  3.48804983] 0\n",
      "[-10.91115591  -4.5772537 ] 1\n",
      "0 500\n",
      "1 500\n"
     ]
    }
   ],
   "source": [
    "from numpy import where\n",
    "from collections import Counter\n",
    "from sklearn.datasets import make_blobs\n",
    "from matplotlib import pyplot\n",
    "# define dataset\n",
    "X, y = make_blobs(n_samples=1000, centers=2, random_state=1)\n",
    "# summarize dataset shape\n",
    "print(X.shape, y.shape)\n",
    "# summarize observations by class label\n",
    "counter = Counter(y)\n",
    "print(counter)\n",
    "# summarize first few examples\n",
    "for i in range(10):\n",
    "\tprint(X[i], y[i])\n",
    "# plot the dataset and color the by class label\n",
    "for label, _ in counter.items():\n",
    "    print(label,_)\n",
    "    row_ix = where(y == label)\n",
    "#     pyplot.scatter(X[row_ix, 0], X[row_ix, 1], label=str(label))\n",
    "# pyplot.legend()\n",
    "# pyplot.show()\n"
   ]
  },
  {
   "cell_type": "code",
   "execution_count": 143,
   "metadata": {},
   "outputs": [
    {
     "ename": "TypeError",
     "evalue": "cannot do slice indexing on <class 'pandas.core.indexes.range.RangeIndex'> with these indexers [5907.1] of <class 'float'>",
     "output_type": "error",
     "traceback": [
      "\u001b[0;31m---------------------------------------------------------------------------\u001b[0m",
      "\u001b[0;31mTypeError\u001b[0m                                 Traceback (most recent call last)",
      "\u001b[0;32m<ipython-input-143-761a5736b613>\u001b[0m in \u001b[0;36m<module>\u001b[0;34m\u001b[0m\n\u001b[0;32m----> 1\u001b[0;31m \u001b[0mpeople1\u001b[0m\u001b[0;34m=\u001b[0m\u001b[0mpeople\u001b[0m\u001b[0;34m[\u001b[0m\u001b[0;34m:\u001b[0m\u001b[0mlen\u001b[0m\u001b[0;34m(\u001b[0m\u001b[0mpeople\u001b[0m\u001b[0;34m)\u001b[0m\u001b[0;34m/\u001b[0m\u001b[0;36m10\u001b[0m\u001b[0;34m]\u001b[0m\u001b[0;34m\u001b[0m\u001b[0;34m\u001b[0m\u001b[0m\n\u001b[0m\u001b[1;32m      2\u001b[0m \u001b[0;32mfrom\u001b[0m \u001b[0msklearn\u001b[0m\u001b[0;34m.\u001b[0m\u001b[0mfeature_extraction\u001b[0m \u001b[0;32mimport\u001b[0m \u001b[0mDictVectorizer\u001b[0m\u001b[0;34m\u001b[0m\u001b[0;34m\u001b[0m\u001b[0m\n\u001b[1;32m      3\u001b[0m \u001b[0mvec\u001b[0m \u001b[0;34m=\u001b[0m \u001b[0mDictVectorizer\u001b[0m\u001b[0;34m(\u001b[0m\u001b[0;34m)\u001b[0m\u001b[0;34m\u001b[0m\u001b[0;34m\u001b[0m\u001b[0m\n\u001b[1;32m      4\u001b[0m \u001b[0;34m\u001b[0m\u001b[0m\n\u001b[1;32m      5\u001b[0m \u001b[0mvec\u001b[0m\u001b[0;34m.\u001b[0m\u001b[0mfit_transform\u001b[0m\u001b[0;34m(\u001b[0m\u001b[0mobama\u001b[0m\u001b[0;34m[\u001b[0m\u001b[0;34m\"word_count\"\u001b[0m\u001b[0;34m]\u001b[0m\u001b[0;34m)\u001b[0m\u001b[0;34m.\u001b[0m\u001b[0mtoarray\u001b[0m\u001b[0;34m(\u001b[0m\u001b[0;34m)\u001b[0m\u001b[0;34m\u001b[0m\u001b[0;34m\u001b[0m\u001b[0m\n",
      "\u001b[0;32m~/anaconda3/lib/python3.7/site-packages/pandas/core/frame.py\u001b[0m in \u001b[0;36m__getitem__\u001b[0;34m(self, key)\u001b[0m\n\u001b[1;32m   2777\u001b[0m \u001b[0;34m\u001b[0m\u001b[0m\n\u001b[1;32m   2778\u001b[0m         \u001b[0;31m# Do we have a slicer (on rows)?\u001b[0m\u001b[0;34m\u001b[0m\u001b[0;34m\u001b[0m\u001b[0;34m\u001b[0m\u001b[0m\n\u001b[0;32m-> 2779\u001b[0;31m         \u001b[0mindexer\u001b[0m \u001b[0;34m=\u001b[0m \u001b[0mconvert_to_index_sliceable\u001b[0m\u001b[0;34m(\u001b[0m\u001b[0mself\u001b[0m\u001b[0;34m,\u001b[0m \u001b[0mkey\u001b[0m\u001b[0;34m)\u001b[0m\u001b[0;34m\u001b[0m\u001b[0;34m\u001b[0m\u001b[0m\n\u001b[0m\u001b[1;32m   2780\u001b[0m         \u001b[0;32mif\u001b[0m \u001b[0mindexer\u001b[0m \u001b[0;32mis\u001b[0m \u001b[0;32mnot\u001b[0m \u001b[0;32mNone\u001b[0m\u001b[0;34m:\u001b[0m\u001b[0;34m\u001b[0m\u001b[0;34m\u001b[0m\u001b[0m\n\u001b[1;32m   2781\u001b[0m             \u001b[0;31m# either we have a slice or we have a string that can be converted\u001b[0m\u001b[0;34m\u001b[0m\u001b[0;34m\u001b[0m\u001b[0;34m\u001b[0m\u001b[0m\n",
      "\u001b[0;32m~/anaconda3/lib/python3.7/site-packages/pandas/core/indexing.py\u001b[0m in \u001b[0;36mconvert_to_index_sliceable\u001b[0;34m(obj, key)\u001b[0m\n\u001b[1;32m   2264\u001b[0m     \u001b[0midx\u001b[0m \u001b[0;34m=\u001b[0m \u001b[0mobj\u001b[0m\u001b[0;34m.\u001b[0m\u001b[0mindex\u001b[0m\u001b[0;34m\u001b[0m\u001b[0;34m\u001b[0m\u001b[0m\n\u001b[1;32m   2265\u001b[0m     \u001b[0;32mif\u001b[0m \u001b[0misinstance\u001b[0m\u001b[0;34m(\u001b[0m\u001b[0mkey\u001b[0m\u001b[0;34m,\u001b[0m \u001b[0mslice\u001b[0m\u001b[0;34m)\u001b[0m\u001b[0;34m:\u001b[0m\u001b[0;34m\u001b[0m\u001b[0;34m\u001b[0m\u001b[0m\n\u001b[0;32m-> 2266\u001b[0;31m         \u001b[0;32mreturn\u001b[0m \u001b[0midx\u001b[0m\u001b[0;34m.\u001b[0m\u001b[0m_convert_slice_indexer\u001b[0m\u001b[0;34m(\u001b[0m\u001b[0mkey\u001b[0m\u001b[0;34m,\u001b[0m \u001b[0mkind\u001b[0m\u001b[0;34m=\u001b[0m\u001b[0;34m\"getitem\"\u001b[0m\u001b[0;34m)\u001b[0m\u001b[0;34m\u001b[0m\u001b[0;34m\u001b[0m\u001b[0m\n\u001b[0m\u001b[1;32m   2267\u001b[0m \u001b[0;34m\u001b[0m\u001b[0m\n\u001b[1;32m   2268\u001b[0m     \u001b[0;32melif\u001b[0m \u001b[0misinstance\u001b[0m\u001b[0;34m(\u001b[0m\u001b[0mkey\u001b[0m\u001b[0;34m,\u001b[0m \u001b[0mstr\u001b[0m\u001b[0;34m)\u001b[0m\u001b[0;34m:\u001b[0m\u001b[0;34m\u001b[0m\u001b[0;34m\u001b[0m\u001b[0m\n",
      "\u001b[0;32m~/anaconda3/lib/python3.7/site-packages/pandas/core/indexes/base.py\u001b[0m in \u001b[0;36m_convert_slice_indexer\u001b[0;34m(self, key, kind)\u001b[0m\n\u001b[1;32m   2937\u001b[0m                 return slice(\n\u001b[1;32m   2938\u001b[0m                     \u001b[0mself\u001b[0m\u001b[0;34m.\u001b[0m\u001b[0m_validate_indexer\u001b[0m\u001b[0;34m(\u001b[0m\u001b[0;34m\"slice\"\u001b[0m\u001b[0;34m,\u001b[0m \u001b[0mkey\u001b[0m\u001b[0;34m.\u001b[0m\u001b[0mstart\u001b[0m\u001b[0;34m,\u001b[0m \u001b[0mkind\u001b[0m\u001b[0;34m)\u001b[0m\u001b[0;34m,\u001b[0m\u001b[0;34m\u001b[0m\u001b[0;34m\u001b[0m\u001b[0m\n\u001b[0;32m-> 2939\u001b[0;31m                     \u001b[0mself\u001b[0m\u001b[0;34m.\u001b[0m\u001b[0m_validate_indexer\u001b[0m\u001b[0;34m(\u001b[0m\u001b[0;34m\"slice\"\u001b[0m\u001b[0;34m,\u001b[0m \u001b[0mkey\u001b[0m\u001b[0;34m.\u001b[0m\u001b[0mstop\u001b[0m\u001b[0;34m,\u001b[0m \u001b[0mkind\u001b[0m\u001b[0;34m)\u001b[0m\u001b[0;34m,\u001b[0m\u001b[0;34m\u001b[0m\u001b[0;34m\u001b[0m\u001b[0m\n\u001b[0m\u001b[1;32m   2940\u001b[0m                     \u001b[0mself\u001b[0m\u001b[0;34m.\u001b[0m\u001b[0m_validate_indexer\u001b[0m\u001b[0;34m(\u001b[0m\u001b[0;34m\"slice\"\u001b[0m\u001b[0;34m,\u001b[0m \u001b[0mkey\u001b[0m\u001b[0;34m.\u001b[0m\u001b[0mstep\u001b[0m\u001b[0;34m,\u001b[0m \u001b[0mkind\u001b[0m\u001b[0;34m)\u001b[0m\u001b[0;34m,\u001b[0m\u001b[0;34m\u001b[0m\u001b[0;34m\u001b[0m\u001b[0m\n\u001b[1;32m   2941\u001b[0m                 )\n",
      "\u001b[0;32m~/anaconda3/lib/python3.7/site-packages/pandas/core/indexes/base.py\u001b[0m in \u001b[0;36m_validate_indexer\u001b[0;34m(self, form, key, kind)\u001b[0m\n\u001b[1;32m   4748\u001b[0m             \u001b[0;32mpass\u001b[0m\u001b[0;34m\u001b[0m\u001b[0;34m\u001b[0m\u001b[0m\n\u001b[1;32m   4749\u001b[0m         \u001b[0;32melif\u001b[0m \u001b[0mkind\u001b[0m \u001b[0;32min\u001b[0m \u001b[0;34m[\u001b[0m\u001b[0;34m\"iloc\"\u001b[0m\u001b[0;34m,\u001b[0m \u001b[0;34m\"getitem\"\u001b[0m\u001b[0;34m]\u001b[0m\u001b[0;34m:\u001b[0m\u001b[0;34m\u001b[0m\u001b[0;34m\u001b[0m\u001b[0m\n\u001b[0;32m-> 4750\u001b[0;31m             \u001b[0mself\u001b[0m\u001b[0;34m.\u001b[0m\u001b[0m_invalid_indexer\u001b[0m\u001b[0;34m(\u001b[0m\u001b[0mform\u001b[0m\u001b[0;34m,\u001b[0m \u001b[0mkey\u001b[0m\u001b[0;34m)\u001b[0m\u001b[0;34m\u001b[0m\u001b[0;34m\u001b[0m\u001b[0m\n\u001b[0m\u001b[1;32m   4751\u001b[0m         \u001b[0;32mreturn\u001b[0m \u001b[0mkey\u001b[0m\u001b[0;34m\u001b[0m\u001b[0;34m\u001b[0m\u001b[0m\n\u001b[1;32m   4752\u001b[0m \u001b[0;34m\u001b[0m\u001b[0m\n",
      "\u001b[0;32m~/anaconda3/lib/python3.7/site-packages/pandas/core/indexes/base.py\u001b[0m in \u001b[0;36m_invalid_indexer\u001b[0;34m(self, form, key)\u001b[0m\n\u001b[1;32m   3075\u001b[0m         \"\"\"\n\u001b[1;32m   3076\u001b[0m         raise TypeError(\n\u001b[0;32m-> 3077\u001b[0;31m             \u001b[0;34mf\"cannot do {form} indexing on {type(self)} with these \"\u001b[0m\u001b[0;34m\u001b[0m\u001b[0;34m\u001b[0m\u001b[0m\n\u001b[0m\u001b[1;32m   3078\u001b[0m             \u001b[0;34mf\"indexers [{key}] of {type(key)}\"\u001b[0m\u001b[0;34m\u001b[0m\u001b[0;34m\u001b[0m\u001b[0m\n\u001b[1;32m   3079\u001b[0m         )\n",
      "\u001b[0;31mTypeError\u001b[0m: cannot do slice indexing on <class 'pandas.core.indexes.range.RangeIndex'> with these indexers [5907.1] of <class 'float'>"
     ]
    }
   ],
   "source": [
    "people1=people[:len(people)/10]\n",
    "from sklearn.feature_extraction import DictVectorizer\n",
    "vec = DictVectorizer()\n",
    "\n",
    "vec.fit_transform(obama[\"word_count\"]).toarray()\n",
    "# vec.get_feature_names()"
   ]
  },
  {
   "cell_type": "code",
   "execution_count": null,
   "metadata": {},
   "outputs": [],
   "source": []
  }
 ],
 "metadata": {
  "kernelspec": {
   "display_name": "Python 3",
   "language": "python",
   "name": "python3"
  },
  "language_info": {
   "codemirror_mode": {
    "name": "ipython",
    "version": 3
   },
   "file_extension": ".py",
   "mimetype": "text/x-python",
   "name": "python",
   "nbconvert_exporter": "python",
   "pygments_lexer": "ipython3",
   "version": "3.7.6"
  }
 },
 "nbformat": 4,
 "nbformat_minor": 4
}
