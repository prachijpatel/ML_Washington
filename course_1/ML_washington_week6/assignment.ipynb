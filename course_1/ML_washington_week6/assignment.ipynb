{
 "cells": [
  {
   "cell_type": "code",
   "execution_count": 1,
   "metadata": {},
   "outputs": [],
   "source": [
    "import turicreate\n",
    "image_train = turicreate.SFrame('image_train_data/')\n",
    "image_test = turicreate.SFrame('image_test_data/')\n"
   ]
  },
  {
   "cell_type": "code",
   "execution_count": 2,
   "metadata": {},
   "outputs": [
    {
     "data": {
      "text/html": [
       "<html lang=\"en\">                                                     <head>                                                               <style>                                                              .sframe {                                                            font-size: 12px;                                                   font-family: HelveticaNeue;                                        border: 1px solid silver;                                        }                                                                  .sframe thead th {                                                   background: #F7F7F7;                                               font-family: HelveticaNeue-Medium;                                 font-size: 14px;                                                   line-height: 16.8px;                                               padding-top: 16px;                                                 padding-bottom: 16px;                                              padding-left: 10px;                                                padding-right: 38px;                                               border-top: 1px solid #E9E9E9;                                     border-bottom: 1px solid #E9E9E9;                                  white-space: nowrap;                                               overflow: hidden;                                                  text-overflow:ellipsis;                                            text-align:center;                                                 font-weight:normal;                                              }                                                                  .sframe tbody th {                                                   background: #FFFFFF;                                               text-align:left;                                                   font-weight:normal;                                                border-right: 1px solid #E9E9E9;                                 }                                                                  .sframe td {                                                         background: #FFFFFF;                                               padding-left: 10px;                                                padding-right: 38px;                                               padding-top: 14px;                                                 padding-bottom: 14px;                                              border-bottom: 1px solid #E9E9E9;                                  max-height: 0px;                                                   transition: max-height 5s ease-out;                                vertical-align: middle;                                            font-family: HelveticaNeue;                                        font-size: 12px;                                                   line-height: 16.8px;                                               background: #FFFFFF;                                             }                                                                  .sframe tr {                                                         padding-left: 10px;                                                padding-right: 38px;                                               padding-top: 14px;                                                 padding-bottom: 14px;                                              border-bottom: 1px solid #E9E9E9;                                  max-height: 0px;                                                   transition: max-height 5s ease-out;                                vertical-align: middle;                                            font-family: HelveticaNeue;                                        font-size: 12px;                                                   line-height: 16.8px;                                               background: #FFFFFF;                                             }                                                                  .sframe tr:hover {                                                   background: silver;                                              },                                                               </style>                                                         </head>                                                            <body>                                                               <h1>  </h1>                                             <table border=\"1\" class=\"dataframe sframe\">\n",
       "  <thead>\n",
       "    <tr style=\"text-align: right;\">\n",
       "      <th></th>\n",
       "      <th>SArray</th>\n",
       "    </tr>\n",
       "  </thead>\n",
       "  <tbody>\n",
       "    <tr>\n",
       "      <th>0</th>\n",
       "      <td><img src=\"data:image/png;base64,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\"/></td>\n",
       "    </tr>\n",
       "  </tbody>\n",
       "</table>                          </body>                                                          </html>"
      ],
      "text/plain": [
       "<IPython.core.display.HTML object>"
      ]
     },
     "metadata": {},
     "output_type": "display_data"
    }
   ],
   "source": [
    "image_train['image'][image_train['id']==45646].explore()"
   ]
  },
  {
   "cell_type": "code",
   "execution_count": 3,
   "metadata": {},
   "outputs": [
    {
     "data": {
      "text/html": [
       "<pre>Starting brute force nearest neighbors model training.</pre>"
      ],
      "text/plain": [
       "Starting brute force nearest neighbors model training."
      ]
     },
     "metadata": {},
     "output_type": "display_data"
    },
    {
     "data": {
      "text/html": [
       "<pre>Validating distance components.</pre>"
      ],
      "text/plain": [
       "Validating distance components."
      ]
     },
     "metadata": {},
     "output_type": "display_data"
    },
    {
     "data": {
      "text/html": [
       "<pre>Initializing model data.</pre>"
      ],
      "text/plain": [
       "Initializing model data."
      ]
     },
     "metadata": {},
     "output_type": "display_data"
    },
    {
     "data": {
      "text/html": [
       "<pre>Initializing distances.</pre>"
      ],
      "text/plain": [
       "Initializing distances."
      ]
     },
     "metadata": {},
     "output_type": "display_data"
    },
    {
     "data": {
      "text/html": [
       "<pre>Done.</pre>"
      ],
      "text/plain": [
       "Done."
      ]
     },
     "metadata": {},
     "output_type": "display_data"
    }
   ],
   "source": [
    "knn_model = turicreate.nearest_neighbors.create(image_train,\n",
    "                                               features = ['deep_features'],\n",
    "                                               label = 'id')"
   ]
  },
  {
   "cell_type": "code",
   "execution_count": 4,
   "metadata": {},
   "outputs": [
    {
     "data": {
      "text/html": [
       "<pre>Starting pairwise querying.</pre>"
      ],
      "text/plain": [
       "Starting pairwise querying."
      ]
     },
     "metadata": {},
     "output_type": "display_data"
    },
    {
     "data": {
      "text/html": [
       "<pre>+--------------+---------+-------------+--------------+</pre>"
      ],
      "text/plain": [
       "+--------------+---------+-------------+--------------+"
      ]
     },
     "metadata": {},
     "output_type": "display_data"
    },
    {
     "data": {
      "text/html": [
       "<pre>| Query points | # Pairs | % Complete. | Elapsed Time |</pre>"
      ],
      "text/plain": [
       "| Query points | # Pairs | % Complete. | Elapsed Time |"
      ]
     },
     "metadata": {},
     "output_type": "display_data"
    },
    {
     "data": {
      "text/html": [
       "<pre>+--------------+---------+-------------+--------------+</pre>"
      ],
      "text/plain": [
       "+--------------+---------+-------------+--------------+"
      ]
     },
     "metadata": {},
     "output_type": "display_data"
    },
    {
     "data": {
      "text/html": [
       "<pre>| 0            | 1       | 0.0498753   | 9.076ms      |</pre>"
      ],
      "text/plain": [
       "| 0            | 1       | 0.0498753   | 9.076ms      |"
      ]
     },
     "metadata": {},
     "output_type": "display_data"
    },
    {
     "data": {
      "text/html": [
       "<pre>| Done         |         | 100         | 102.967ms    |</pre>"
      ],
      "text/plain": [
       "| Done         |         | 100         | 102.967ms    |"
      ]
     },
     "metadata": {},
     "output_type": "display_data"
    },
    {
     "data": {
      "text/html": [
       "<pre>+--------------+---------+-------------+--------------+</pre>"
      ],
      "text/plain": [
       "+--------------+---------+-------------+--------------+"
      ]
     },
     "metadata": {},
     "output_type": "display_data"
    },
    {
     "data": {
      "text/html": [
       "<pre>Starting pairwise querying.</pre>"
      ],
      "text/plain": [
       "Starting pairwise querying."
      ]
     },
     "metadata": {},
     "output_type": "display_data"
    },
    {
     "data": {
      "text/html": [
       "<pre>+--------------+---------+-------------+--------------+</pre>"
      ],
      "text/plain": [
       "+--------------+---------+-------------+--------------+"
      ]
     },
     "metadata": {},
     "output_type": "display_data"
    },
    {
     "data": {
      "text/html": [
       "<pre>| Query points | # Pairs | % Complete. | Elapsed Time |</pre>"
      ],
      "text/plain": [
       "| Query points | # Pairs | % Complete. | Elapsed Time |"
      ]
     },
     "metadata": {},
     "output_type": "display_data"
    },
    {
     "data": {
      "text/html": [
       "<pre>+--------------+---------+-------------+--------------+</pre>"
      ],
      "text/plain": [
       "+--------------+---------+-------------+--------------+"
      ]
     },
     "metadata": {},
     "output_type": "display_data"
    },
    {
     "data": {
      "text/html": [
       "<pre>| 0            | 1       | 0.0498753   | 9.236ms      |</pre>"
      ],
      "text/plain": [
       "| 0            | 1       | 0.0498753   | 9.236ms      |"
      ]
     },
     "metadata": {},
     "output_type": "display_data"
    },
    {
     "data": {
      "text/html": [
       "<pre>| Done         |         | 100         | 89.226ms     |</pre>"
      ],
      "text/plain": [
       "| Done         |         | 100         | 89.226ms     |"
      ]
     },
     "metadata": {},
     "output_type": "display_data"
    },
    {
     "data": {
      "text/html": [
       "<pre>+--------------+---------+-------------+--------------+</pre>"
      ],
      "text/plain": [
       "+--------------+---------+-------------+--------------+"
      ]
     },
     "metadata": {},
     "output_type": "display_data"
    },
    {
     "data": {
      "text/html": [
       "<html lang=\"en\">                                                     <head>                                                               <style>                                                              .sframe {                                                            font-size: 12px;                                                   font-family: HelveticaNeue;                                        border: 1px solid silver;                                        }                                                                  .sframe thead th {                                                   background: #F7F7F7;                                               font-family: HelveticaNeue-Medium;                                 font-size: 14px;                                                   line-height: 16.8px;                                               padding-top: 16px;                                                 padding-bottom: 16px;                                              padding-left: 10px;                                                padding-right: 38px;                                               border-top: 1px solid #E9E9E9;                                     border-bottom: 1px solid #E9E9E9;                                  white-space: nowrap;                                               overflow: hidden;                                                  text-overflow:ellipsis;                                            text-align:center;                                                 font-weight:normal;                                              }                                                                  .sframe tbody th {                                                   background: #FFFFFF;                                               text-align:left;                                                   font-weight:normal;                                                border-right: 1px solid #E9E9E9;                                 }                                                                  .sframe td {                                                         background: #FFFFFF;                                               padding-left: 10px;                                                padding-right: 38px;                                               padding-top: 14px;                                                 padding-bottom: 14px;                                              border-bottom: 1px solid #E9E9E9;                                  max-height: 0px;                                                   transition: max-height 5s ease-out;                                vertical-align: middle;                                            font-family: HelveticaNeue;                                        font-size: 12px;                                                   line-height: 16.8px;                                               background: #FFFFFF;                                             }                                                                  .sframe tr {                                                         padding-left: 10px;                                                padding-right: 38px;                                               padding-top: 14px;                                                 padding-bottom: 14px;                                              border-bottom: 1px solid #E9E9E9;                                  max-height: 0px;                                                   transition: max-height 5s ease-out;                                vertical-align: middle;                                            font-family: HelveticaNeue;                                        font-size: 12px;                                                   line-height: 16.8px;                                               background: #FFFFFF;                                             }                                                                  .sframe tr:hover {                                                   background: silver;                                              },                                                               </style>                                                         </head>                                                            <body>                                                               <h1>  </h1>                                             <table border=\"1\" class=\"dataframe sframe\">\n",
       "  <thead>\n",
       "    <tr style=\"text-align: right;\">\n",
       "      <th></th>\n",
       "      <th>SArray</th>\n",
       "    </tr>\n",
       "  </thead>\n",
       "  <tbody>\n",
       "    <tr>\n",
       "      <th>0</th>\n",
       "      <td><img src=\"data:image/png;base64,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\"/></td>\n",
       "    </tr>\n",
       "    <tr>\n",
       "      <th>1</th>\n",
       "      <td><img src=\"data:image/png;base64,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\"/></td>\n",
       "    </tr>\n",
       "    <tr>\n",
       "      <th>2</th>\n",
       "      <td><img src=\"data:image/png;base64,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\"/></td>\n",
       "    </tr>\n",
       "    <tr>\n",
       "      <th>3</th>\n",
       "      <td><img src=\"data:image/png;base64,iVBORw0KGgoAAAANSUhEUgAAACAAAAAgCAIAAAD8GO2jAAAIVUlEQVR4nAXB2XJkx3EA0MysrLpL39vdQAMgMeKYFidCYVuS3/2Z/gj7b+w32UFJYXEoBAZLo9e71ZKZPgf//T//Y7fb3d/f911PzmXTbOpEKi0MxSwrFtSoaREVMChSVETUkoJpJslgBV3IxkiubWsxVKy67X292pKv+Ycff7zZrkH1ej04BHQekTVeL6e/L8e/y3LKeZI4S1qklJRzSqmqKnJUvAPQ4XQsMbfdrVLz/vGRypyKGDWfvvz+y7/+2/bxC7frtRHmuDiUwGhlKMNp3H89Pv1p+vgVc/TOc+V9HWrvvWUZL1VYbfvbsNkuyzy/P2uOZdCCwZO+7N+Gy9k5fz5dIPT/1N8zBy8lMhmV5bo/Hl9+md/+Csue0qmB5EPF3Fpda3Dofdv2WLXTNFu1Cs3D2/5JsQtta4iH/SFhtb77jK4dzxcEh4omwExQ0nB++svp6//k47NMB8QleDKwZJwRHaqlHK9TWkZCReY5yyx0l/ntsMe2m0s6vH2s6+3ahaGIdFvx/c2nn7rvPqlDdqDDef9/f/qvsv+ls9HK5BuP2ABxUUPn1ttts1qP4/T+bblcTsM0D1n4cj0t5qpme7PTcQSfwmqz3fQ8DTjnyjU3v/kHblZqxljSdf+chv2qsjSnLKVRHxz7UJtoUfs4npb9YU5R85wIZtDTMi1T5M0//vT5SxXY+8397ofxevm2f82aZrHrPFbTsskq2VjitJzfWQazYYoDkptSlmEKtSKxEQO5XMr1cmUSUEEAds6BW2/vttsHi3Pfbdnjn08fT2/fyLNgOA5lvZSSTQV4vp4u+2eN1ylfpmUiDt6BmluyKSAxV1UdnGvZS8o5Zyjqwbm6Xa/6VVWbShquL6fX/cuTIyPvD6frOOmSFilFRfny/nU+PKVlmqOYEmdBdM7Vdb8RLWkZ43C0nNKypFKyQRQAx6p2vZxe356H06HEcRqOVsp3my1V4W67Lq7iFbNLCImvh7c8DwCowABFVYmYOBQF5wK5Jc4pxvk8DrGIIFGo61V7PV3/8vN/v718vZyOnolMAvPj4+PD7s7YR3ARa6dKYjxeTjlFkKxIhq6pm/vvP/W3D9d5OZ9PSxIFV5zHtsOcQcWcjfNQyuRQ8hRNooL3VbPq267r5yntT+9QNxY2XBcR4xInByoACtSsNvd3t9vdfdNtfLcJTTMP9Xj+gGXub2pVuQ7n8+VkJf34sPPe5VRWVee4TQWruhfwH8fTcRiwqAVuRJIBowk5ZyAMzrFHDsUgFgH2zapbtdW6X52Op+sweuJme79tuxTnEJgYR4tzNPT+fB6O5/dk1XEc3k6H5Xha3cKtSATjJCU5JkgtFcnTEvvOoJSEWqqq8n7Vtauuv00pixQRIYSU0rdvz68f70CcFYcxaagOl+H0tz9/nF5fPw6u7r/Ua5CCRVlE0DETg5aU4vmw1xQdOSIiwqqqiBz50G22N5t1TCnnHLx/fHys60oRi2I25Hr1/PL+8v4iKZZlIVeDKiECGCMgs4MMqopEKc5DHgnBzESEiKqq4qp9f3lmZlVVFSJ3t7v94+9+UrUpFiWeszkRJ9FpkixjRjRAAEBiZq66vkxxkUREGBAtA6hn9sAiio5Mcpyuo4j33rNH72sHOg05l5KKIEsxl+aWcFu3v/30+fk0OCJyRM4xOdIkpWjMCkD9es2eU4pd27RNfT4dU1xyKaGqOu+dw5IzoYCmNF5FVLJmoJiFrPRtPS+LANyBW7WtZwYARkJNSa2yUAeydX/r2k1MEUua55mUKhegbprNjsmu548lLZrix3lfQifFooiQG3OZUjJkDtiH4GvPrfdmaMhFzADbfptnmYfT4WOPp7MYmErJmYj69eb27h6I5umaDZLiOMVhehtX0VMoYIKUDbPqEkdRXXWtWJG0aE4gwlktzjEYxYxiOM8zwcChVmR1gZsOV9tFYPh4HcfBTLLiIjgOQ8q43WzJccrCob7ZbsZhOJ8PJcU6VBo8SEYTJvYKlBWTAvuqYmZCNUwpZ7WK3PV6/ZguTqOAGkBWmAvM6jDndL0wB0e+Qu6Quq5L81WsVH51nIfxer5XYfSrAo4RtMRsik2bQc+XS86lClVK8zSOJqkKZIhFbU5FwHHVNtseweYltkyAOA5j17aOw3idzuPrOflmN4gk5vXjIP8L87k2WbLbn6XoOE0DIguKoC0pqZUxi3Mu51xEzLSuG25uSsnzMAGOgTEtlkMLfjPrdS4xA2YrYsqbu52F8LY/VqQpYxQTi4RYSow5bzfsKl+iLDGWIjknAGzbJlRVSmlJs6iMc7KigSql2lX1qu8gwjKbIooB99tdf/f47fmvupy9c4CYSnaOVUGAsikZxpKWnIjICAGwmA3zGPMl5cU0gco4pTqssF4C5CSLoimgoRNwzGH38Plfnp5+ffl1qHIBK0mT856IyYcxziKaU1xybNsWgFQtSjqPFwQw0JxnNWPXdE2XzI7713E6ADvlGyM2ZAZqVpvHH376g2p5/fpzSYuCYDHAkguIUo45pohoKrOqzPNCRGbmnFW1Q+eCr9brO3V+fznG6ShaStbN/abrbxGZCyi4sLn7zW8Z0VdPv/xcloPkJCXFmHNMWjSmSA6998xsWmIWZvIOHBK7gOjjEpc0L3FSNIC27R933/++6R4QgEGd9x1gJ9bvHn6H1O73fzsf38oyLnmepwuYqgmYNb5iYGMTpwoIkUpMHMgxACn7qlvvuL9Z9bfb28fbh8/V5jaBMgLUdbfZfl8KAXVV+93Nd/88XI/zdJnH0zKfc5piGtWycw4JHTn2XIU6cB/8qm67ZrXp+ptVt6na3tcr9gEdk+OiFnP5fyvmNfuC8sSxAAAAAElFTkSuQmCC\"/></td>\n",
       "    </tr>\n",
       "    <tr>\n",
       "      <th>4</th>\n",
       "      <td><img src=\"data:image/png;base64,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\"/></td>\n",
       "    </tr>\n",
       "  </tbody>\n",
       "</table>                          </body>                                                          </html>"
      ],
      "text/plain": [
       "<IPython.core.display.HTML object>"
      ]
     },
     "metadata": {},
     "output_type": "display_data"
    }
   ],
   "source": [
    "cat = image_train[18:19]\n",
    "knn_model.query(cat)\n",
    "def get_images_from_ids(query_result):\n",
    "    return image_train.filter_by(query_result['reference_label'],'id')\n",
    "get_images_from_ids(knn_model.query(cat))['image'].explore()"
   ]
  },
  {
   "cell_type": "code",
   "execution_count": 5,
   "metadata": {},
   "outputs": [],
   "source": [
    "dog_frame=image_train[image_train[\"label\"]==\"dog\"]"
   ]
  },
  {
   "cell_type": "code",
   "execution_count": 6,
   "metadata": {},
   "outputs": [],
   "source": [
    "cat_frame=image_train[image_train[\"label\"]==\"cat\"]"
   ]
  },
  {
   "cell_type": "code",
   "execution_count": 7,
   "metadata": {},
   "outputs": [],
   "source": [
    "bird_frame=image_train[image_train[\"label\"]==\"bird\"]"
   ]
  },
  {
   "cell_type": "code",
   "execution_count": 8,
   "metadata": {},
   "outputs": [],
   "source": [
    "car_frame=image_train[image_train[\"label\"]==\"automobile\"]"
   ]
  },
  {
   "cell_type": "code",
   "execution_count": null,
   "metadata": {},
   "outputs": [],
   "source": []
  },
  {
   "cell_type": "code",
   "execution_count": 9,
   "metadata": {},
   "outputs": [
    {
     "data": {
      "text/html": [
       "<pre>Starting brute force nearest neighbors model training.</pre>"
      ],
      "text/plain": [
       "Starting brute force nearest neighbors model training."
      ]
     },
     "metadata": {},
     "output_type": "display_data"
    },
    {
     "data": {
      "text/html": [
       "<pre>Validating distance components.</pre>"
      ],
      "text/plain": [
       "Validating distance components."
      ]
     },
     "metadata": {},
     "output_type": "display_data"
    },
    {
     "data": {
      "text/html": [
       "<pre>Initializing model data.</pre>"
      ],
      "text/plain": [
       "Initializing model data."
      ]
     },
     "metadata": {},
     "output_type": "display_data"
    },
    {
     "data": {
      "text/html": [
       "<pre>Initializing distances.</pre>"
      ],
      "text/plain": [
       "Initializing distances."
      ]
     },
     "metadata": {},
     "output_type": "display_data"
    },
    {
     "data": {
      "text/html": [
       "<pre>Done.</pre>"
      ],
      "text/plain": [
       "Done."
      ]
     },
     "metadata": {},
     "output_type": "display_data"
    }
   ],
   "source": [
    "dog_model = turicreate.nearest_neighbors.create(dog_frame,\n",
    "                                               features = ['deep_features'],\n",
    "                                               label = 'id')"
   ]
  },
  {
   "cell_type": "code",
   "execution_count": 10,
   "metadata": {},
   "outputs": [
    {
     "data": {
      "text/html": [
       "<pre>Starting brute force nearest neighbors model training.</pre>"
      ],
      "text/plain": [
       "Starting brute force nearest neighbors model training."
      ]
     },
     "metadata": {},
     "output_type": "display_data"
    },
    {
     "data": {
      "text/html": [
       "<pre>Validating distance components.</pre>"
      ],
      "text/plain": [
       "Validating distance components."
      ]
     },
     "metadata": {},
     "output_type": "display_data"
    },
    {
     "data": {
      "text/html": [
       "<pre>Initializing model data.</pre>"
      ],
      "text/plain": [
       "Initializing model data."
      ]
     },
     "metadata": {},
     "output_type": "display_data"
    },
    {
     "data": {
      "text/html": [
       "<pre>Initializing distances.</pre>"
      ],
      "text/plain": [
       "Initializing distances."
      ]
     },
     "metadata": {},
     "output_type": "display_data"
    },
    {
     "data": {
      "text/html": [
       "<pre>Done.</pre>"
      ],
      "text/plain": [
       "Done."
      ]
     },
     "metadata": {},
     "output_type": "display_data"
    }
   ],
   "source": [
    "cat_model = turicreate.nearest_neighbors.create(cat_frame,\n",
    "                                               features = ['deep_features'],\n",
    "                                               label = 'id')"
   ]
  },
  {
   "cell_type": "code",
   "execution_count": 11,
   "metadata": {},
   "outputs": [
    {
     "data": {
      "text/html": [
       "<pre>Starting brute force nearest neighbors model training.</pre>"
      ],
      "text/plain": [
       "Starting brute force nearest neighbors model training."
      ]
     },
     "metadata": {},
     "output_type": "display_data"
    },
    {
     "data": {
      "text/html": [
       "<pre>Validating distance components.</pre>"
      ],
      "text/plain": [
       "Validating distance components."
      ]
     },
     "metadata": {},
     "output_type": "display_data"
    },
    {
     "data": {
      "text/html": [
       "<pre>Initializing model data.</pre>"
      ],
      "text/plain": [
       "Initializing model data."
      ]
     },
     "metadata": {},
     "output_type": "display_data"
    },
    {
     "data": {
      "text/html": [
       "<pre>Initializing distances.</pre>"
      ],
      "text/plain": [
       "Initializing distances."
      ]
     },
     "metadata": {},
     "output_type": "display_data"
    },
    {
     "data": {
      "text/html": [
       "<pre>Done.</pre>"
      ],
      "text/plain": [
       "Done."
      ]
     },
     "metadata": {},
     "output_type": "display_data"
    }
   ],
   "source": [
    "bird_model = turicreate.nearest_neighbors.create(bird_frame,\n",
    "                                               features = ['deep_features'],\n",
    "                                               label = 'id')"
   ]
  },
  {
   "cell_type": "code",
   "execution_count": 12,
   "metadata": {},
   "outputs": [
    {
     "data": {
      "text/html": [
       "<pre>Starting brute force nearest neighbors model training.</pre>"
      ],
      "text/plain": [
       "Starting brute force nearest neighbors model training."
      ]
     },
     "metadata": {},
     "output_type": "display_data"
    },
    {
     "data": {
      "text/html": [
       "<pre>Validating distance components.</pre>"
      ],
      "text/plain": [
       "Validating distance components."
      ]
     },
     "metadata": {},
     "output_type": "display_data"
    },
    {
     "data": {
      "text/html": [
       "<pre>Initializing model data.</pre>"
      ],
      "text/plain": [
       "Initializing model data."
      ]
     },
     "metadata": {},
     "output_type": "display_data"
    },
    {
     "data": {
      "text/html": [
       "<pre>Initializing distances.</pre>"
      ],
      "text/plain": [
       "Initializing distances."
      ]
     },
     "metadata": {},
     "output_type": "display_data"
    },
    {
     "data": {
      "text/html": [
       "<pre>Done.</pre>"
      ],
      "text/plain": [
       "Done."
      ]
     },
     "metadata": {},
     "output_type": "display_data"
    }
   ],
   "source": [
    "car_model = turicreate.nearest_neighbors.create(car_frame,\n",
    "                                               features = ['deep_features'],\n",
    "                                               label = 'id')"
   ]
  },
  {
   "cell_type": "code",
   "execution_count": 13,
   "metadata": {},
   "outputs": [],
   "source": [
    "show_neighbors = lambda i: get_images_from_ids(knn_model.query(image_data[i:i+1]))['image'].explore()"
   ]
  },
  {
   "cell_type": "code",
   "execution_count": 14,
   "metadata": {},
   "outputs": [
    {
     "data": {
      "text/html": [
       "<html lang=\"en\">                                                     <head>                                                               <style>                                                              .sframe {                                                            font-size: 12px;                                                   font-family: HelveticaNeue;                                        border: 1px solid silver;                                        }                                                                  .sframe thead th {                                                   background: #F7F7F7;                                               font-family: HelveticaNeue-Medium;                                 font-size: 14px;                                                   line-height: 16.8px;                                               padding-top: 16px;                                                 padding-bottom: 16px;                                              padding-left: 10px;                                                padding-right: 38px;                                               border-top: 1px solid #E9E9E9;                                     border-bottom: 1px solid #E9E9E9;                                  white-space: nowrap;                                               overflow: hidden;                                                  text-overflow:ellipsis;                                            text-align:center;                                                 font-weight:normal;                                              }                                                                  .sframe tbody th {                                                   background: #FFFFFF;                                               text-align:left;                                                   font-weight:normal;                                                border-right: 1px solid #E9E9E9;                                 }                                                                  .sframe td {                                                         background: #FFFFFF;                                               padding-left: 10px;                                                padding-right: 38px;                                               padding-top: 14px;                                                 padding-bottom: 14px;                                              border-bottom: 1px solid #E9E9E9;                                  max-height: 0px;                                                   transition: max-height 5s ease-out;                                vertical-align: middle;                                            font-family: HelveticaNeue;                                        font-size: 12px;                                                   line-height: 16.8px;                                               background: #FFFFFF;                                             }                                                                  .sframe tr {                                                         padding-left: 10px;                                                padding-right: 38px;                                               padding-top: 14px;                                                 padding-bottom: 14px;                                              border-bottom: 1px solid #E9E9E9;                                  max-height: 0px;                                                   transition: max-height 5s ease-out;                                vertical-align: middle;                                            font-family: HelveticaNeue;                                        font-size: 12px;                                                   line-height: 16.8px;                                               background: #FFFFFF;                                             }                                                                  .sframe tr:hover {                                                   background: silver;                                              },                                                               </style>                                                         </head>                                                            <body>                                                               <h1>  </h1>                                             <table border=\"1\" class=\"dataframe sframe\">\n",
       "  <thead>\n",
       "    <tr style=\"text-align: right;\">\n",
       "      <th></th>\n",
       "      <th>SArray</th>\n",
       "    </tr>\n",
       "  </thead>\n",
       "  <tbody>\n",
       "    <tr>\n",
       "      <th>0</th>\n",
       "      <td><img src=\"data:image/png;base64,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\"/></td>\n",
       "    </tr>\n",
       "  </tbody>\n",
       "</table>                          </body>                                                          </html>"
      ],
      "text/plain": [
       "<IPython.core.display.HTML object>"
      ]
     },
     "metadata": {},
     "output_type": "display_data"
    }
   ],
   "source": [
    "image_test[0:1][\"image\"].explore()"
   ]
  },
  {
   "cell_type": "code",
   "execution_count": 15,
   "metadata": {},
   "outputs": [
    {
     "data": {
      "text/html": [
       "<pre>Starting pairwise querying.</pre>"
      ],
      "text/plain": [
       "Starting pairwise querying."
      ]
     },
     "metadata": {},
     "output_type": "display_data"
    },
    {
     "data": {
      "text/html": [
       "<pre>+--------------+---------+-------------+--------------+</pre>"
      ],
      "text/plain": [
       "+--------------+---------+-------------+--------------+"
      ]
     },
     "metadata": {},
     "output_type": "display_data"
    },
    {
     "data": {
      "text/html": [
       "<pre>| Query points | # Pairs | % Complete. | Elapsed Time |</pre>"
      ],
      "text/plain": [
       "| Query points | # Pairs | % Complete. | Elapsed Time |"
      ]
     },
     "metadata": {},
     "output_type": "display_data"
    },
    {
     "data": {
      "text/html": [
       "<pre>+--------------+---------+-------------+--------------+</pre>"
      ],
      "text/plain": [
       "+--------------+---------+-------------+--------------+"
      ]
     },
     "metadata": {},
     "output_type": "display_data"
    },
    {
     "data": {
      "text/html": [
       "<pre>| 0            | 1       | 0.196464    | 7.126ms      |</pre>"
      ],
      "text/plain": [
       "| 0            | 1       | 0.196464    | 7.126ms      |"
      ]
     },
     "metadata": {},
     "output_type": "display_data"
    },
    {
     "data": {
      "text/html": [
       "<pre>| Done         |         | 100         | 39.355ms     |</pre>"
      ],
      "text/plain": [
       "| Done         |         | 100         | 39.355ms     |"
      ]
     },
     "metadata": {},
     "output_type": "display_data"
    },
    {
     "data": {
      "text/html": [
       "<pre>+--------------+---------+-------------+--------------+</pre>"
      ],
      "text/plain": [
       "+--------------+---------+-------------+--------------+"
      ]
     },
     "metadata": {},
     "output_type": "display_data"
    },
    {
     "data": {
      "text/html": [
       "<pre>Starting pairwise querying.</pre>"
      ],
      "text/plain": [
       "Starting pairwise querying."
      ]
     },
     "metadata": {},
     "output_type": "display_data"
    },
    {
     "data": {
      "text/html": [
       "<pre>+--------------+---------+-------------+--------------+</pre>"
      ],
      "text/plain": [
       "+--------------+---------+-------------+--------------+"
      ]
     },
     "metadata": {},
     "output_type": "display_data"
    },
    {
     "data": {
      "text/html": [
       "<pre>| Query points | # Pairs | % Complete. | Elapsed Time |</pre>"
      ],
      "text/plain": [
       "| Query points | # Pairs | % Complete. | Elapsed Time |"
      ]
     },
     "metadata": {},
     "output_type": "display_data"
    },
    {
     "data": {
      "text/html": [
       "<pre>+--------------+---------+-------------+--------------+</pre>"
      ],
      "text/plain": [
       "+--------------+---------+-------------+--------------+"
      ]
     },
     "metadata": {},
     "output_type": "display_data"
    },
    {
     "data": {
      "text/html": [
       "<pre>| 0            | 1       | 0.196464    | 7.883ms      |</pre>"
      ],
      "text/plain": [
       "| 0            | 1       | 0.196464    | 7.883ms      |"
      ]
     },
     "metadata": {},
     "output_type": "display_data"
    },
    {
     "data": {
      "text/html": [
       "<pre>| Done         |         | 100         | 35.636ms     |</pre>"
      ],
      "text/plain": [
       "| Done         |         | 100         | 35.636ms     |"
      ]
     },
     "metadata": {},
     "output_type": "display_data"
    },
    {
     "data": {
      "text/html": [
       "<pre>+--------------+---------+-------------+--------------+</pre>"
      ],
      "text/plain": [
       "+--------------+---------+-------------+--------------+"
      ]
     },
     "metadata": {},
     "output_type": "display_data"
    },
    {
     "name": "stdout",
     "output_type": "stream",
     "text": [
      "+-------------+-----------------+--------------------+------+\n",
      "| query_label | reference_label |      distance      | rank |\n",
      "+-------------+-----------------+--------------------+------+\n",
      "|      0      |      16289      | 34.62371920804245  |  1   |\n",
      "|      0      |      45646      | 36.00687992842462  |  2   |\n",
      "|      0      |      32139      | 36.52008134363789  |  3   |\n",
      "|      0      |      25713      | 36.754850252057054 |  4   |\n",
      "|      0      |       331       | 36.87312281675268  |  5   |\n",
      "+-------------+-----------------+--------------------+------+\n",
      "[5 rows x 4 columns]\n",
      "\n"
     ]
    },
    {
     "data": {
      "text/html": [
       "<pre>Starting pairwise querying.</pre>"
      ],
      "text/plain": [
       "Starting pairwise querying."
      ]
     },
     "metadata": {},
     "output_type": "display_data"
    },
    {
     "data": {
      "text/html": [
       "<pre>+--------------+---------+-------------+--------------+</pre>"
      ],
      "text/plain": [
       "+--------------+---------+-------------+--------------+"
      ]
     },
     "metadata": {},
     "output_type": "display_data"
    },
    {
     "data": {
      "text/html": [
       "<pre>| Query points | # Pairs | % Complete. | Elapsed Time |</pre>"
      ],
      "text/plain": [
       "| Query points | # Pairs | % Complete. | Elapsed Time |"
      ]
     },
     "metadata": {},
     "output_type": "display_data"
    },
    {
     "data": {
      "text/html": [
       "<pre>+--------------+---------+-------------+--------------+</pre>"
      ],
      "text/plain": [
       "+--------------+---------+-------------+--------------+"
      ]
     },
     "metadata": {},
     "output_type": "display_data"
    },
    {
     "data": {
      "text/html": [
       "<pre>| 0            | 1       | 0.196464    | 6.753ms      |</pre>"
      ],
      "text/plain": [
       "| 0            | 1       | 0.196464    | 6.753ms      |"
      ]
     },
     "metadata": {},
     "output_type": "display_data"
    },
    {
     "data": {
      "text/html": [
       "<pre>| Done         |         | 100         | 36.798ms     |</pre>"
      ],
      "text/plain": [
       "| Done         |         | 100         | 36.798ms     |"
      ]
     },
     "metadata": {},
     "output_type": "display_data"
    },
    {
     "data": {
      "text/html": [
       "<pre>+--------------+---------+-------------+--------------+</pre>"
      ],
      "text/plain": [
       "+--------------+---------+-------------+--------------+"
      ]
     },
     "metadata": {},
     "output_type": "display_data"
    },
    {
     "data": {
      "text/html": [
       "<html lang=\"en\">                                                     <head>                                                               <style>                                                              .sframe {                                                            font-size: 12px;                                                   font-family: HelveticaNeue;                                        border: 1px solid silver;                                        }                                                                  .sframe thead th {                                                   background: #F7F7F7;                                               font-family: HelveticaNeue-Medium;                                 font-size: 14px;                                                   line-height: 16.8px;                                               padding-top: 16px;                                                 padding-bottom: 16px;                                              padding-left: 10px;                                                padding-right: 38px;                                               border-top: 1px solid #E9E9E9;                                     border-bottom: 1px solid #E9E9E9;                                  white-space: nowrap;                                               overflow: hidden;                                                  text-overflow:ellipsis;                                            text-align:center;                                                 font-weight:normal;                                              }                                                                  .sframe tbody th {                                                   background: #FFFFFF;                                               text-align:left;                                                   font-weight:normal;                                                border-right: 1px solid #E9E9E9;                                 }                                                                  .sframe td {                                                         background: #FFFFFF;                                               padding-left: 10px;                                                padding-right: 38px;                                               padding-top: 14px;                                                 padding-bottom: 14px;                                              border-bottom: 1px solid #E9E9E9;                                  max-height: 0px;                                                   transition: max-height 5s ease-out;                                vertical-align: middle;                                            font-family: HelveticaNeue;                                        font-size: 12px;                                                   line-height: 16.8px;                                               background: #FFFFFF;                                             }                                                                  .sframe tr {                                                         padding-left: 10px;                                                padding-right: 38px;                                               padding-top: 14px;                                                 padding-bottom: 14px;                                              border-bottom: 1px solid #E9E9E9;                                  max-height: 0px;                                                   transition: max-height 5s ease-out;                                vertical-align: middle;                                            font-family: HelveticaNeue;                                        font-size: 12px;                                                   line-height: 16.8px;                                               background: #FFFFFF;                                             }                                                                  .sframe tr:hover {                                                   background: silver;                                              },                                                               </style>                                                         </head>                                                            <body>                                                               <h1>  </h1>                                             <table border=\"1\" class=\"dataframe sframe\">\n",
       "  <thead>\n",
       "    <tr style=\"text-align: right;\">\n",
       "      <th></th>\n",
       "      <th>SArray</th>\n",
       "    </tr>\n",
       "  </thead>\n",
       "  <tbody>\n",
       "    <tr>\n",
       "      <th>0</th>\n",
       "      <td><img src=\"data:image/png;base64,iVBORw0KGgoAAAANSUhEUgAAACAAAAAgCAIAAAD8GO2jAAAJq0lEQVR4nFWS229cVxXG19p7n/tlbp6LPbZnmqROmjZpGqAUAggQEhISEg+IJ/4GJP4tnuABCUQFKlA1Ck3SNIkdO7HHHnvu93M/Z5+zNw9BINbb97K+37e+hXd+9Ov2fvXauzUAoIQQSoEgU7Vx7zQLQs1xkzDs3rypahoAIICE/xsECRIApKTU+7q3+fzVLI0vNrMlXzhOXnYMhoQxhTLGpARCCSCKokAEb74UQVBrNRzbMkxTAiAAIv53tZSAKBFASgkAgtFciGUYUY11m/v5tFguF7qiMoJIKQEEBEBCkJA4jKIoxjSpuWa88RTDIpRKIfBtBMD/sb/VCCABpaS6Ut7dMg1bMJaxgq0sx0ZGGWEqRUIAkVCqMpWr2XI5dzVaNdgiDFW7DCAJJUQCIL4N8ZZaSomA/7lRkZdb1coDE4GIQmq7bjuOVQUYocAUREIQEQlmnBdC8DSVvldq7lMvjk/PN2lavnmDMg2lAIIgQeJbB0BEARIFAgHiWKCrQkhSSMdhlhAKYwyQUKYAQUCUgBlPc1GIQkReAEharcb4+BmfbqDTYVUHCk6QSJASQEgppUwDbzMd2eUa1QyepyBypEqhqkKjIARHYFKiomgICEAQsCgKQCSUJSlfb2K32tD2tmAaUUQJEggKgggIEomU49Pj1emJv1jopXKj2/FXfpGG1fYuqdS5KAghQBjLspQxRgiVQr4tTgIQSiXAerk0bcNXcm233HAczbTSNBUSoiTmIPzl8vDvf4ckdEql6eWgUq7dufnB+PJsPZmk43GSpDzLNcsgaZLkRU4IeVugaZqO7ZiWBUiC0Pd9TwiYruYXh1+ZaXR9q3ajUWtpSltR09GIb5YUZRiGiHDZO0XMfvbLX928fY+muV7ks/NePOwzRol8+xMACEAZQ5DebBJHIdfpbLaEohBSvnz6+LJ39tOf/+LajYP6Vm06HmeRv7tb1xQaJTLiha6RLFq7rn3/Wx/zOFxMB4HvV23KCILkXPIMCSWUSMSLF4df/+2zkkaRKqqqI4KmkCiK49A/ev6VZpjLxXw0HMzm82ATbG+VKlXXyGUchUIAQ6hvVe/c+/D0SJZMlscrRvO0GPe8kOVAFduJw7j/9KlJYKteN91ytVrWXCNM1rWtShwl3mr26uXzN69PsjimFMNMDqZepUqr9YZpua3dbpSmUiS2W95/58Bz7aveawaZJ4PU0CppGi0ur5aLhQGFXa/ud69dv/2+Q+USFqM0tSc0z3izXm21muvVLA5U1zH39tpZmhqmudO5nvEcKXn0+Wc84we379669/FmPlmuE8bUYr32bhwcEKYjvSzSRCAiofVW85MHDyCJ/vHPP+qrCKRTrZbeu33L3XlHSjnuv1FUpbl/3dQ12y0RRXt99Pzi9ctws9ZMw3E+abUalUr1/LRH2jf2J9P5ejowCC+XTEVTOS8oEk3ycLWoNncOrn+0r7bKlUqn22nudp1SZXuv45ZrWeSj4KVa03TKw4vT+bA/Gw1Vivv77XZ7jxGqqJpr66x9cDA6O3/81StNMQVCnmVFnte3d8yK0Tt6AlLudt5pNFur5TwJ18x0Oc9Wy4XCVJUpIg0NXe29OX768Iso9HmWGSqp15u1Wp0QQgTKPGa6Zd/5/oOnf/n0i3893d2uhVFoKoYPm0+FKD+6LAr9Wx/dt2Sx/f7dKIkXs1Hv+OWTR4/bO1t7797SbXcyGrx4/PD09ZkErFTtjHNESinNeH510e8dHxJZ5LVW684PfxAwpTeYJmnGFKwqSnmeNMp1VdezOKZpIngWpenF65fPHn4eLIaJP+NpCki//OKLk6PjKE4Jo4qi5oUM4zTNi9XK+/QPv3tz+IQhgMiL5t7e7QffOXv4iIiEC4GFshMpTs2tt3dKO+10NAzOLkbx+ur8ZDWfqqriLReHX35ulKuD834YxFnKLcewbIsyNcny4XDy5ujw9csnJA+ZEEKiREFane7k5DS+6tlWsVmubcdp7+0hgNC0hDIexuvJdHTRD6OIUYtz9MPJdDbPC6LpBlCGgFJiXpDhcOT/9c/LyTjJOMlyluc5IkohCCXMMDZBvN2oKhTr9Vq7vUMYTgaXeRRmgvfOTryNl2VFlnHLUqSUYZRwqSCBUsnRDS1OkkKSzXqDlMZxFMZFFiQkyzjneZbnOYDTqHOky5UPQtarFcd1Xde1bBN19uz5l4P+maKpEjDjRcaLohBCiDhOJYBh6ZZtmaa+392xLCP0wyQKgyBIM874Sb+wNNAY0VTdMLVKdZMkQrXMarO+29V0Ewnpn530Xj2nBHTTJnNPAJFIFUXqkoYpvxrMvShp7zSvXetUatWCy5fPjiQUhqUmGbD2Ko8HPlASQr72V5UEEkFeHZ8bpcZ256BaY1mW9I6P0yiyHBsIpZQBYcA0TdejPEYqKMJqtpJ5UattyYtJueLs7G2fHJ3opuXN5yxbb9rNbdNxkZIoiYPQT5aLaL72P332KFdu/eRBmsWz6TQvRCEg4yAJRUKRKkIW84XvJfnB7a4spGHZo+F0eDX63g8/EQCEKVmWFchYv2Op7ZI/3liCGd98t+7aGmJ+NbWuPJEWhZeDYda7741XXpJFtMipZvIsDcPYcUuZRI2R0M+QUdUS5ZqtKmw2nb15PTAMLUkynku2tde1dtv2LZ0n8SoKcBNX6zX7/U66tcH+MtqsLXdnq7X/3kf04uTFejYCyqihNLoHt+7ev/aNaDa6GPb70+Eg9KYSUdE0kQ8RwbCaq00QBBF+cPvDW3fv3f/2x3v77UJymecKStOyGdOoQge9fi6oRPSDzXo+G131BcBe9/r7H35kmA6CoBQCz++fvwmW89ViOh2NN+ulbRlS4mAwSXyPedHmsz/9cXTR/+6Pf3D3/r0PPrxbLrtJmhDCcik2m2A6mQuJYRD7foyKoRuO4VQWi5V/fqlrmmUZuma0966LdifwNo3pdLVcCJ7NpxN1FSFBdvvBg8sXh69efDUdXS5Hw4phqrduzsez8/OLyWS8Xnl2qVyqVKkWRoXww2TRu2i33El//vgfD1Xb1GyLUaIqenu/A5RpultpluMwtIV+zaqVSgYrN7atTxy7Up6fnvYe//P3wWb7g/snLw+n0wllVNMNpquKoecUCiFlmqpU2qZ5dHZUcfWdd/ZUx+RJHESpajLDLGu6S5keW4limaZBTEPFX/3mt5RiliT+0ddWMHbqHU/devrkXzvdfcM0icKElJzzAvIszTCWhmlWyqXujf13D66rqlqrli3TfHN8+vTLJxkXAMrWbqe+3Wi1GrquxSn/N0ZHhKTVuR8WAAAAAElFTkSuQmCC\"/></td>\n",
       "    </tr>\n",
       "    <tr>\n",
       "      <th>1</th>\n",
       "      <td><img src=\"data:image/png;base64,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\"/></td>\n",
       "    </tr>\n",
       "    <tr>\n",
       "      <th>2</th>\n",
       "      <td><img src=\"data:image/png;base64,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\"/></td>\n",
       "    </tr>\n",
       "    <tr>\n",
       "      <th>3</th>\n",
       "      <td><img src=\"data:image/png;base64,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\"/></td>\n",
       "    </tr>\n",
       "    <tr>\n",
       "      <th>4</th>\n",
       "      <td><img src=\"data:image/png;base64,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\"/></td>\n",
       "    </tr>\n",
       "  </tbody>\n",
       "</table>                          </body>                                                          </html>"
      ],
      "text/plain": [
       "<IPython.core.display.HTML object>"
      ]
     },
     "metadata": {},
     "output_type": "display_data"
    },
    {
     "data": {
      "text/plain": [
       "36.15573070978294"
      ]
     },
     "execution_count": 15,
     "metadata": {},
     "output_type": "execute_result"
    }
   ],
   "source": [
    "cat_dist=cat_model.query(image_test[0:1])\n",
    "print(cat_model.query(image_test[0:1]))\n",
    "# def get_images_from_ids(query_result):\n",
    "#     return image_train.filter_by(query_result['reference_label'],'id')\n",
    "get_images_from_ids(cat_model.query(image_test[0:1]))['image'].explore()\n",
    "cat_dist[\"distance\"].mean()"
   ]
  },
  {
   "cell_type": "code",
   "execution_count": 17,
   "metadata": {},
   "outputs": [],
   "source": [
    "# image_train[16289][\"image\"].explore()"
   ]
  },
  {
   "cell_type": "code",
   "execution_count": 18,
   "metadata": {},
   "outputs": [
    {
     "data": {
      "text/html": [
       "<pre>Starting pairwise querying.</pre>"
      ],
      "text/plain": [
       "Starting pairwise querying."
      ]
     },
     "metadata": {},
     "output_type": "display_data"
    },
    {
     "data": {
      "text/html": [
       "<pre>+--------------+---------+-------------+--------------+</pre>"
      ],
      "text/plain": [
       "+--------------+---------+-------------+--------------+"
      ]
     },
     "metadata": {},
     "output_type": "display_data"
    },
    {
     "data": {
      "text/html": [
       "<pre>| Query points | # Pairs | % Complete. | Elapsed Time |</pre>"
      ],
      "text/plain": [
       "| Query points | # Pairs | % Complete. | Elapsed Time |"
      ]
     },
     "metadata": {},
     "output_type": "display_data"
    },
    {
     "data": {
      "text/html": [
       "<pre>+--------------+---------+-------------+--------------+</pre>"
      ],
      "text/plain": [
       "+--------------+---------+-------------+--------------+"
      ]
     },
     "metadata": {},
     "output_type": "display_data"
    },
    {
     "data": {
      "text/html": [
       "<pre>| 0            | 1       | 0.196464    | 5.437ms      |</pre>"
      ],
      "text/plain": [
       "| 0            | 1       | 0.196464    | 5.437ms      |"
      ]
     },
     "metadata": {},
     "output_type": "display_data"
    },
    {
     "data": {
      "text/html": [
       "<pre>| Done         |         | 100         | 28.888ms     |</pre>"
      ],
      "text/plain": [
       "| Done         |         | 100         | 28.888ms     |"
      ]
     },
     "metadata": {},
     "output_type": "display_data"
    },
    {
     "data": {
      "text/html": [
       "<pre>+--------------+---------+-------------+--------------+</pre>"
      ],
      "text/plain": [
       "+--------------+---------+-------------+--------------+"
      ]
     },
     "metadata": {},
     "output_type": "display_data"
    },
    {
     "data": {
      "text/html": [
       "<pre>Starting pairwise querying.</pre>"
      ],
      "text/plain": [
       "Starting pairwise querying."
      ]
     },
     "metadata": {},
     "output_type": "display_data"
    },
    {
     "data": {
      "text/html": [
       "<pre>+--------------+---------+-------------+--------------+</pre>"
      ],
      "text/plain": [
       "+--------------+---------+-------------+--------------+"
      ]
     },
     "metadata": {},
     "output_type": "display_data"
    },
    {
     "data": {
      "text/html": [
       "<pre>| Query points | # Pairs | % Complete. | Elapsed Time |</pre>"
      ],
      "text/plain": [
       "| Query points | # Pairs | % Complete. | Elapsed Time |"
      ]
     },
     "metadata": {},
     "output_type": "display_data"
    },
    {
     "data": {
      "text/html": [
       "<pre>+--------------+---------+-------------+--------------+</pre>"
      ],
      "text/plain": [
       "+--------------+---------+-------------+--------------+"
      ]
     },
     "metadata": {},
     "output_type": "display_data"
    },
    {
     "data": {
      "text/html": [
       "<pre>| 0            | 1       | 0.196464    | 6.491ms      |</pre>"
      ],
      "text/plain": [
       "| 0            | 1       | 0.196464    | 6.491ms      |"
      ]
     },
     "metadata": {},
     "output_type": "display_data"
    },
    {
     "data": {
      "text/html": [
       "<pre>| Done         |         | 100         | 32.138ms     |</pre>"
      ],
      "text/plain": [
       "| Done         |         | 100         | 32.138ms     |"
      ]
     },
     "metadata": {},
     "output_type": "display_data"
    },
    {
     "data": {
      "text/html": [
       "<pre>+--------------+---------+-------------+--------------+</pre>"
      ],
      "text/plain": [
       "+--------------+---------+-------------+--------------+"
      ]
     },
     "metadata": {},
     "output_type": "display_data"
    },
    {
     "name": "stdout",
     "output_type": "stream",
     "text": [
      "+-------------+-----------------+--------------------+------+\n",
      "| query_label | reference_label |      distance      | rank |\n",
      "+-------------+-----------------+--------------------+------+\n",
      "|      0      |      16976      | 37.464262878423774 |  1   |\n",
      "|      0      |      13387      | 37.56668321685285  |  2   |\n",
      "|      0      |      35867      | 37.60472670789396  |  3   |\n",
      "|      0      |      44603      | 37.70655851529755  |  4   |\n",
      "|      0      |       6094      | 38.511325490739715 |  5   |\n",
      "+-------------+-----------------+--------------------+------+\n",
      "[5 rows x 4 columns]\n",
      "\n"
     ]
    },
    {
     "data": {
      "text/html": [
       "<html lang=\"en\">                                                     <head>                                                               <style>                                                              .sframe {                                                            font-size: 12px;                                                   font-family: HelveticaNeue;                                        border: 1px solid silver;                                        }                                                                  .sframe thead th {                                                   background: #F7F7F7;                                               font-family: HelveticaNeue-Medium;                                 font-size: 14px;                                                   line-height: 16.8px;                                               padding-top: 16px;                                                 padding-bottom: 16px;                                              padding-left: 10px;                                                padding-right: 38px;                                               border-top: 1px solid #E9E9E9;                                     border-bottom: 1px solid #E9E9E9;                                  white-space: nowrap;                                               overflow: hidden;                                                  text-overflow:ellipsis;                                            text-align:center;                                                 font-weight:normal;                                              }                                                                  .sframe tbody th {                                                   background: #FFFFFF;                                               text-align:left;                                                   font-weight:normal;                                                border-right: 1px solid #E9E9E9;                                 }                                                                  .sframe td {                                                         background: #FFFFFF;                                               padding-left: 10px;                                                padding-right: 38px;                                               padding-top: 14px;                                                 padding-bottom: 14px;                                              border-bottom: 1px solid #E9E9E9;                                  max-height: 0px;                                                   transition: max-height 5s ease-out;                                vertical-align: middle;                                            font-family: HelveticaNeue;                                        font-size: 12px;                                                   line-height: 16.8px;                                               background: #FFFFFF;                                             }                                                                  .sframe tr {                                                         padding-left: 10px;                                                padding-right: 38px;                                               padding-top: 14px;                                                 padding-bottom: 14px;                                              border-bottom: 1px solid #E9E9E9;                                  max-height: 0px;                                                   transition: max-height 5s ease-out;                                vertical-align: middle;                                            font-family: HelveticaNeue;                                        font-size: 12px;                                                   line-height: 16.8px;                                               background: #FFFFFF;                                             }                                                                  .sframe tr:hover {                                                   background: silver;                                              },                                                               </style>                                                         </head>                                                            <body>                                                               <h1>  </h1>                                             <table border=\"1\" class=\"dataframe sframe\">\n",
       "  <thead>\n",
       "    <tr style=\"text-align: right;\">\n",
       "      <th></th>\n",
       "      <th>SArray</th>\n",
       "    </tr>\n",
       "  </thead>\n",
       "  <tbody>\n",
       "    <tr>\n",
       "      <th>0</th>\n",
       "      <td><img src=\"data:image/png;base64,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\"/></td>\n",
       "    </tr>\n",
       "  </tbody>\n",
       "</table>                          </body>                                                          </html>"
      ],
      "text/plain": [
       "<IPython.core.display.HTML object>"
      ]
     },
     "metadata": {},
     "output_type": "display_data"
    },
    {
     "data": {
      "text/plain": [
       "37.77071136184157"
      ]
     },
     "execution_count": 18,
     "metadata": {},
     "output_type": "execute_result"
    }
   ],
   "source": [
    "dog_dist=dog_model.query(image_test[0:1])\n",
    "print(dog_model.query(image_test[0:1]))\n",
    "image_train['image'][image_train['id']==16976].explore()\n",
    "# get_images_from_ids(dog_model.query(image_test[0:1]))['image'].explore()\n",
    "dog_dist[\"distance\"].mean()"
   ]
  },
  {
   "cell_type": "code",
   "execution_count": 19,
   "metadata": {},
   "outputs": [],
   "source": [
    "dog_test_frame=image_test[image_test[\"label\"]==\"dog\"]\n",
    "cat_test_frame=image_test[image_test[\"label\"]==\"cat\"]\n",
    "car_test_frame=image_test[image_test[\"label\"]==\"automobile\"]\n",
    "bird_test_frame=image_test[image_test[\"label\"]==\"bird\"]\n"
   ]
  },
  {
   "cell_type": "code",
   "execution_count": 20,
   "metadata": {},
   "outputs": [
    {
     "data": {
      "text/html": [
       "<pre>Starting blockwise querying.</pre>"
      ],
      "text/plain": [
       "Starting blockwise querying."
      ]
     },
     "metadata": {},
     "output_type": "display_data"
    },
    {
     "data": {
      "text/html": [
       "<pre>max rows per data block: 4348</pre>"
      ],
      "text/plain": [
       "max rows per data block: 4348"
      ]
     },
     "metadata": {},
     "output_type": "display_data"
    },
    {
     "data": {
      "text/html": [
       "<pre>number of reference data blocks: 8</pre>"
      ],
      "text/plain": [
       "number of reference data blocks: 8"
      ]
     },
     "metadata": {},
     "output_type": "display_data"
    },
    {
     "data": {
      "text/html": [
       "<pre>number of query data blocks: 1</pre>"
      ],
      "text/plain": [
       "number of query data blocks: 1"
      ]
     },
     "metadata": {},
     "output_type": "display_data"
    },
    {
     "data": {
      "text/html": [
       "<pre>+--------------+---------+-------------+--------------+</pre>"
      ],
      "text/plain": [
       "+--------------+---------+-------------+--------------+"
      ]
     },
     "metadata": {},
     "output_type": "display_data"
    },
    {
     "data": {
      "text/html": [
       "<pre>| Query points | # Pairs | % Complete. | Elapsed Time |</pre>"
      ],
      "text/plain": [
       "| Query points | # Pairs | % Complete. | Elapsed Time |"
      ]
     },
     "metadata": {},
     "output_type": "display_data"
    },
    {
     "data": {
      "text/html": [
       "<pre>+--------------+---------+-------------+--------------+</pre>"
      ],
      "text/plain": [
       "+--------------+---------+-------------+--------------+"
      ]
     },
     "metadata": {},
     "output_type": "display_data"
    },
    {
     "data": {
      "text/html": [
       "<pre>| 1000         | 63000   | 12.3772     | 275.518ms    |</pre>"
      ],
      "text/plain": [
       "| 1000         | 63000   | 12.3772     | 275.518ms    |"
      ]
     },
     "metadata": {},
     "output_type": "display_data"
    },
    {
     "data": {
      "text/html": [
       "<pre>| Done         | 509000  | 100         | 360.404ms    |</pre>"
      ],
      "text/plain": [
       "| Done         | 509000  | 100         | 360.404ms    |"
      ]
     },
     "metadata": {},
     "output_type": "display_data"
    },
    {
     "data": {
      "text/html": [
       "<pre>+--------------+---------+-------------+--------------+</pre>"
      ],
      "text/plain": [
       "+--------------+---------+-------------+--------------+"
      ]
     },
     "metadata": {},
     "output_type": "display_data"
    },
    {
     "data": {
      "text/html": [
       "<pre>Starting blockwise querying.</pre>"
      ],
      "text/plain": [
       "Starting blockwise querying."
      ]
     },
     "metadata": {},
     "output_type": "display_data"
    },
    {
     "data": {
      "text/html": [
       "<pre>max rows per data block: 4348</pre>"
      ],
      "text/plain": [
       "max rows per data block: 4348"
      ]
     },
     "metadata": {},
     "output_type": "display_data"
    },
    {
     "data": {
      "text/html": [
       "<pre>number of reference data blocks: 8</pre>"
      ],
      "text/plain": [
       "number of reference data blocks: 8"
      ]
     },
     "metadata": {},
     "output_type": "display_data"
    },
    {
     "data": {
      "text/html": [
       "<pre>number of query data blocks: 1</pre>"
      ],
      "text/plain": [
       "number of query data blocks: 1"
      ]
     },
     "metadata": {},
     "output_type": "display_data"
    },
    {
     "data": {
      "text/html": [
       "<pre>+--------------+---------+-------------+--------------+</pre>"
      ],
      "text/plain": [
       "+--------------+---------+-------------+--------------+"
      ]
     },
     "metadata": {},
     "output_type": "display_data"
    },
    {
     "data": {
      "text/html": [
       "<pre>| Query points | # Pairs | % Complete. | Elapsed Time |</pre>"
      ],
      "text/plain": [
       "| Query points | # Pairs | % Complete. | Elapsed Time |"
      ]
     },
     "metadata": {},
     "output_type": "display_data"
    },
    {
     "data": {
      "text/html": [
       "<pre>+--------------+---------+-------------+--------------+</pre>"
      ],
      "text/plain": [
       "+--------------+---------+-------------+--------------+"
      ]
     },
     "metadata": {},
     "output_type": "display_data"
    },
    {
     "data": {
      "text/html": [
       "<pre>| 1000         | 63000   | 12.3772     | 337.992ms    |</pre>"
      ],
      "text/plain": [
       "| 1000         | 63000   | 12.3772     | 337.992ms    |"
      ]
     },
     "metadata": {},
     "output_type": "display_data"
    },
    {
     "data": {
      "text/html": [
       "<pre>| Done         | 509000  | 100         | 388.448ms    |</pre>"
      ],
      "text/plain": [
       "| Done         | 509000  | 100         | 388.448ms    |"
      ]
     },
     "metadata": {},
     "output_type": "display_data"
    },
    {
     "data": {
      "text/html": [
       "<pre>+--------------+---------+-------------+--------------+</pre>"
      ],
      "text/plain": [
       "+--------------+---------+-------------+--------------+"
      ]
     },
     "metadata": {},
     "output_type": "display_data"
    },
    {
     "data": {
      "text/html": [
       "<pre>Starting blockwise querying.</pre>"
      ],
      "text/plain": [
       "Starting blockwise querying."
      ]
     },
     "metadata": {},
     "output_type": "display_data"
    },
    {
     "data": {
      "text/html": [
       "<pre>max rows per data block: 4348</pre>"
      ],
      "text/plain": [
       "max rows per data block: 4348"
      ]
     },
     "metadata": {},
     "output_type": "display_data"
    },
    {
     "data": {
      "text/html": [
       "<pre>number of reference data blocks: 8</pre>"
      ],
      "text/plain": [
       "number of reference data blocks: 8"
      ]
     },
     "metadata": {},
     "output_type": "display_data"
    },
    {
     "data": {
      "text/html": [
       "<pre>number of query data blocks: 1</pre>"
      ],
      "text/plain": [
       "number of query data blocks: 1"
      ]
     },
     "metadata": {},
     "output_type": "display_data"
    },
    {
     "data": {
      "text/html": [
       "<pre>+--------------+---------+-------------+--------------+</pre>"
      ],
      "text/plain": [
       "+--------------+---------+-------------+--------------+"
      ]
     },
     "metadata": {},
     "output_type": "display_data"
    },
    {
     "data": {
      "text/html": [
       "<pre>| Query points | # Pairs | % Complete. | Elapsed Time |</pre>"
      ],
      "text/plain": [
       "| Query points | # Pairs | % Complete. | Elapsed Time |"
      ]
     },
     "metadata": {},
     "output_type": "display_data"
    },
    {
     "data": {
      "text/html": [
       "<pre>+--------------+---------+-------------+--------------+</pre>"
      ],
      "text/plain": [
       "+--------------+---------+-------------+--------------+"
      ]
     },
     "metadata": {},
     "output_type": "display_data"
    },
    {
     "data": {
      "text/html": [
       "<pre>| 1000         | 60000   | 12.5523     | 290.795ms    |</pre>"
      ],
      "text/plain": [
       "| 1000         | 60000   | 12.5523     | 290.795ms    |"
      ]
     },
     "metadata": {},
     "output_type": "display_data"
    },
    {
     "data": {
      "text/html": [
       "<pre>| Done         | 478000  | 100         | 375.308ms    |</pre>"
      ],
      "text/plain": [
       "| Done         | 478000  | 100         | 375.308ms    |"
      ]
     },
     "metadata": {},
     "output_type": "display_data"
    },
    {
     "data": {
      "text/html": [
       "<pre>+--------------+---------+-------------+--------------+</pre>"
      ],
      "text/plain": [
       "+--------------+---------+-------------+--------------+"
      ]
     },
     "metadata": {},
     "output_type": "display_data"
    },
    {
     "data": {
      "text/html": [
       "<pre>Starting blockwise querying.</pre>"
      ],
      "text/plain": [
       "Starting blockwise querying."
      ]
     },
     "metadata": {},
     "output_type": "display_data"
    },
    {
     "data": {
      "text/html": [
       "<pre>max rows per data block: 4348</pre>"
      ],
      "text/plain": [
       "max rows per data block: 4348"
      ]
     },
     "metadata": {},
     "output_type": "display_data"
    },
    {
     "data": {
      "text/html": [
       "<pre>number of reference data blocks: 8</pre>"
      ],
      "text/plain": [
       "number of reference data blocks: 8"
      ]
     },
     "metadata": {},
     "output_type": "display_data"
    },
    {
     "data": {
      "text/html": [
       "<pre>number of query data blocks: 1</pre>"
      ],
      "text/plain": [
       "number of query data blocks: 1"
      ]
     },
     "metadata": {},
     "output_type": "display_data"
    },
    {
     "data": {
      "text/html": [
       "<pre>+--------------+---------+-------------+--------------+</pre>"
      ],
      "text/plain": [
       "+--------------+---------+-------------+--------------+"
      ]
     },
     "metadata": {},
     "output_type": "display_data"
    },
    {
     "data": {
      "text/html": [
       "<pre>| Query points | # Pairs | % Complete. | Elapsed Time |</pre>"
      ],
      "text/plain": [
       "| Query points | # Pairs | % Complete. | Elapsed Time |"
      ]
     },
     "metadata": {},
     "output_type": "display_data"
    },
    {
     "data": {
      "text/html": [
       "<pre>+--------------+---------+-------------+--------------+</pre>"
      ],
      "text/plain": [
       "+--------------+---------+-------------+--------------+"
      ]
     },
     "metadata": {},
     "output_type": "display_data"
    },
    {
     "data": {
      "text/html": [
       "<pre>| 1000         | 63000   | 12.3772     | 281.373ms    |</pre>"
      ],
      "text/plain": [
       "| 1000         | 63000   | 12.3772     | 281.373ms    |"
      ]
     },
     "metadata": {},
     "output_type": "display_data"
    },
    {
     "data": {
      "text/html": [
       "<pre>| Done         | 509000  | 100         | 349.252ms    |</pre>"
      ],
      "text/plain": [
       "| Done         | 509000  | 100         | 349.252ms    |"
      ]
     },
     "metadata": {},
     "output_type": "display_data"
    },
    {
     "data": {
      "text/html": [
       "<pre>+--------------+---------+-------------+--------------+</pre>"
      ],
      "text/plain": [
       "+--------------+---------+-------------+--------------+"
      ]
     },
     "metadata": {},
     "output_type": "display_data"
    }
   ],
   "source": [
    "dog_cat_neighbors = cat_model.query(dog_test_frame,k=1)\n",
    "dog_automobile_neighbors = car_model.query(dog_test_frame,k=1)\n",
    "dog_bird_neighbors = bird_model.query(dog_test_frame,k=1)\n",
    "dog_dog_neighbors = dog_model.query(dog_test_frame,k=1)\n",
    "\n",
    "# get_images_from_ids(cat_model.query(dog_cat_neighbors))['image'].explore()\n"
   ]
  },
  {
   "cell_type": "code",
   "execution_count": 21,
   "metadata": {},
   "outputs": [],
   "source": [
    "dog_distances=turicreate.SFrame()"
   ]
  },
  {
   "cell_type": "code",
   "execution_count": 22,
   "metadata": {},
   "outputs": [],
   "source": [
    "dog_distances['dog-cat'] =dog_cat_neighbors[\"distance\"]\n",
    "dog_distances['dog-automobile'] =dog_automobile_neighbors[\"distance\"]\n",
    "dog_distances['dog-bird'] =dog_bird_neighbors[\"distance\"]\n",
    "dog_distances['dog-dog'] =dog_dog_neighbors[\"distance\"]"
   ]
  },
  {
   "cell_type": "code",
   "execution_count": 23,
   "metadata": {},
   "outputs": [
    {
     "data": {
      "text/html": [
       "<div style=\"max-height:1000px;max-width:1500px;overflow:auto;\"><table frame=\"box\" rules=\"cols\">\n",
       "    <tr>\n",
       "        <th style=\"padding-left: 1em; padding-right: 1em; text-align: center\">dog-cat</th>\n",
       "        <th style=\"padding-left: 1em; padding-right: 1em; text-align: center\">dog-automobile</th>\n",
       "        <th style=\"padding-left: 1em; padding-right: 1em; text-align: center\">dog-bird</th>\n",
       "        <th style=\"padding-left: 1em; padding-right: 1em; text-align: center\">dog-dog</th>\n",
       "    </tr>\n",
       "    <tr>\n",
       "        <td style=\"padding-left: 1em; padding-right: 1em; text-align: center; vertical-align: top\">36.419607706754384</td>\n",
       "        <td style=\"padding-left: 1em; padding-right: 1em; text-align: center; vertical-align: top\">41.95797614571203</td>\n",
       "        <td style=\"padding-left: 1em; padding-right: 1em; text-align: center; vertical-align: top\">41.75386473035126</td>\n",
       "        <td style=\"padding-left: 1em; padding-right: 1em; text-align: center; vertical-align: top\">33.47735903726335</td>\n",
       "    </tr>\n",
       "    <tr>\n",
       "        <td style=\"padding-left: 1em; padding-right: 1em; text-align: center; vertical-align: top\">38.83532688735542</td>\n",
       "        <td style=\"padding-left: 1em; padding-right: 1em; text-align: center; vertical-align: top\">46.00213318067788</td>\n",
       "        <td style=\"padding-left: 1em; padding-right: 1em; text-align: center; vertical-align: top\">41.3382958924861</td>\n",
       "        <td style=\"padding-left: 1em; padding-right: 1em; text-align: center; vertical-align: top\">32.84584956840554</td>\n",
       "    </tr>\n",
       "    <tr>\n",
       "        <td style=\"padding-left: 1em; padding-right: 1em; text-align: center; vertical-align: top\">36.97634108541546</td>\n",
       "        <td style=\"padding-left: 1em; padding-right: 1em; text-align: center; vertical-align: top\">42.946229069238804</td>\n",
       "        <td style=\"padding-left: 1em; padding-right: 1em; text-align: center; vertical-align: top\">38.615759085289056</td>\n",
       "        <td style=\"padding-left: 1em; padding-right: 1em; text-align: center; vertical-align: top\">35.03970731890584</td>\n",
       "    </tr>\n",
       "    <tr>\n",
       "        <td style=\"padding-left: 1em; padding-right: 1em; text-align: center; vertical-align: top\">34.575007291446106</td>\n",
       "        <td style=\"padding-left: 1em; padding-right: 1em; text-align: center; vertical-align: top\">41.68660600484793</td>\n",
       "        <td style=\"padding-left: 1em; padding-right: 1em; text-align: center; vertical-align: top\">37.08922699538214</td>\n",
       "        <td style=\"padding-left: 1em; padding-right: 1em; text-align: center; vertical-align: top\">33.90103276968193</td>\n",
       "    </tr>\n",
       "    <tr>\n",
       "        <td style=\"padding-left: 1em; padding-right: 1em; text-align: center; vertical-align: top\">34.77882479101661</td>\n",
       "        <td style=\"padding-left: 1em; padding-right: 1em; text-align: center; vertical-align: top\">39.22696649347584</td>\n",
       "        <td style=\"padding-left: 1em; padding-right: 1em; text-align: center; vertical-align: top\">38.27228869398105</td>\n",
       "        <td style=\"padding-left: 1em; padding-right: 1em; text-align: center; vertical-align: top\">37.484925090925636</td>\n",
       "    </tr>\n",
       "    <tr>\n",
       "        <td style=\"padding-left: 1em; padding-right: 1em; text-align: center; vertical-align: top\">35.11715782924591</td>\n",
       "        <td style=\"padding-left: 1em; padding-right: 1em; text-align: center; vertical-align: top\">40.58451176980721</td>\n",
       "        <td style=\"padding-left: 1em; padding-right: 1em; text-align: center; vertical-align: top\">39.146208923590486</td>\n",
       "        <td style=\"padding-left: 1em; padding-right: 1em; text-align: center; vertical-align: top\">34.94516534398124</td>\n",
       "    </tr>\n",
       "    <tr>\n",
       "        <td style=\"padding-left: 1em; padding-right: 1em; text-align: center; vertical-align: top\">40.60958309132649</td>\n",
       "        <td style=\"padding-left: 1em; padding-right: 1em; text-align: center; vertical-align: top\">45.10673529610854</td>\n",
       "        <td style=\"padding-left: 1em; padding-right: 1em; text-align: center; vertical-align: top\">40.523040105962316</td>\n",
       "        <td style=\"padding-left: 1em; padding-right: 1em; text-align: center; vertical-align: top\">39.095727834463545</td>\n",
       "    </tr>\n",
       "    <tr>\n",
       "        <td style=\"padding-left: 1em; padding-right: 1em; text-align: center; vertical-align: top\">39.90368673062214</td>\n",
       "        <td style=\"padding-left: 1em; padding-right: 1em; text-align: center; vertical-align: top\">41.32211409739762</td>\n",
       "        <td style=\"padding-left: 1em; padding-right: 1em; text-align: center; vertical-align: top\">38.19479183926956</td>\n",
       "        <td style=\"padding-left: 1em; padding-right: 1em; text-align: center; vertical-align: top\">37.76961310322034</td>\n",
       "    </tr>\n",
       "    <tr>\n",
       "        <td style=\"padding-left: 1em; padding-right: 1em; text-align: center; vertical-align: top\">38.067470016821176</td>\n",
       "        <td style=\"padding-left: 1em; padding-right: 1em; text-align: center; vertical-align: top\">41.82446549950164</td>\n",
       "        <td style=\"padding-left: 1em; padding-right: 1em; text-align: center; vertical-align: top\">40.156713166131446</td>\n",
       "        <td style=\"padding-left: 1em; padding-right: 1em; text-align: center; vertical-align: top\">35.10891446032838</td>\n",
       "    </tr>\n",
       "    <tr>\n",
       "        <td style=\"padding-left: 1em; padding-right: 1em; text-align: center; vertical-align: top\">42.72587329506032</td>\n",
       "        <td style=\"padding-left: 1em; padding-right: 1em; text-align: center; vertical-align: top\">45.497692940110376</td>\n",
       "        <td style=\"padding-left: 1em; padding-right: 1em; text-align: center; vertical-align: top\">45.55979626027668</td>\n",
       "        <td style=\"padding-left: 1em; padding-right: 1em; text-align: center; vertical-align: top\">43.242283258453455</td>\n",
       "    </tr>\n",
       "</table>\n",
       "[1000 rows x 4 columns]<br/>Note: Only the head of the SFrame is printed.<br/>You can use print_rows(num_rows=m, num_columns=n) to print more rows and columns.\n",
       "</div>"
      ],
      "text/plain": [
       "Columns:\n",
       "\tdog-cat\tfloat\n",
       "\tdog-automobile\tfloat\n",
       "\tdog-bird\tfloat\n",
       "\tdog-dog\tfloat\n",
       "\n",
       "Rows: 1000\n",
       "\n",
       "Data:\n",
       "+--------------------+--------------------+--------------------+\n",
       "|      dog-cat       |   dog-automobile   |      dog-bird      |\n",
       "+--------------------+--------------------+--------------------+\n",
       "| 36.419607706754384 | 41.95797614571203  | 41.75386473035126  |\n",
       "| 38.83532688735542  | 46.00213318067788  |  41.3382958924861  |\n",
       "| 36.97634108541546  | 42.946229069238804 | 38.615759085289056 |\n",
       "| 34.575007291446106 | 41.68660600484793  | 37.08922699538214  |\n",
       "| 34.77882479101661  | 39.22696649347584  | 38.27228869398105  |\n",
       "| 35.11715782924591  | 40.58451176980721  | 39.146208923590486 |\n",
       "| 40.60958309132649  | 45.10673529610854  | 40.523040105962316 |\n",
       "| 39.90368673062214  | 41.32211409739762  | 38.19479183926956  |\n",
       "| 38.067470016821176 | 41.82446549950164  | 40.156713166131446 |\n",
       "| 42.72587329506032  | 45.497692940110376 | 45.55979626027668  |\n",
       "+--------------------+--------------------+--------------------+\n",
       "+--------------------+\n",
       "|      dog-dog       |\n",
       "+--------------------+\n",
       "| 33.47735903726335  |\n",
       "| 32.84584956840554  |\n",
       "| 35.03970731890584  |\n",
       "| 33.90103276968193  |\n",
       "| 37.484925090925636 |\n",
       "| 34.94516534398124  |\n",
       "| 39.095727834463545 |\n",
       "| 37.76961310322034  |\n",
       "| 35.10891446032838  |\n",
       "| 43.242283258453455 |\n",
       "+--------------------+\n",
       "[1000 rows x 4 columns]\n",
       "Note: Only the head of the SFrame is printed.\n",
       "You can use print_rows(num_rows=m, num_columns=n) to print more rows and columns."
      ]
     },
     "execution_count": 23,
     "metadata": {},
     "output_type": "execute_result"
    }
   ],
   "source": [
    "dog_distances"
   ]
  },
  {
   "cell_type": "code",
   "execution_count": 61,
   "metadata": {},
   "outputs": [],
   "source": [
    "import pandas as pd\n",
    "import numpy as np\n",
    "dog_distances_pd=pd.DataFrame(dog_distances)\n",
    "dog_distances_pd['res']=np.nan\n"
   ]
  },
  {
   "cell_type": "code",
   "execution_count": 94,
   "metadata": {},
   "outputs": [],
   "source": [
    "import numpy as np\n",
    "def is_dog_correct(dog_distances):\n",
    "    count_0=0\n",
    "    count_1=0\n",
    "    for i in range(len(dog_distances)):\n",
    "        t=np.array([dog_distances.iloc[i]['dog-dog'],dog_distances.iloc[i]['dog-cat'],dog_distances.iloc[i]['dog-automobile'],dog_distances.iloc[i]['dog-bird']])\n",
    "        print(t.min(),dog_distances.iloc[i]['dog-dog'],i)\n",
    "        \n",
    "        if t.min()!=t[0]:\n",
    "            dog_distances['res']=0\n",
    "            print(dog_distances.iloc[i]['res'])\n",
    "            \n",
    "            count_0+=1\n",
    "            print(count_0)\n",
    "            \n",
    "            print(\"hii\")\n",
    "        elif t.min()==t[0]:\n",
    "#             print(\"1\")\n",
    "            dog_distances['res']=1\n",
    "            print(dog_distances.iloc[i]['res'])\n",
    "    \n",
    "            count_1+=1\n",
    "            print(count_1)\n",
    "            \n",
    "            \n",
    "        if i==len(dog_distances)-1:\n",
    "            print(count_0,count_1)\n"
   ]
  },
  {
   "cell_type": "code",
   "execution_count": 95,
   "metadata": {},
   "outputs": [
    {
     "name": "stdout",
     "output_type": "stream",
     "text": [
      "33.47735903726335 33.47735903726335 0\n",
      "1.0\n",
      "1\n",
      "32.84584956840554 32.84584956840554 1\n",
      "1.0\n",
      "2\n",
      "35.03970731890584 35.03970731890584 2\n",
      "1.0\n",
      "3\n",
      "33.90103276968193 33.90103276968193 3\n",
      "1.0\n",
      "4\n",
      "34.77882479101661 37.484925090925636 4\n",
      "0.0\n",
      "1\n",
      "hii\n",
      "34.94516534398124 34.94516534398124 5\n",
      "1.0\n",
      "5\n",
      "39.095727834463545 39.095727834463545 6\n",
      "1.0\n",
      "6\n",
      "37.76961310322034 37.76961310322034 7\n",
      "1.0\n",
      "7\n",
      "35.10891446032838 35.10891446032838 8\n",
      "1.0\n",
      "8\n",
      "42.72587329506032 43.242283258453455 9\n",
      "0.0\n",
      "2\n",
      "hii\n",
      "36.23050539743552 36.23050539743552 10\n",
      "1.0\n",
      "9\n",
      "31.6633518591745 33.10211296474725 11\n",
      "0.0\n",
      "3\n",
      "hii\n",
      "37.71246671323843 38.03829227450411 12\n",
      "0.0\n",
      "4\n",
      "hii\n",
      "39.0045609157312 39.0045609157312 13\n",
      "1.0\n",
      "10\n",
      "43.881054878430206 43.881054878430206 14\n",
      "1.0\n",
      "11\n",
      "34.87732478232784 34.87732478232784 15\n",
      "1.0\n",
      "12\n",
      "33.56918170602116 33.56918170602116 16\n",
      "1.0\n",
      "13\n",
      "39.16089874451968 40.797808461591444 17\n",
      "0.0\n",
      "5\n",
      "hii\n",
      "33.43682808174037 33.94244484435413 18\n",
      "0.0\n",
      "6\n",
      "hii\n",
      "33.707398835100065 33.707398835100065 19\n",
      "1.0\n",
      "14\n",
      "34.71470962990656 37.0240241366865 20\n",
      "0.0\n",
      "7\n",
      "hii\n",
      "33.237477416853 35.4152420648685 21\n",
      "0.0\n",
      "8\n",
      "hii\n",
      "34.425383319771534 36.95560695830801 22\n",
      "0.0\n",
      "9\n",
      "hii\n",
      "34.513042315930164 36.36783346985476 23\n",
      "0.0\n",
      "10\n",
      "hii\n",
      "35.205384820716176 35.205384820716176 24\n",
      "1.0\n",
      "15\n",
      "37.16462068032592 37.16462068032592 25\n",
      "1.0\n",
      "16\n",
      "37.6212583304882 39.182225470026836 26\n",
      "0.0\n",
      "11\n",
      "hii\n",
      "34.94940025291158 34.94940025291158 27\n",
      "1.0\n",
      "17\n",
      "33.91802758746503 33.91802758746503 28\n",
      "1.0\n",
      "18\n",
      "32.5445832313346 33.060710431636764 29\n",
      "0.0\n",
      "12\n",
      "hii\n",
      "36.65871871748164 36.65871871748164 30\n",
      "1.0\n",
      "19\n",
      "34.18631532550089 34.18631532550089 31\n",
      "1.0\n",
      "20\n",
      "41.781173252799256 42.88914508532866 32\n",
      "0.0\n",
      "13\n",
      "hii\n",
      "33.794277125540034 33.794277125540034 33\n",
      "1.0\n",
      "21\n",
      "29.565998477789446 29.565998477789446 34\n",
      "1.0\n",
      "22\n",
      "31.88434847525811 31.88434847525811 35\n",
      "1.0\n",
      "23\n",
      "31.33967968442654 31.33967968442654 36\n",
      "1.0\n",
      "24\n",
      "28.450293267757722 28.450293267757722 37\n",
      "1.0\n",
      "25\n",
      "35.2565724242629 36.085650419500574 38\n",
      "0.0\n",
      "14\n",
      "hii\n",
      "36.648458251983065 37.061362875533604 39\n",
      "0.0\n",
      "15\n",
      "hii\n",
      "19.67140366891105 19.67140366891105 40\n",
      "1.0\n",
      "26\n",
      "32.14758058414718 32.14758058414718 41\n",
      "1.0\n",
      "27\n",
      "37.201073916443164 37.83904552350321 42\n",
      "0.0\n",
      "16\n",
      "hii\n",
      "40.72070143657624 40.72070143657624 43\n",
      "1.0\n",
      "28\n",
      "36.69834012617958 36.69834012617958 44\n",
      "1.0\n",
      "29\n",
      "37.19424574382699 38.2936349404598 45\n",
      "0.0\n",
      "17\n",
      "hii\n",
      "33.72155778437589 33.72155778437589 46\n",
      "1.0\n",
      "30\n",
      "32.85306252095741 32.85306252095741 47\n",
      "1.0\n",
      "31\n",
      "30.02406636770276 30.02406636770276 48\n",
      "1.0\n",
      "32\n",
      "36.07305719809734 36.07305719809734 49\n",
      "1.0\n",
      "33\n",
      "31.586898628452126 36.12258924024276 50\n",
      "0.0\n",
      "18\n",
      "hii\n",
      "32.394078922689665 35.639880052385365 51\n",
      "0.0\n",
      "19\n",
      "hii\n",
      "29.125590064922655 29.125590064922655 52\n",
      "1.0\n",
      "34\n",
      "36.08256439305312 36.08256439305312 53\n",
      "1.0\n",
      "35\n",
      "33.74317797732788 35.211032919588554 54\n",
      "0.0\n",
      "20\n",
      "hii\n",
      "38.83274073620392 38.83274073620392 55\n",
      "1.0\n",
      "36\n",
      "35.336767125456376 35.336767125456376 56\n",
      "1.0\n",
      "37\n",
      "39.898483596114446 39.898483596114446 57\n",
      "1.0\n",
      "38\n",
      "36.35733833094061 42.25630244226177 58\n",
      "0.0\n",
      "21\n",
      "hii\n",
      "32.83929590898788 34.52214505252573 59\n",
      "0.0\n",
      "22\n",
      "hii\n",
      "33.85936513612273 33.85936513612273 60\n",
      "1.0\n",
      "39\n",
      "35.841727873328445 36.049393833012076 61\n",
      "0.0\n",
      "23\n",
      "hii\n",
      "28.26113584045511 31.559939050755883 62\n",
      "0.0\n",
      "24\n",
      "hii\n",
      "33.34619494001615 33.34619494001615 63\n",
      "1.0\n",
      "40\n",
      "38.08482667538691 38.315148361465624 64\n",
      "0.0\n",
      "25\n",
      "hii\n",
      "36.48855380018821 36.48855380018821 65\n",
      "1.0\n",
      "41\n",
      "32.7612814592462 34.29207998137458 66\n",
      "0.0\n",
      "26\n",
      "hii\n",
      "33.92854885029151 35.457055216962935 67\n",
      "0.0\n",
      "27\n",
      "hii\n",
      "37.32689350789317 38.81923420192643 68\n",
      "0.0\n",
      "28\n",
      "hii\n",
      "36.522109541806195 36.522109541806195 69\n",
      "1.0\n",
      "42\n",
      "30.237437895729492 30.237437895729492 70\n",
      "1.0\n",
      "43\n",
      "36.93950537665718 36.93950537665718 71\n",
      "1.0\n",
      "44\n",
      "29.28520231338699 29.28520231338699 72\n",
      "1.0\n",
      "45\n",
      "40.11624237084988 40.928339164964825 73\n",
      "0.0\n",
      "29\n",
      "hii\n",
      "38.966689538673485 39.44236881540462 74\n",
      "0.0\n",
      "30\n",
      "hii\n",
      "36.85769510482289 40.75910557316521 75\n",
      "0.0\n",
      "31\n",
      "hii\n",
      "33.801265926257614 33.801265926257614 76\n",
      "1.0\n",
      "46\n",
      "38.28993441175869 38.28993441175869 77\n",
      "1.0\n",
      "47\n",
      "26.84546523828246 26.84546523828246 78\n",
      "1.0\n",
      "48\n",
      "37.13810130554903 37.13810130554903 79\n",
      "1.0\n",
      "49\n",
      "28.649590559334076 28.649590559334076 80\n",
      "1.0\n",
      "50\n",
      "35.879731422776956 35.879731422776956 81\n",
      "1.0\n",
      "51\n",
      "38.081138477388585 40.98054931295607 82\n",
      "0.0\n",
      "32\n",
      "hii\n",
      "35.717300096184225 35.962186207181986 83\n",
      "0.0\n",
      "33\n",
      "hii\n",
      "37.99732787700816 37.99732787700816 84\n",
      "1.0\n",
      "52\n",
      "34.52773039878751 34.52773039878751 85\n",
      "1.0\n",
      "53\n",
      "31.88343823946975 31.88343823946975 86\n",
      "1.0\n",
      "54\n",
      "43.64505260568141 43.64505260568141 87\n",
      "1.0\n",
      "55\n",
      "33.08039908011702 33.08039908011702 88\n",
      "1.0\n",
      "56\n",
      "35.382288001688394 35.382288001688394 89\n",
      "1.0\n",
      "57\n",
      "38.113791554829135 38.113791554829135 90\n",
      "1.0\n",
      "58\n",
      "30.984616222360927 31.828717524611612 91\n",
      "0.0\n",
      "34\n",
      "hii\n",
      "37.34327176503055 37.34327176503055 92\n",
      "1.0\n",
      "59\n",
      "32.29836884327023 32.29836884327023 93\n",
      "1.0\n",
      "60\n",
      "42.58415413524352 42.58415413524352 94\n",
      "1.0\n",
      "61\n",
      "34.19776413471134 34.19776413471134 95\n",
      "1.0\n",
      "62\n",
      "30.56889574784789 30.56889574784789 96\n",
      "1.0\n",
      "63\n",
      "40.84600854023343 40.84600854023343 97\n",
      "1.0\n",
      "64\n",
      "33.77204053538458 36.79117056773379 98\n",
      "0.0\n",
      "35\n",
      "hii\n",
      "29.38536044302192 30.595343802895016 99\n",
      "0.0\n",
      "36\n",
      "hii\n",
      "33.75491308637689 34.19537864183893 100\n",
      "0.0\n",
      "37\n",
      "hii\n",
      "33.565472809772714 34.84337519553998 101\n",
      "0.0\n",
      "38\n",
      "hii\n",
      "38.04936433625223 40.89952486033307 102\n",
      "0.0\n",
      "39\n",
      "hii\n",
      "30.084785350560747 30.084785350560747 103\n",
      "1.0\n",
      "65\n",
      "36.59236842615159 36.59236842615159 104\n",
      "1.0\n",
      "66\n",
      "31.799526430681894 31.799526430681894 105\n",
      "1.0\n",
      "67\n",
      "32.59733061164728 32.59733061164728 106\n",
      "1.0\n",
      "68\n",
      "36.43508359618369 37.335393282756506 107\n",
      "0.0\n",
      "40\n",
      "hii\n",
      "38.72706389160401 38.72706389160401 108\n",
      "1.0\n",
      "69\n",
      "36.284473266572476 36.284473266572476 109\n",
      "1.0\n",
      "70\n",
      "34.48879515237569 34.48879515237569 110\n",
      "1.0\n",
      "71\n",
      "37.04871314060699 37.04871314060699 111\n",
      "1.0\n",
      "72\n",
      "33.72931259129225 33.72931259129225 112\n",
      "1.0\n",
      "73\n",
      "30.781273700361158 32.080454641526224 113\n",
      "0.0\n",
      "41\n",
      "hii\n",
      "30.49587488910667 30.49587488910667 114\n",
      "1.0\n",
      "74\n",
      "32.05943227611941 32.05943227611941 115\n",
      "1.0\n",
      "75\n",
      "34.06894646475115 34.06894646475115 116\n",
      "1.0\n",
      "76\n",
      "38.201265604794735 38.201265604794735 117\n",
      "1.0\n",
      "77\n",
      "32.32778809602013 32.32778809602013 118\n",
      "1.0\n",
      "78\n",
      "34.290527210618734 35.62534923299386 119\n",
      "0.0\n",
      "42\n",
      "hii\n",
      "35.218814277618655 35.218814277618655 120\n",
      "1.0\n",
      "79\n",
      "35.03051321355056 35.03051321355056 121\n",
      "1.0\n",
      "80\n",
      "37.327714786713194 39.146654556749155 122\n",
      "0.0\n",
      "43\n",
      "hii\n",
      "41.55648381051837 41.93837205260321 123\n",
      "0.0\n",
      "44\n",
      "hii\n",
      "30.17680492529515 30.17680492529515 124\n",
      "1.0\n",
      "81\n",
      "39.01621447633835 39.062224693813704 125\n",
      "0.0\n",
      "45\n",
      "hii\n",
      "39.97616767457767 41.49612269344145 126\n",
      "0.0\n",
      "46\n",
      "hii\n",
      "44.782502062382754 44.782502062382754 127\n",
      "1.0\n",
      "82\n",
      "34.57646781238429 34.57646781238429 128\n",
      "1.0\n",
      "83\n",
      "36.48787932394547 36.75380682583232 129\n",
      "0.0\n",
      "47\n",
      "hii\n",
      "31.243700296428333 31.243700296428333 130\n",
      "1.0\n",
      "84\n",
      "33.63970023279775 33.63970023279775 131\n",
      "1.0\n",
      "85\n",
      "33.09223905737462 34.329953211150254 132\n",
      "0.0\n",
      "48\n",
      "hii\n",
      "32.567161690153775 32.567161690153775 133\n",
      "1.0\n",
      "86\n",
      "36.710726074406615 36.710726074406615 134\n",
      "1.0\n",
      "87\n",
      "32.780527271890676 35.85943972309516 135\n",
      "0.0\n",
      "49\n",
      "hii\n",
      "33.99481855141618 33.99481855141618 136\n",
      "1.0\n",
      "88\n",
      "34.2556300559554 34.2556300559554 137\n",
      "1.0\n",
      "89\n",
      "30.37710205807448 30.37710205807448 138\n",
      "1.0\n",
      "90\n",
      "43.499545395072 43.499545395072 139\n",
      "1.0\n",
      "91\n",
      "37.73632584040474 38.03718172980753 140\n",
      "0.0\n",
      "50\n",
      "hii\n",
      "34.7357800399496 34.7357800399496 141\n",
      "1.0\n",
      "92\n",
      "29.509684547155736 30.266816409022432 142\n",
      "0.0\n",
      "51\n",
      "hii\n",
      "39.057994341984056 39.057994341984056 143\n",
      "1.0\n",
      "93\n",
      "33.950030996595224 33.950030996595224 144\n",
      "1.0\n",
      "94\n",
      "27.04259151562696 27.04259151562696 145\n",
      "1.0\n",
      "95\n",
      "31.34090678534661 31.34090678534661 146\n",
      "1.0\n",
      "96\n",
      "38.63402447303689 38.63402447303689 147\n",
      "1.0\n",
      "97\n",
      "37.06313028709011 37.06313028709011 148\n",
      "1.0\n",
      "98\n",
      "30.103947519898423 30.103947519898423 149\n",
      "1.0\n",
      "99\n",
      "35.210639094744934 35.210639094744934 150\n",
      "1.0\n",
      "100\n",
      "39.862204270768515 41.71781150157024 151\n",
      "0.0\n",
      "52\n",
      "hii\n",
      "34.52506856885211 34.52506856885211 152\n",
      "1.0\n",
      "101\n",
      "35.67547160147482 36.91679099213459 153\n",
      "0.0\n",
      "53\n",
      "hii\n",
      "40.19771257798225 41.92813922387479 154\n",
      "0.0\n",
      "54\n",
      "hii\n",
      "29.07800483034407 29.6816984539847 155\n",
      "0.0\n",
      "55\n",
      "hii\n",
      "30.874869842579983 30.874869842579983 156\n",
      "1.0\n",
      "102\n",
      "38.31341234108399 38.31341234108399 157\n",
      "1.0\n",
      "103\n",
      "33.70434015774533 33.70434015774533 158\n",
      "1.0\n",
      "104\n",
      "40.0429298370147 40.0429298370147 159\n",
      "1.0\n",
      "105\n",
      "37.9494904750106 37.9494904750106 160\n",
      "1.0\n",
      "106\n",
      "34.28410212834468 34.28410212834468 161\n",
      "1.0\n",
      "107\n",
      "31.51657920444497 31.51657920444497 162\n",
      "1.0\n",
      "108\n",
      "40.88955575680267 40.88955575680267 163\n",
      "1.0\n",
      "109\n",
      "34.35029175662813 34.59739378194312 164\n",
      "0.0\n",
      "56\n",
      "hii\n",
      "34.75618176991088 34.75618176991088 165\n",
      "1.0\n",
      "110\n",
      "31.68803465026651 31.68803465026651 166\n",
      "1.0\n",
      "111\n",
      "32.61356518385701 32.999084747477596 167\n",
      "0.0\n",
      "57\n",
      "hii\n",
      "35.764155131830606 35.764155131830606 168\n",
      "1.0\n",
      "112\n",
      "34.22835976561952 36.54864778154144 169\n",
      "0.0\n",
      "58\n",
      "hii\n",
      "28.68327656069126 28.68327656069126 170\n",
      "1.0\n",
      "113\n",
      "35.61511743857709 35.90028861853836 171\n",
      "0.0\n",
      "59\n",
      "hii\n",
      "37.53473656371475 39.65662216860161 172\n",
      "0.0\n",
      "60\n",
      "hii\n",
      "38.8267853694794 39.88429029974206 173\n",
      "0.0\n",
      "61\n",
      "hii\n"
     ]
    },
    {
     "name": "stdout",
     "output_type": "stream",
     "text": [
      "34.67586951421559 34.67586951421559 174\n",
      "1.0\n",
      "114\n",
      "34.13432230393007 34.13432230393007 175\n",
      "1.0\n",
      "115\n",
      "33.37418961244205 33.37418961244205 176\n",
      "1.0\n",
      "116\n",
      "31.916154121028804 35.86967434258201 177\n",
      "0.0\n",
      "62\n",
      "hii\n",
      "35.733011004728496 35.733011004728496 178\n",
      "1.0\n",
      "117\n",
      "32.21153658027685 32.21153658027685 179\n",
      "1.0\n",
      "118\n",
      "33.166298272352336 33.166298272352336 180\n",
      "1.0\n",
      "119\n",
      "37.42571406739173 37.42571406739173 181\n",
      "1.0\n",
      "120\n",
      "33.827352222009864 33.827352222009864 182\n",
      "1.0\n",
      "121\n",
      "34.765725309818244 34.765725309818244 183\n",
      "1.0\n",
      "122\n",
      "36.97678474263526 37.22178555011058 184\n",
      "0.0\n",
      "63\n",
      "hii\n",
      "33.47096742698214 33.47096742698214 185\n",
      "1.0\n",
      "123\n",
      "32.6262576922757 32.6262576922757 186\n",
      "1.0\n",
      "124\n",
      "35.635751060153964 35.635751060153964 187\n",
      "1.0\n",
      "125\n",
      "30.44795388712716 30.44795388712716 188\n",
      "1.0\n",
      "126\n",
      "38.302830809081755 38.302830809081755 189\n",
      "1.0\n",
      "127\n",
      "31.8834822033806 31.8834822033806 190\n",
      "1.0\n",
      "128\n",
      "36.50679570602351 36.50679570602351 191\n",
      "1.0\n",
      "129\n",
      "37.656058304126994 38.36814636223964 192\n",
      "0.0\n",
      "64\n",
      "hii\n",
      "35.739555846247 35.739555846247 193\n",
      "1.0\n",
      "130\n",
      "34.11452025742623 34.93173289213321 194\n",
      "0.0\n",
      "65\n",
      "hii\n",
      "34.24968609522612 34.349833842372476 195\n",
      "0.0\n",
      "66\n",
      "hii\n",
      "32.7896350132143 32.7896350132143 196\n",
      "1.0\n",
      "131\n",
      "31.997979681001308 32.53110444230812 197\n",
      "0.0\n",
      "67\n",
      "hii\n",
      "37.922666174440515 37.922666174440515 198\n",
      "1.0\n",
      "132\n",
      "38.24725514847455 38.24725514847455 199\n",
      "1.0\n",
      "133\n",
      "34.25169631305138 34.25169631305138 200\n",
      "1.0\n",
      "134\n",
      "37.028570751092815 39.204314176100596 201\n",
      "0.0\n",
      "68\n",
      "hii\n",
      "38.80250334754887 38.80250334754887 202\n",
      "1.0\n",
      "135\n",
      "37.7517855305349 38.894089591907886 203\n",
      "0.0\n",
      "69\n",
      "hii\n",
      "30.783755479978755 30.783755479978755 204\n",
      "1.0\n",
      "136\n",
      "35.14847989591041 35.14847989591041 205\n",
      "1.0\n",
      "137\n",
      "35.53389399005195 36.91768905303076 206\n",
      "0.0\n",
      "70\n",
      "hii\n",
      "34.728705859846336 36.60166887139016 207\n",
      "0.0\n",
      "71\n",
      "hii\n",
      "37.12128716783855 37.12128716783855 208\n",
      "1.0\n",
      "138\n",
      "31.524467934975327 33.183221323881384 209\n",
      "0.0\n",
      "72\n",
      "hii\n",
      "34.46320440381859 35.37812835411459 210\n",
      "0.0\n",
      "73\n",
      "hii\n",
      "37.81937158908466 42.314968002730026 211\n",
      "0.0\n",
      "74\n",
      "hii\n",
      "30.35545804281642 31.570569031632267 212\n",
      "0.0\n",
      "75\n",
      "hii\n",
      "41.26360453352968 42.54128146239401 213\n",
      "0.0\n",
      "76\n",
      "hii\n",
      "37.18138819160681 37.18138819160681 214\n",
      "1.0\n",
      "139\n",
      "24.46873732269818 24.46873732269818 215\n",
      "1.0\n",
      "140\n",
      "34.25776353610565 34.25776353610565 216\n",
      "1.0\n",
      "141\n",
      "31.083129024759533 31.626638963731224 217\n",
      "0.0\n",
      "77\n",
      "hii\n",
      "33.73095089374333 33.73095089374333 218\n",
      "1.0\n",
      "142\n",
      "34.51754725849839 34.51754725849839 219\n",
      "1.0\n",
      "143\n",
      "34.104733329358396 34.104733329358396 220\n",
      "1.0\n",
      "144\n",
      "37.46854110122549 37.665516478340514 221\n",
      "0.0\n",
      "78\n",
      "hii\n",
      "36.839690530349685 36.839690530349685 222\n",
      "1.0\n",
      "145\n",
      "31.73715044508912 31.73715044508912 223\n",
      "1.0\n",
      "146\n",
      "39.40573372205434 39.40573372205434 224\n",
      "1.0\n",
      "147\n",
      "30.256411993936922 30.256411993936922 225\n",
      "1.0\n",
      "148\n",
      "39.147982286890716 39.147982286890716 226\n",
      "1.0\n",
      "149\n",
      "33.974438859244486 33.974438859244486 227\n",
      "1.0\n",
      "150\n",
      "31.950766111207404 31.950766111207404 228\n",
      "1.0\n",
      "151\n",
      "34.15864509966541 34.15864509966541 229\n",
      "1.0\n",
      "152\n",
      "32.790840394249294 35.0643719783421 230\n",
      "0.0\n",
      "79\n",
      "hii\n",
      "45.43605922953521 45.43605922953521 231\n",
      "1.0\n",
      "153\n",
      "40.69530362074048 40.69530362074048 232\n",
      "1.0\n",
      "154\n",
      "37.07226387371815 37.07226387371815 233\n",
      "1.0\n",
      "155\n",
      "38.92230471624986 39.184861565286795 234\n",
      "0.0\n",
      "80\n",
      "hii\n",
      "29.12315961538082 29.12315961538082 235\n",
      "1.0\n",
      "156\n",
      "39.44048907177986 40.77288826967968 236\n",
      "0.0\n",
      "81\n",
      "hii\n",
      "33.85747265380731 33.85747265380731 237\n",
      "1.0\n",
      "157\n",
      "32.21837523716027 33.62510624385176 238\n",
      "0.0\n",
      "82\n",
      "hii\n",
      "39.11513338396982 39.11513338396982 239\n",
      "1.0\n",
      "158\n",
      "36.634814580352575 36.634814580352575 240\n",
      "1.0\n",
      "159\n",
      "34.37118925322913 34.37118925322913 241\n",
      "1.0\n",
      "160\n",
      "35.475496589043125 36.78527153626684 242\n",
      "0.0\n",
      "83\n",
      "hii\n",
      "36.24452728336711 36.24452728336711 243\n",
      "1.0\n",
      "161\n",
      "39.11473421450435 39.11473421450435 244\n",
      "1.0\n",
      "162\n",
      "35.476010588590455 35.476010588590455 245\n",
      "1.0\n",
      "163\n",
      "33.618158247960366 33.618158247960366 246\n",
      "1.0\n",
      "164\n",
      "32.29808536965758 35.04776370484078 247\n",
      "0.0\n",
      "84\n",
      "hii\n",
      "31.15237850035698 35.54262198793449 248\n",
      "0.0\n",
      "85\n",
      "hii\n",
      "28.79183271056997 28.79183271056997 249\n",
      "1.0\n",
      "165\n",
      "31.684561254652063 33.24791234607813 250\n",
      "0.0\n",
      "86\n",
      "hii\n",
      "36.34142292653013 37.58584642867276 251\n",
      "0.0\n",
      "87\n",
      "hii\n",
      "43.11248922963945 43.11248922963945 252\n",
      "1.0\n",
      "166\n",
      "30.234884214623566 30.234884214623566 253\n",
      "1.0\n",
      "167\n",
      "32.058241094938964 32.058241094938964 254\n",
      "1.0\n",
      "168\n",
      "31.884651890399386 32.242435762838916 255\n",
      "0.0\n",
      "88\n",
      "hii\n",
      "29.891107135484962 33.82878591258481 256\n",
      "0.0\n",
      "89\n",
      "hii\n",
      "32.70671165964116 32.70671165964116 257\n",
      "1.0\n",
      "169\n",
      "35.442564970173706 35.442564970173706 258\n",
      "1.0\n",
      "170\n",
      "33.0285100356137 33.0285100356137 259\n",
      "1.0\n",
      "171\n",
      "28.92092290553934 32.64971131835697 260\n",
      "0.0\n",
      "90\n",
      "hii\n",
      "38.17710107219863 38.17710107219863 261\n",
      "1.0\n",
      "172\n",
      "37.39138489945464 42.17290359455893 262\n",
      "0.0\n",
      "91\n",
      "hii\n",
      "32.630373194625705 32.630373194625705 263\n",
      "1.0\n",
      "173\n",
      "31.652522593274078 31.652522593274078 264\n",
      "1.0\n",
      "174\n",
      "34.08038280726652 34.08038280726652 265\n",
      "1.0\n",
      "175\n",
      "36.05972657249356 36.05972657249356 266\n",
      "1.0\n",
      "176\n",
      "35.165560215460054 35.165560215460054 267\n",
      "1.0\n",
      "177\n",
      "31.352800551438026 31.352800551438026 268\n",
      "1.0\n",
      "178\n",
      "39.230511230600285 39.230511230600285 269\n",
      "1.0\n",
      "179\n",
      "35.72672917329565 35.72672917329565 270\n",
      "1.0\n",
      "180\n",
      "39.98735142028473 39.98735142028473 271\n",
      "1.0\n",
      "181\n",
      "37.0530364331224 37.0530364331224 272\n",
      "1.0\n",
      "182\n",
      "34.55598489572313 36.833906480564295 273\n",
      "0.0\n",
      "92\n",
      "hii\n",
      "37.20188528403122 37.20188528403122 274\n",
      "1.0\n",
      "183\n",
      "32.42898629947704 33.23167113950575 275\n",
      "0.0\n",
      "93\n",
      "hii\n",
      "32.96840530068749 32.96840530068749 276\n",
      "1.0\n",
      "184\n",
      "33.59907014437102 33.59907014437102 277\n",
      "1.0\n",
      "185\n",
      "38.76268060319554 39.91749026349471 278\n",
      "0.0\n",
      "94\n",
      "hii\n",
      "35.90352948354018 35.90352948354018 279\n",
      "1.0\n",
      "186\n",
      "35.72499247429382 35.72499247429382 280\n",
      "1.0\n",
      "187\n",
      "31.365231887559 31.365231887559 281\n",
      "1.0\n",
      "188\n",
      "33.587502371571276 33.587502371571276 282\n",
      "1.0\n",
      "189\n",
      "35.980586956348326 35.980586956348326 283\n",
      "1.0\n",
      "190\n",
      "39.80386807045329 39.80386807045329 284\n",
      "1.0\n",
      "191\n",
      "36.29876511398748 36.29876511398748 285\n",
      "1.0\n",
      "192\n",
      "37.83487762069432 37.83487762069432 286\n",
      "1.0\n",
      "193\n",
      "28.398084457774274 34.46419998443308 287\n",
      "0.0\n",
      "95\n",
      "hii\n",
      "43.95509987158039 43.95509987158039 288\n",
      "1.0\n",
      "194\n",
      "33.03273265263975 33.5953387298328 289\n",
      "0.0\n",
      "96\n",
      "hii\n",
      "35.48928013766942 35.56907185328944 290\n",
      "0.0\n",
      "97\n",
      "hii\n",
      "34.28307524381505 34.28307524381505 291\n",
      "1.0\n",
      "195\n",
      "35.313616871132474 35.313616871132474 292\n",
      "1.0\n",
      "196\n",
      "36.175696126263595 36.175696126263595 293\n",
      "1.0\n",
      "197\n",
      "37.72523244824866 37.72523244824866 294\n",
      "1.0\n",
      "198\n",
      "40.15870964263982 40.92811203397309 295\n",
      "0.0\n",
      "98\n",
      "hii\n",
      "41.89980182230835 41.89980182230835 296\n",
      "1.0\n",
      "199\n",
      "36.13339811902824 37.238743734081694 297\n",
      "0.0\n",
      "99\n",
      "hii\n",
      "41.908184520383145 43.78124102946537 298\n",
      "0.0\n",
      "100\n",
      "hii\n",
      "32.201527928226426 32.201527928226426 299\n",
      "1.0\n",
      "200\n",
      "33.58576310867946 33.58576310867946 300\n",
      "1.0\n",
      "201\n",
      "35.039470963 37.65973715702168 301\n",
      "0.0\n",
      "101\n",
      "hii\n",
      "36.55536127796135 38.26092502129524 302\n",
      "0.0\n",
      "102\n",
      "hii\n",
      "29.48675568035227 29.48675568035227 303\n",
      "1.0\n",
      "202\n",
      "37.90201748133342 38.04961586595942 304\n",
      "0.0\n",
      "103\n",
      "hii\n",
      "35.90848888390001 35.90848888390001 305\n",
      "1.0\n",
      "203\n",
      "31.986311176335917 32.80974954273736 306\n",
      "0.0\n",
      "104\n",
      "hii\n",
      "31.53362659192973 33.62494223388383 307\n",
      "0.0\n",
      "105\n",
      "hii\n",
      "36.24080038836239 36.24080038836239 308\n",
      "1.0\n",
      "204\n",
      "34.56711980483368 34.56711980483368 309\n",
      "1.0\n",
      "205\n",
      "39.21462330992498 39.21462330992498 310\n",
      "1.0\n",
      "206\n",
      "36.25345981246768 38.28903791869982 311\n",
      "0.0\n",
      "106\n",
      "hii\n",
      "35.084921271700715 35.084921271700715 312\n",
      "1.0\n",
      "207\n",
      "42.80671985913608 43.08579352263593 313\n",
      "0.0\n",
      "107\n",
      "hii\n",
      "33.10467607196732 33.10467607196732 314\n",
      "1.0\n",
      "208\n",
      "34.09681988583214 34.09681988583214 315\n",
      "1.0\n",
      "209\n",
      "42.133607542324505 42.133607542324505 316\n",
      "1.0\n",
      "210\n",
      "33.5076716061041 33.5076716061041 317\n",
      "1.0\n",
      "211\n",
      "39.325267215202246 40.541304649186415 318\n",
      "0.0\n",
      "108\n",
      "hii\n",
      "41.908424573198616 41.908424573198616 319\n",
      "1.0\n",
      "212\n",
      "40.831537995058056 40.831537995058056 320\n",
      "1.0\n",
      "213\n",
      "29.94005534429776 29.94005534429776 321\n",
      "1.0\n",
      "214\n",
      "33.3410464741362 33.3410464741362 322\n",
      "1.0\n",
      "215\n",
      "33.99744166251002 33.99744166251002 323\n",
      "1.0\n",
      "216\n",
      "38.207063030405564 38.207063030405564 324\n",
      "1.0\n",
      "217\n",
      "33.09806650656132 33.09806650656132 325\n",
      "1.0\n",
      "218\n",
      "37.912959256764864 37.912959256764864 326\n",
      "1.0\n",
      "219\n",
      "32.684043294670346 34.37669127175237 327\n",
      "0.0\n",
      "109\n",
      "hii\n",
      "33.457188470515895 33.972516633148665 328\n",
      "0.0\n",
      "110\n",
      "hii\n",
      "30.650684692181454 30.650684692181454 329\n",
      "1.0\n",
      "220\n",
      "29.663070311570447 29.663070311570447 330\n",
      "1.0\n",
      "221\n",
      "33.024118545979874 33.024118545979874 331\n",
      "1.0\n",
      "222\n",
      "35.01193789338073 37.46787822530939 332\n",
      "0.0\n",
      "111\n",
      "hii\n",
      "31.71060635632818 33.75862720855639 333\n",
      "0.0\n",
      "112\n",
      "hii\n",
      "35.85783301698469 35.867016717928195 334\n",
      "0.0\n",
      "113\n",
      "hii\n",
      "30.766590653543254 30.766590653543254 335\n",
      "1.0\n",
      "223\n",
      "34.50371378819828 34.50371378819828 336\n",
      "1.0\n",
      "224\n",
      "38.887134453601256 39.30893681153797 337\n",
      "0.0\n",
      "114\n",
      "hii\n",
      "33.28693046045037 33.28693046045037 338\n",
      "1.0\n",
      "225\n",
      "36.75228215772933 36.75228215772933 339\n",
      "1.0\n",
      "226\n",
      "38.59035680718352 38.59035680718352 340\n",
      "1.0\n",
      "227\n",
      "31.93955320373321 31.93955320373321 341\n",
      "1.0\n",
      "228\n",
      "38.8881668998898 38.8881668998898 342\n",
      "1.0\n",
      "229\n",
      "38.17876927817565 41.19051429686585 343\n",
      "0.0\n",
      "115\n",
      "hii\n",
      "33.936581202379315 33.936581202379315 344\n",
      "1.0\n",
      "230\n"
     ]
    },
    {
     "name": "stdout",
     "output_type": "stream",
     "text": [
      "31.605206909152482 31.605206909152482 345\n",
      "1.0\n",
      "231\n",
      "37.14291422438115 39.76060548592316 346\n",
      "0.0\n",
      "116\n",
      "hii\n",
      "38.842530643025746 42.13803475073702 347\n",
      "0.0\n",
      "117\n",
      "hii\n",
      "32.635489021605125 33.08770480634258 348\n",
      "0.0\n",
      "118\n",
      "hii\n",
      "34.81865045160556 36.43513698575041 349\n",
      "0.0\n",
      "119\n",
      "hii\n",
      "33.12390718774657 33.12390718774657 350\n",
      "1.0\n",
      "232\n",
      "35.021918057949286 37.86732461000635 351\n",
      "0.0\n",
      "120\n",
      "hii\n",
      "41.849865005659325 41.849865005659325 352\n",
      "1.0\n",
      "233\n",
      "37.49483775935703 37.49483775935703 353\n",
      "1.0\n",
      "234\n",
      "31.883026311878506 32.96657451127551 354\n",
      "0.0\n",
      "121\n",
      "hii\n",
      "33.77614902468692 33.77614902468692 355\n",
      "1.0\n",
      "235\n",
      "37.235104172690924 37.235104172690924 356\n",
      "1.0\n",
      "236\n",
      "35.81624785391267 35.81624785391267 357\n",
      "1.0\n",
      "237\n",
      "34.89644495979658 34.89644495979658 358\n",
      "1.0\n",
      "238\n",
      "37.17787261490024 37.17787261490024 359\n",
      "1.0\n",
      "239\n",
      "33.01030719330539 33.94634838515604 360\n",
      "0.0\n",
      "122\n",
      "hii\n",
      "43.13491610418035 43.13491610418035 361\n",
      "1.0\n",
      "240\n",
      "37.6060786906843 37.6060786906843 362\n",
      "1.0\n",
      "241\n",
      "32.180028943960544 35.790506729537434 363\n",
      "0.0\n",
      "123\n",
      "hii\n",
      "33.284976125687336 34.25286228377562 364\n",
      "0.0\n",
      "124\n",
      "hii\n",
      "39.15234980975593 39.15234980975593 365\n",
      "1.0\n",
      "242\n",
      "37.941334395134334 39.55730788156402 366\n",
      "0.0\n",
      "125\n",
      "hii\n",
      "29.78098673891798 29.78098673891798 367\n",
      "1.0\n",
      "243\n",
      "34.173063799241916 34.173063799241916 368\n",
      "1.0\n",
      "244\n",
      "34.90986015025495 34.90986015025495 369\n",
      "1.0\n",
      "245\n",
      "36.16892240786631 36.16892240786631 370\n",
      "1.0\n",
      "246\n",
      "41.1803500249739 41.1803500249739 371\n",
      "1.0\n",
      "247\n",
      "35.34753398607705 38.25475405081553 372\n",
      "0.0\n",
      "126\n",
      "hii\n",
      "35.92091022626579 35.92091022626579 373\n",
      "1.0\n",
      "248\n",
      "38.14778737573498 38.14778737573498 374\n",
      "1.0\n",
      "249\n",
      "30.10518125438813 30.10518125438813 375\n",
      "1.0\n",
      "250\n",
      "37.614272087696484 37.614272087696484 376\n",
      "1.0\n",
      "251\n",
      "33.470719607405016 33.470719607405016 377\n",
      "1.0\n",
      "252\n",
      "34.938852441692816 34.938852441692816 378\n",
      "1.0\n",
      "253\n",
      "35.06916977557982 35.06916977557982 379\n",
      "1.0\n",
      "254\n",
      "31.08131224659483 34.49139329570885 380\n",
      "0.0\n",
      "127\n",
      "hii\n",
      "33.39818666356102 33.761096485905185 381\n",
      "0.0\n",
      "128\n",
      "hii\n",
      "35.51367418249086 35.51367418249086 382\n",
      "1.0\n",
      "255\n",
      "40.1679798829553 40.1679798829553 383\n",
      "1.0\n",
      "256\n",
      "35.50454417793724 35.97495148716287 384\n",
      "0.0\n",
      "129\n",
      "hii\n",
      "34.45143468413247 34.45143468413247 385\n",
      "1.0\n",
      "257\n",
      "31.789692815704495 33.81286526191225 386\n",
      "0.0\n",
      "130\n",
      "hii\n",
      "35.31630341826798 37.769757647796695 387\n",
      "0.0\n",
      "131\n",
      "hii\n",
      "35.13433134595417 35.13433134595417 388\n",
      "1.0\n",
      "258\n",
      "32.495952899348104 32.495952899348104 389\n",
      "1.0\n",
      "259\n",
      "38.32545094713439 38.32545094713439 390\n",
      "1.0\n",
      "260\n",
      "38.690593417429945 38.690593417429945 391\n",
      "1.0\n",
      "261\n",
      "41.54061332950531 41.54061332950531 392\n",
      "1.0\n",
      "262\n",
      "33.95166971598497 33.95166971598497 393\n",
      "1.0\n",
      "263\n",
      "30.144868414729828 30.144868414729828 394\n",
      "1.0\n",
      "264\n",
      "32.70242803057926 32.70242803057926 395\n",
      "1.0\n",
      "265\n",
      "34.77491714104179 35.174787799482694 396\n",
      "0.0\n",
      "132\n",
      "hii\n",
      "36.16095571545648 36.4092473402753 397\n",
      "0.0\n",
      "133\n",
      "hii\n",
      "39.84647174759649 39.84647174759649 398\n",
      "1.0\n",
      "266\n",
      "31.3359399218895 31.3359399218895 399\n",
      "1.0\n",
      "267\n",
      "43.43213719284317 43.43213719284317 400\n",
      "1.0\n",
      "268\n",
      "42.32199708025215 46.08193526146459 401\n",
      "0.0\n",
      "134\n",
      "hii\n",
      "34.924615566989914 34.924615566989914 402\n",
      "1.0\n",
      "269\n",
      "35.504637840794814 35.504637840794814 403\n",
      "1.0\n",
      "270\n",
      "36.571332925060645 38.92584518215859 404\n",
      "0.0\n",
      "135\n",
      "hii\n",
      "35.46410738417398 35.46410738417398 405\n",
      "1.0\n",
      "271\n",
      "35.91386776411737 37.677844554805716 406\n",
      "0.0\n",
      "136\n",
      "hii\n",
      "38.76786711696881 38.76786711696881 407\n",
      "1.0\n",
      "272\n",
      "35.40035057260364 35.40035057260364 408\n",
      "1.0\n",
      "273\n",
      "42.37864596459384 42.37864596459384 409\n",
      "1.0\n",
      "274\n",
      "33.468481123035666 33.468481123035666 410\n",
      "1.0\n",
      "275\n",
      "32.14552601656745 32.14552601656745 411\n",
      "1.0\n",
      "276\n",
      "38.12046793967416 38.12046793967416 412\n",
      "1.0\n",
      "277\n",
      "38.3630111635623 38.3630111635623 413\n",
      "1.0\n",
      "278\n",
      "31.07545302859535 31.07545302859535 414\n",
      "1.0\n",
      "279\n",
      "36.820615533937655 36.820615533937655 415\n",
      "1.0\n",
      "280\n",
      "34.65000422781256 35.87362930052448 416\n",
      "0.0\n",
      "137\n",
      "hii\n",
      "36.91080092912175 36.91080092912175 417\n",
      "1.0\n",
      "281\n",
      "36.43036739997461 36.43036739997461 418\n",
      "1.0\n",
      "282\n",
      "31.84109511822204 31.84109511822204 419\n",
      "1.0\n",
      "283\n",
      "34.198146041926954 34.198146041926954 420\n",
      "1.0\n",
      "284\n",
      "37.048012713263915 37.048012713263915 421\n",
      "1.0\n",
      "285\n",
      "32.60585378559436 33.646023062412084 422\n",
      "0.0\n",
      "138\n",
      "hii\n",
      "32.801011187130804 32.801011187130804 423\n",
      "1.0\n",
      "286\n",
      "34.192936225347644 34.192936225347644 424\n",
      "1.0\n",
      "287\n",
      "34.18179061489047 34.18179061489047 425\n",
      "1.0\n",
      "288\n",
      "35.20898437281415 35.20898437281415 426\n",
      "1.0\n",
      "289\n",
      "33.92902717387519 35.87881597855161 427\n",
      "0.0\n",
      "139\n",
      "hii\n",
      "35.53301101059315 35.53301101059315 428\n",
      "1.0\n",
      "290\n",
      "31.758457188843863 31.758457188843863 429\n",
      "1.0\n",
      "291\n",
      "37.01440081936425 37.01440081936425 430\n",
      "1.0\n",
      "292\n",
      "47.16929562354347 47.16929562354347 431\n",
      "1.0\n",
      "293\n",
      "29.394831406203426 29.394831406203426 432\n",
      "1.0\n",
      "294\n",
      "29.438162895131562 34.97417777379181 433\n",
      "0.0\n",
      "140\n",
      "hii\n",
      "36.50790481951983 36.50790481951983 434\n",
      "1.0\n",
      "295\n",
      "32.84435621463445 32.84435621463445 435\n",
      "1.0\n",
      "296\n",
      "33.787492986905065 33.900362801572065 436\n",
      "0.0\n",
      "141\n",
      "hii\n",
      "37.3348227421899 37.3348227421899 437\n",
      "1.0\n",
      "297\n",
      "31.23642364608304 31.23642364608304 438\n",
      "1.0\n",
      "298\n",
      "34.70863020286098 34.70863020286098 439\n",
      "1.0\n",
      "299\n",
      "35.22023624892709 35.63076592973856 440\n",
      "0.0\n",
      "142\n",
      "hii\n",
      "42.666070222592374 42.666070222592374 441\n",
      "1.0\n",
      "300\n",
      "32.26882530641115 32.26882530641115 442\n",
      "1.0\n",
      "301\n",
      "32.00525340272156 32.00525340272156 443\n",
      "1.0\n",
      "302\n",
      "30.818237228182934 30.818237228182934 444\n",
      "1.0\n",
      "303\n",
      "33.11790681295869 33.11790681295869 445\n",
      "1.0\n",
      "304\n",
      "32.28184509027653 32.28184509027653 446\n",
      "1.0\n",
      "305\n",
      "32.45158968229656 34.34872758205776 447\n",
      "0.0\n",
      "143\n",
      "hii\n",
      "37.992657610760475 37.992657610760475 448\n",
      "1.0\n",
      "306\n",
      "32.467235500463424 35.68569270098339 449\n",
      "0.0\n",
      "144\n",
      "hii\n",
      "38.27533605442649 38.27533605442649 450\n",
      "1.0\n",
      "307\n",
      "35.883306469753336 41.014212563223786 451\n",
      "0.0\n",
      "145\n",
      "hii\n",
      "37.927128516323236 39.113086985467284 452\n",
      "0.0\n",
      "146\n",
      "hii\n",
      "34.66243082849759 34.66243082849759 453\n",
      "1.0\n",
      "308\n",
      "44.210656386553865 44.210656386553865 454\n",
      "1.0\n",
      "309\n",
      "39.649543694871234 39.649543694871234 455\n",
      "1.0\n",
      "310\n",
      "29.298389664035604 30.219705017481992 456\n",
      "0.0\n",
      "147\n",
      "hii\n",
      "35.68120011806892 35.68120011806892 457\n",
      "1.0\n",
      "311\n",
      "33.15130003559498 33.15130003559498 458\n",
      "1.0\n",
      "312\n",
      "36.00318540883855 36.00318540883855 459\n",
      "1.0\n",
      "313\n",
      "33.819297058317424 33.819297058317424 460\n",
      "1.0\n",
      "314\n",
      "36.81345474548632 36.81345474548632 461\n",
      "1.0\n",
      "315\n",
      "32.76408563335089 33.30850270124181 462\n",
      "0.0\n",
      "148\n",
      "hii\n",
      "39.83644978507762 39.83644978507762 463\n",
      "1.0\n",
      "316\n",
      "33.77726140734959 33.77726140734959 464\n",
      "1.0\n",
      "317\n",
      "40.92978780634653 40.92978780634653 465\n",
      "1.0\n",
      "318\n",
      "32.83254412796043 33.30510771891616 466\n",
      "0.0\n",
      "149\n",
      "hii\n",
      "30.688854232415768 30.688854232415768 467\n",
      "1.0\n",
      "319\n",
      "35.115632769863154 35.17736959327686 468\n",
      "0.0\n",
      "150\n",
      "hii\n",
      "35.079854035056165 35.079854035056165 469\n",
      "1.0\n",
      "320\n",
      "33.97574683818127 33.97574683818127 470\n",
      "1.0\n",
      "321\n",
      "34.16482525961842 34.16482525961842 471\n",
      "1.0\n",
      "322\n",
      "32.78337420415138 32.78337420415138 472\n",
      "1.0\n",
      "323\n",
      "34.71774243380737 35.80999419991669 473\n",
      "0.0\n",
      "151\n",
      "hii\n",
      "29.936322605315606 29.936322605315606 474\n",
      "1.0\n",
      "324\n",
      "37.51536507924092 43.83051531418696 475\n",
      "0.0\n",
      "152\n",
      "hii\n",
      "40.471842828799474 40.991202796277854 476\n",
      "0.0\n",
      "153\n",
      "hii\n",
      "45.14152740526575 47.89145915304185 477\n",
      "0.0\n",
      "154\n",
      "hii\n",
      "34.899221089057065 34.899221089057065 478\n",
      "1.0\n",
      "325\n",
      "31.77788012694166 31.77788012694166 479\n",
      "1.0\n",
      "326\n",
      "34.179898036539356 39.451376365052916 480\n",
      "0.0\n",
      "155\n",
      "hii\n",
      "37.40058467508953 37.60197078043557 481\n",
      "0.0\n",
      "156\n",
      "hii\n",
      "34.767640791010265 34.767640791010265 482\n",
      "1.0\n",
      "327\n",
      "40.41348084638053 41.61099063407177 483\n",
      "0.0\n",
      "157\n",
      "hii\n",
      "32.27561542610978 32.27561542610978 484\n",
      "1.0\n",
      "328\n",
      "30.60651384835907 30.60651384835907 485\n",
      "1.0\n",
      "329\n",
      "38.8631764905045 38.8631764905045 486\n",
      "1.0\n",
      "330\n",
      "33.000780221318585 33.000780221318585 487\n",
      "1.0\n",
      "331\n",
      "38.4820599496878 38.4820599496878 488\n",
      "1.0\n",
      "332\n",
      "33.78951587651597 33.78951587651597 489\n",
      "1.0\n",
      "333\n",
      "32.292110435719216 32.292110435719216 490\n",
      "1.0\n",
      "334\n",
      "41.06168128953712 41.06168128953712 491\n",
      "1.0\n",
      "335\n",
      "35.92876614876814 35.92876614876814 492\n",
      "1.0\n",
      "336\n",
      "31.82505538442579 31.82505538442579 493\n",
      "1.0\n",
      "337\n",
      "33.58724534495757 35.360832564391636 494\n",
      "0.0\n",
      "158\n",
      "hii\n",
      "27.38488221164393 27.38488221164393 495\n",
      "1.0\n",
      "338\n",
      "35.154768665891396 35.154768665891396 496\n",
      "1.0\n",
      "339\n",
      "41.60059748909593 41.60059748909593 497\n",
      "1.0\n",
      "340\n",
      "36.50325270877919 39.65182316150312 498\n",
      "0.0\n",
      "159\n",
      "hii\n",
      "29.323924789169798 29.608338524839645 499\n",
      "0.0\n",
      "160\n",
      "hii\n",
      "34.08348469861881 40.61483933810934 500\n",
      "0.0\n",
      "161\n",
      "hii\n",
      "33.28069090234743 33.28069090234743 501\n",
      "1.0\n",
      "341\n",
      "37.93907268924413 39.07745851088232 502\n",
      "0.0\n",
      "162\n",
      "hii\n",
      "40.18851584768754 44.069811667318646 503\n",
      "0.0\n",
      "163\n",
      "hii\n",
      "39.584398271209814 39.584398271209814 504\n",
      "1.0\n",
      "342\n",
      "35.54096275691383 35.54096275691383 505\n",
      "1.0\n",
      "343\n",
      "41.90173895961136 41.90173895961136 506\n",
      "1.0\n",
      "344\n",
      "34.67796074918021 36.16874520896562 507\n",
      "0.0\n",
      "164\n",
      "hii\n",
      "36.457829872245334 36.457829872245334 508\n",
      "1.0\n",
      "345\n",
      "34.77107456046271 34.77107456046271 509\n",
      "1.0\n",
      "346\n",
      "37.100598063033 37.100598063033 510\n",
      "1.0\n",
      "347\n",
      "35.671154352554645 35.671154352554645 511\n",
      "1.0\n",
      "348\n",
      "39.93287882149976 39.93287882149976 512\n",
      "1.0\n",
      "349\n",
      "37.18632339559932 37.18632339559932 513\n",
      "1.0\n",
      "350\n",
      "32.81768428138141 34.198255140430526 514\n",
      "0.0\n",
      "165\n",
      "hii\n",
      "34.667775472768696 34.667775472768696 515\n",
      "1.0\n",
      "351\n",
      "34.11655025121 34.11655025121 516\n",
      "1.0\n",
      "352\n",
      "35.1830335176185 35.1830335176185 517\n",
      "1.0\n",
      "353\n",
      "30.825078905751145 30.825078905751145 518\n",
      "1.0\n",
      "354\n",
      "29.553980829135785 29.553980829135785 519\n",
      "1.0\n",
      "355\n",
      "36.43709249208237 36.43709249208237 520\n",
      "1.0\n",
      "356\n",
      "29.522604549486378 33.6962449799963 521\n",
      "0.0\n",
      "166\n",
      "hii\n",
      "33.969691026920756 35.99265614474822 522\n",
      "0.0\n",
      "167\n",
      "hii\n",
      "40.654184970253866 40.654184970253866 523\n",
      "1.0\n",
      "357\n",
      "35.621432759557386 35.621432759557386 524\n",
      "1.0\n",
      "358\n",
      "32.829666046368786 33.846293340932064 525\n",
      "0.0\n",
      "168\n",
      "hii\n",
      "30.6713338929737 30.6713338929737 526\n",
      "1.0\n",
      "359\n"
     ]
    },
    {
     "name": "stdout",
     "output_type": "stream",
     "text": [
      "36.51218481826034 40.02401936836922 527\n",
      "0.0\n",
      "169\n",
      "hii\n",
      "40.997354426708455 40.997354426708455 528\n",
      "1.0\n",
      "360\n",
      "36.9235486649739 38.3069753857295 529\n",
      "0.0\n",
      "170\n",
      "hii\n",
      "32.28375026934299 33.10185067903196 530\n",
      "0.0\n",
      "171\n",
      "hii\n",
      "39.95664455672334 39.95664455672334 531\n",
      "1.0\n",
      "361\n",
      "31.83556873272782 31.963207177089362 532\n",
      "0.0\n",
      "172\n",
      "hii\n",
      "38.820583318006015 39.53029435807657 533\n",
      "0.0\n",
      "173\n",
      "hii\n",
      "35.961814935451656 35.961814935451656 534\n",
      "1.0\n",
      "362\n",
      "33.47909656975692 33.47909656975692 535\n",
      "1.0\n",
      "363\n",
      "41.81465424841575 44.7419709883514 536\n",
      "0.0\n",
      "174\n",
      "hii\n",
      "29.79753194348328 29.927442329876314 537\n",
      "0.0\n",
      "175\n",
      "hii\n",
      "28.386247489841907 28.386247489841907 538\n",
      "1.0\n",
      "364\n",
      "29.70500744456486 29.70500744456486 539\n",
      "1.0\n",
      "365\n",
      "31.7159083725279 31.7159083725279 540\n",
      "1.0\n",
      "366\n",
      "33.44818784898 33.44818784898 541\n",
      "1.0\n",
      "367\n",
      "29.84785709167551 32.0121385047065 542\n",
      "0.0\n",
      "176\n",
      "hii\n",
      "34.07157873189286 34.07157873189286 543\n",
      "1.0\n",
      "368\n",
      "33.31388633318764 33.31388633318764 544\n",
      "1.0\n",
      "369\n",
      "38.11626759185752 38.11626759185752 545\n",
      "1.0\n",
      "370\n",
      "33.810739061302 35.34384594440745 546\n",
      "0.0\n",
      "177\n",
      "hii\n",
      "32.013757177925534 33.8399296833179 547\n",
      "0.0\n",
      "178\n",
      "hii\n",
      "34.70525277442617 34.70525277442617 548\n",
      "1.0\n",
      "371\n",
      "35.60170381398336 35.60170381398336 549\n",
      "1.0\n",
      "372\n",
      "31.59468594202884 35.29997598682999 550\n",
      "0.0\n",
      "179\n",
      "hii\n",
      "32.47969265367851 33.88012279721056 551\n",
      "0.0\n",
      "180\n",
      "hii\n",
      "34.58678657279221 34.58678657279221 552\n",
      "1.0\n",
      "373\n",
      "38.80284920561878 38.80284920561878 553\n",
      "1.0\n",
      "374\n",
      "31.623888008491342 31.623888008491342 554\n",
      "1.0\n",
      "375\n",
      "44.408643824367864 45.53105586610689 555\n",
      "0.0\n",
      "181\n",
      "hii\n",
      "36.79048044439127 36.79048044439127 556\n",
      "1.0\n",
      "376\n",
      "33.80393383587912 33.990936086641106 557\n",
      "0.0\n",
      "182\n",
      "hii\n",
      "40.46203346212607 40.46203346212607 558\n",
      "1.0\n",
      "377\n",
      "32.64382296811913 32.64382296811913 559\n",
      "1.0\n",
      "378\n",
      "37.65707297978497 37.65707297978497 560\n",
      "1.0\n",
      "379\n",
      "29.00406336585172 29.00406336585172 561\n",
      "1.0\n",
      "380\n",
      "35.5012359649677 36.11074535650625 562\n",
      "0.0\n",
      "183\n",
      "hii\n",
      "33.64481817057083 33.64481817057083 563\n",
      "1.0\n",
      "381\n",
      "33.53642498815378 33.53642498815378 564\n",
      "1.0\n",
      "382\n",
      "32.83346591900899 32.83346591900899 565\n",
      "1.0\n",
      "383\n",
      "35.83116305276228 38.23348224268766 566\n",
      "0.0\n",
      "184\n",
      "hii\n",
      "37.10963287151305 37.10963287151305 567\n",
      "1.0\n",
      "384\n",
      "33.2790077830146 35.6962717514203 568\n",
      "0.0\n",
      "185\n",
      "hii\n",
      "36.846073907593556 36.846073907593556 569\n",
      "1.0\n",
      "385\n",
      "31.560123867886716 31.560123867886716 570\n",
      "1.0\n",
      "386\n",
      "45.99422421398666 47.471386042199654 571\n",
      "0.0\n",
      "186\n",
      "hii\n",
      "35.849318032303636 35.849318032303636 572\n",
      "1.0\n",
      "387\n",
      "29.846251060148276 30.529321275773864 573\n",
      "0.0\n",
      "187\n",
      "hii\n",
      "38.820339966286625 39.22205312158212 574\n",
      "0.0\n",
      "188\n",
      "hii\n",
      "33.31828216130225 33.31828216130225 575\n",
      "1.0\n",
      "388\n",
      "36.48698260302452 36.48698260302452 576\n",
      "1.0\n",
      "389\n",
      "41.47498079317968 41.64148214629334 577\n",
      "0.0\n",
      "189\n",
      "hii\n",
      "33.29707147470735 33.29707147470735 578\n",
      "1.0\n",
      "390\n",
      "28.863068475685314 29.751067683256476 579\n",
      "0.0\n",
      "190\n",
      "hii\n",
      "33.75382674027236 33.75382674027236 580\n",
      "1.0\n",
      "391\n",
      "35.60860999568005 37.284722325231066 581\n",
      "0.0\n",
      "191\n",
      "hii\n",
      "34.67194508504876 37.37309511120312 582\n",
      "0.0\n",
      "192\n",
      "hii\n",
      "33.646123372989805 33.646123372989805 583\n",
      "1.0\n",
      "392\n",
      "35.247128643132 35.247128643132 584\n",
      "1.0\n",
      "393\n",
      "38.062814536114466 38.062814536114466 585\n",
      "1.0\n",
      "394\n",
      "38.05595794179526 38.10229641348918 586\n",
      "0.0\n",
      "193\n",
      "hii\n",
      "27.571291986326603 27.571291986326603 587\n",
      "1.0\n",
      "395\n",
      "33.43906951734776 33.43906951734776 588\n",
      "1.0\n",
      "396\n",
      "32.09319445587001 32.12836379807216 589\n",
      "0.0\n",
      "194\n",
      "hii\n",
      "35.31778578026199 36.22949204488 590\n",
      "0.0\n",
      "195\n",
      "hii\n",
      "39.047970608026596 39.047970608026596 591\n",
      "1.0\n",
      "397\n",
      "37.444853866192545 37.444853866192545 592\n",
      "1.0\n",
      "398\n",
      "38.608621097160935 38.608621097160935 593\n",
      "1.0\n",
      "399\n",
      "35.33342675259148 35.33342675259148 594\n",
      "1.0\n",
      "400\n",
      "38.27037113512268 38.27037113512268 595\n",
      "1.0\n",
      "401\n",
      "34.8107340888045 35.41731275600727 596\n",
      "0.0\n",
      "196\n",
      "hii\n",
      "41.19612544598136 41.19612544598136 597\n",
      "1.0\n",
      "402\n",
      "28.39646659955123 28.39646659955123 598\n",
      "1.0\n",
      "403\n",
      "34.81461391287838 34.81461391287838 599\n",
      "1.0\n",
      "404\n",
      "26.794022031986493 26.794022031986493 600\n",
      "1.0\n",
      "405\n",
      "34.17257549967513 34.38311065045946 601\n",
      "0.0\n",
      "197\n",
      "hii\n",
      "33.300425606467265 33.300425606467265 602\n",
      "1.0\n",
      "406\n",
      "31.226549186905963 32.6135438390225 603\n",
      "0.0\n",
      "198\n",
      "hii\n",
      "34.738526111275874 34.738526111275874 604\n",
      "1.0\n",
      "407\n",
      "40.30833944160345 40.30833944160345 605\n",
      "1.0\n",
      "408\n",
      "31.903573435940597 33.833880763276 606\n",
      "0.0\n",
      "199\n",
      "hii\n",
      "46.16215607553661 46.69012606136963 607\n",
      "0.0\n",
      "200\n",
      "hii\n",
      "41.67790556973066 41.813996955760665 608\n",
      "0.0\n",
      "201\n",
      "hii\n",
      "32.30404242365231 32.30404242365231 609\n",
      "1.0\n",
      "409\n",
      "36.02780998760984 36.34629599871676 610\n",
      "0.0\n",
      "202\n",
      "hii\n",
      "30.596559119221066 30.596559119221066 611\n",
      "1.0\n",
      "410\n",
      "33.03628529950701 33.623844817501656 612\n",
      "0.0\n",
      "203\n",
      "hii\n",
      "31.010467599348065 34.41455484824952 613\n",
      "0.0\n",
      "204\n",
      "hii\n",
      "37.38397034012582 37.38397034012582 614\n",
      "1.0\n",
      "411\n",
      "32.13210330533944 32.13210330533944 615\n",
      "1.0\n",
      "412\n",
      "33.68987864030832 35.42303316895642 616\n",
      "0.0\n",
      "205\n",
      "hii\n",
      "35.15490122781372 37.425025889553886 617\n",
      "0.0\n",
      "206\n",
      "hii\n",
      "37.80369493375151 37.80369493375151 618\n",
      "1.0\n",
      "413\n",
      "33.049566970606605 35.867866838123184 619\n",
      "0.0\n",
      "207\n",
      "hii\n",
      "36.20179947386074 36.20179947386074 620\n",
      "1.0\n",
      "414\n",
      "33.709530664962166 34.60562389197909 621\n",
      "0.0\n",
      "208\n",
      "hii\n",
      "38.25634232554803 38.25634232554803 622\n",
      "1.0\n",
      "415\n",
      "29.96353333861848 29.96353333861848 623\n",
      "1.0\n",
      "416\n",
      "35.10790267708079 35.10790267708079 624\n",
      "1.0\n",
      "417\n",
      "38.17808984588395 38.49932313816517 625\n",
      "0.0\n",
      "209\n",
      "hii\n",
      "38.93434868146209 38.93434868146209 626\n",
      "1.0\n",
      "418\n",
      "34.225900476934214 34.225900476934214 627\n",
      "1.0\n",
      "419\n",
      "31.267094529966094 31.267094529966094 628\n",
      "1.0\n",
      "420\n",
      "33.76558616847347 33.833171944221505 629\n",
      "0.0\n",
      "210\n",
      "hii\n",
      "28.177487261041943 30.998518175290954 630\n",
      "0.0\n",
      "211\n",
      "hii\n",
      "38.10943831816206 39.4180675939103 631\n",
      "0.0\n",
      "212\n",
      "hii\n",
      "32.423445975778314 32.423445975778314 632\n",
      "1.0\n",
      "421\n",
      "34.38399635782379 34.38399635782379 633\n",
      "1.0\n",
      "422\n",
      "34.766528537920415 37.02869791652599 634\n",
      "0.0\n",
      "213\n",
      "hii\n",
      "30.487958316312795 30.487958316312795 635\n",
      "1.0\n",
      "423\n",
      "32.71196452698547 32.71196452698547 636\n",
      "1.0\n",
      "424\n",
      "33.0902821400533 33.0902821400533 637\n",
      "1.0\n",
      "425\n",
      "36.405909583529386 36.405909583529386 638\n",
      "1.0\n",
      "426\n",
      "39.72284646180813 39.72284646180813 639\n",
      "1.0\n",
      "427\n",
      "37.174096806071965 37.174096806071965 640\n",
      "1.0\n",
      "428\n",
      "34.425587861375234 34.425587861375234 641\n",
      "1.0\n",
      "429\n",
      "34.40620922947156 34.40620922947156 642\n",
      "1.0\n",
      "430\n",
      "35.950987336986095 35.950987336986095 643\n",
      "1.0\n",
      "431\n",
      "33.830149929462564 33.830149929462564 644\n",
      "1.0\n",
      "432\n",
      "36.109786169472976 36.109786169472976 645\n",
      "1.0\n",
      "433\n",
      "33.36535088613285 35.215940604741945 646\n",
      "0.0\n",
      "214\n",
      "hii\n",
      "33.461282300403184 33.461282300403184 647\n",
      "1.0\n",
      "434\n",
      "35.532381028294346 35.99244950534696 648\n",
      "0.0\n",
      "215\n",
      "hii\n",
      "35.871469534636994 35.871469534636994 649\n",
      "1.0\n",
      "435\n",
      "25.405653026529304 25.405653026529304 650\n",
      "1.0\n",
      "436\n",
      "37.694187760593245 38.28451179654937 651\n",
      "0.0\n",
      "216\n",
      "hii\n",
      "32.63763873366689 32.63763873366689 652\n",
      "1.0\n",
      "437\n",
      "39.560507455154664 39.80920533444035 653\n",
      "0.0\n",
      "217\n",
      "hii\n",
      "38.93134730702807 40.16736826568532 654\n",
      "0.0\n",
      "218\n",
      "hii\n",
      "40.267515788977995 40.267515788977995 655\n",
      "1.0\n",
      "438\n",
      "34.09124404506091 34.09124404506091 656\n",
      "1.0\n",
      "439\n",
      "30.935679258689515 33.86023162645194 657\n",
      "0.0\n",
      "219\n",
      "hii\n",
      "32.14938613978041 32.14938613978041 658\n",
      "1.0\n",
      "440\n",
      "34.330897595857806 34.330897595857806 659\n",
      "1.0\n",
      "441\n",
      "37.49512002638277 37.49512002638277 660\n",
      "1.0\n",
      "442\n",
      "35.10877823814183 35.10877823814183 661\n",
      "1.0\n",
      "443\n",
      "33.95935431937251 33.95935431937251 662\n",
      "1.0\n",
      "444\n",
      "36.446382712259975 36.446382712259975 663\n",
      "1.0\n",
      "445\n",
      "35.221598023052 35.375666419498295 664\n",
      "0.0\n",
      "220\n",
      "hii\n",
      "33.92855526807315 33.92855526807315 665\n",
      "1.0\n",
      "446\n",
      "35.23080289568457 35.51863910614503 666\n",
      "0.0\n",
      "221\n",
      "hii\n",
      "35.59245682012566 35.59245682012566 667\n",
      "1.0\n",
      "447\n",
      "36.266260397221025 38.168824179920016 668\n",
      "0.0\n",
      "222\n",
      "hii\n",
      "49.76709002153556 51.18219028746068 669\n",
      "0.0\n",
      "223\n",
      "hii\n",
      "28.422031343349058 28.422031343349058 670\n",
      "1.0\n",
      "448\n",
      "37.202371722469636 37.202371722469636 671\n",
      "1.0\n",
      "449\n",
      "36.49411044247405 37.38896583818272 672\n",
      "0.0\n",
      "224\n",
      "hii\n",
      "30.355340063241847 30.355340063241847 673\n",
      "1.0\n",
      "450\n",
      "37.25969191919014 37.48630321305313 674\n",
      "0.0\n",
      "225\n",
      "hii\n",
      "32.49229267446618 32.49229267446618 675\n",
      "1.0\n",
      "451\n",
      "33.15030412588776 33.15030412588776 676\n",
      "1.0\n",
      "452\n",
      "34.490752316141155 34.490752316141155 677\n",
      "1.0\n",
      "453\n",
      "34.14861240665071 35.281133401026295 678\n",
      "0.0\n",
      "226\n",
      "hii\n",
      "31.744431080814458 31.744431080814458 679\n",
      "1.0\n",
      "454\n",
      "35.16252617547742 35.16252617547742 680\n",
      "1.0\n",
      "455\n",
      "34.76769377069089 34.76769377069089 681\n",
      "1.0\n",
      "456\n",
      "34.89065496991816 34.89065496991816 682\n",
      "1.0\n",
      "457\n",
      "36.14850276813187 36.14850276813187 683\n",
      "1.0\n",
      "458\n",
      "33.05987181560846 33.05987181560846 684\n",
      "1.0\n",
      "459\n",
      "32.845610307300255 32.845610307300255 685\n",
      "1.0\n",
      "460\n",
      "37.94819055862263 38.33312850300149 686\n",
      "0.0\n",
      "227\n",
      "hii\n",
      "30.928551998471708 30.928551998471708 687\n",
      "1.0\n",
      "461\n",
      "35.23609124247676 35.23609124247676 688\n",
      "1.0\n",
      "462\n",
      "33.50763569950842 38.26684090776372 689\n",
      "0.0\n",
      "228\n",
      "hii\n",
      "34.23936500034919 35.504922910863314 690\n",
      "0.0\n",
      "229\n",
      "hii\n",
      "29.764193625001475 29.764193625001475 691\n",
      "1.0\n",
      "463\n",
      "33.2159296670499 34.20004784884735 692\n",
      "0.0\n",
      "230\n",
      "hii\n",
      "30.491658497449517 30.491658497449517 693\n",
      "1.0\n",
      "464\n",
      "39.246441054955206 39.246441054955206 694\n",
      "1.0\n",
      "465\n",
      "34.73792109455475 34.73792109455475 695\n",
      "1.0\n",
      "466\n",
      "36.407787749602335 36.65134472446708 696\n",
      "0.0\n",
      "231\n",
      "hii\n",
      "34.116309563805764 34.116309563805764 697\n",
      "1.0\n",
      "467\n",
      "34.47908873651843 34.47908873651843 698\n",
      "1.0\n",
      "468\n",
      "36.29815159894376 36.29815159894376 699\n",
      "1.0\n",
      "469\n",
      "35.66813596283214 35.66813596283214 700\n",
      "1.0\n",
      "470\n",
      "38.65724996926483 38.65724996926483 701\n",
      "1.0\n",
      "471\n",
      "31.698833597288747 32.85843843393928 702\n",
      "0.0\n",
      "232\n",
      "hii\n"
     ]
    },
    {
     "name": "stdout",
     "output_type": "stream",
     "text": [
      "34.656900709458675 34.656900709458675 703\n",
      "1.0\n",
      "472\n",
      "38.254516702172154 38.79085479069108 704\n",
      "0.0\n",
      "233\n",
      "hii\n",
      "32.08137232237774 32.08137232237774 705\n",
      "1.0\n",
      "473\n",
      "33.77528386951884 33.77528386951884 706\n",
      "1.0\n",
      "474\n",
      "36.23293584031526 36.23293584031526 707\n",
      "1.0\n",
      "475\n",
      "35.81540489823895 35.81540489823895 708\n",
      "1.0\n",
      "476\n",
      "31.956547515764893 32.764352456416475 709\n",
      "0.0\n",
      "234\n",
      "hii\n",
      "35.76963903381537 36.48797162169027 710\n",
      "0.0\n",
      "235\n",
      "hii\n",
      "35.12842316789715 35.12842316789715 711\n",
      "1.0\n",
      "477\n",
      "35.44949996331323 35.44949996331323 712\n",
      "1.0\n",
      "478\n",
      "39.7304567613827 40.59659876484661 713\n",
      "0.0\n",
      "236\n",
      "hii\n",
      "32.63876852517414 32.63876852517414 714\n",
      "1.0\n",
      "479\n",
      "35.43157856125674 35.43157856125674 715\n",
      "1.0\n",
      "480\n",
      "41.757876475902954 41.757876475902954 716\n",
      "1.0\n",
      "481\n",
      "31.827787740199724 31.827787740199724 717\n",
      "1.0\n",
      "482\n",
      "31.554571654876405 31.554571654876405 718\n",
      "1.0\n",
      "483\n",
      "43.9533694375398 43.9533694375398 719\n",
      "1.0\n",
      "484\n",
      "34.99613361731415 34.99613361731415 720\n",
      "1.0\n",
      "485\n",
      "33.928461864106154 35.96070866585867 721\n",
      "0.0\n",
      "237\n",
      "hii\n",
      "34.52317923402302 34.52317923402302 722\n",
      "1.0\n",
      "486\n",
      "30.670170050161833 30.670170050161833 723\n",
      "1.0\n",
      "487\n",
      "40.04366068351362 42.69146294324646 724\n",
      "0.0\n",
      "238\n",
      "hii\n",
      "34.32798006363458 34.32798006363458 725\n",
      "1.0\n",
      "488\n",
      "32.67466443248169 34.41855452635485 726\n",
      "0.0\n",
      "239\n",
      "hii\n",
      "37.61735812808975 38.29256557129127 727\n",
      "0.0\n",
      "240\n",
      "hii\n",
      "34.52276434634164 35.04448024748867 728\n",
      "0.0\n",
      "241\n",
      "hii\n",
      "34.51628203747556 34.51628203747556 729\n",
      "1.0\n",
      "489\n",
      "34.1125613944051 34.1125613944051 730\n",
      "1.0\n",
      "490\n",
      "31.999176311272294 32.30470610954407 731\n",
      "0.0\n",
      "242\n",
      "hii\n",
      "34.32306947600789 34.32306947600789 732\n",
      "1.0\n",
      "491\n",
      "35.292344391556576 36.73341124092588 733\n",
      "0.0\n",
      "243\n",
      "hii\n",
      "31.544273078509246 31.544273078509246 734\n",
      "1.0\n",
      "492\n",
      "30.428811732222133 30.428811732222133 735\n",
      "1.0\n",
      "493\n",
      "33.21959736988672 33.21959736988672 736\n",
      "1.0\n",
      "494\n",
      "32.792174689954656 33.466081879219175 737\n",
      "0.0\n",
      "244\n",
      "hii\n",
      "31.356007749169052 33.60081913864358 738\n",
      "0.0\n",
      "245\n",
      "hii\n",
      "30.32078989706994 30.32078989706994 739\n",
      "1.0\n",
      "495\n",
      "33.48817704595817 34.730662587834985 740\n",
      "0.0\n",
      "246\n",
      "hii\n",
      "37.68308932593259 37.68308932593259 741\n",
      "1.0\n",
      "496\n",
      "36.574093094777794 36.574093094777794 742\n",
      "1.0\n",
      "497\n",
      "32.815858050119616 33.807562811219924 743\n",
      "0.0\n",
      "247\n",
      "hii\n",
      "36.14254909132031 36.14254909132031 744\n",
      "1.0\n",
      "498\n",
      "39.9579907022857 39.9579907022857 745\n",
      "1.0\n",
      "499\n",
      "28.036338806767112 28.036338806767112 746\n",
      "1.0\n",
      "500\n",
      "34.73806261022338 34.73806261022338 747\n",
      "1.0\n",
      "501\n",
      "35.354812419815936 35.354812419815936 748\n",
      "1.0\n",
      "502\n",
      "34.58016540133718 34.58016540133718 749\n",
      "1.0\n",
      "503\n",
      "33.561983576799236 33.561983576799236 750\n",
      "1.0\n",
      "504\n",
      "41.22105589360621 41.22105589360621 751\n",
      "1.0\n",
      "505\n",
      "34.57338339180033 34.57338339180033 752\n",
      "1.0\n",
      "506\n",
      "37.28180559949963 38.0598146796334 753\n",
      "0.0\n",
      "248\n",
      "hii\n",
      "35.33746011738907 35.33746011738907 754\n",
      "1.0\n",
      "507\n",
      "40.909566473762105 41.25125331861291 755\n",
      "0.0\n",
      "249\n",
      "hii\n",
      "32.08377229053627 32.08377229053627 756\n",
      "1.0\n",
      "508\n",
      "31.475697370296643 31.55356022292344 757\n",
      "0.0\n",
      "250\n",
      "hii\n",
      "36.45703471035351 36.45703471035351 758\n",
      "1.0\n",
      "509\n",
      "38.59649568841051 38.59649568841051 759\n",
      "1.0\n",
      "510\n",
      "36.779065763868886 37.55152550978335 760\n",
      "0.0\n",
      "251\n",
      "hii\n",
      "37.03940283066494 37.03940283066494 761\n",
      "1.0\n",
      "511\n",
      "37.16577523561894 37.16577523561894 762\n",
      "1.0\n",
      "512\n",
      "35.725022537292894 35.725022537292894 763\n",
      "1.0\n",
      "513\n",
      "33.915315291994155 34.874665471345864 764\n",
      "0.0\n",
      "252\n",
      "hii\n",
      "32.97622081058392 32.97622081058392 765\n",
      "1.0\n",
      "514\n",
      "36.21958473710762 36.21958473710762 766\n",
      "1.0\n",
      "515\n",
      "32.64225801486903 32.64225801486903 767\n",
      "1.0\n",
      "516\n",
      "37.5098118190423 37.5098118190423 768\n",
      "1.0\n",
      "517\n",
      "32.030261510141685 32.030261510141685 769\n",
      "1.0\n",
      "518\n",
      "35.764790428251764 35.764790428251764 770\n",
      "1.0\n",
      "519\n",
      "35.85049344680474 38.09976033512385 771\n",
      "0.0\n",
      "253\n",
      "hii\n",
      "39.006590808084674 39.3003086413659 772\n",
      "0.0\n",
      "254\n",
      "hii\n",
      "34.25144539202633 34.25144539202633 773\n",
      "1.0\n",
      "520\n",
      "30.721382942876424 35.219341705170876 774\n",
      "0.0\n",
      "255\n",
      "hii\n",
      "39.902746525919405 39.902746525919405 775\n",
      "1.0\n",
      "521\n",
      "33.51485229606233 35.935549223659585 776\n",
      "0.0\n",
      "256\n",
      "hii\n",
      "36.57033072560389 36.57033072560389 777\n",
      "1.0\n",
      "522\n",
      "33.90501444068805 33.90501444068805 778\n",
      "1.0\n",
      "523\n",
      "33.53894636773713 33.53894636773713 779\n",
      "1.0\n",
      "524\n",
      "34.3191964924917 34.3191964924917 780\n",
      "1.0\n",
      "525\n",
      "38.38900472186879 38.38900472186879 781\n",
      "1.0\n",
      "526\n",
      "40.13348864855896 41.23677691354703 782\n",
      "0.0\n",
      "257\n",
      "hii\n",
      "30.3662230969822 30.3662230969822 783\n",
      "1.0\n",
      "527\n",
      "22.734166058863153 22.734166058863153 784\n",
      "1.0\n",
      "528\n",
      "32.17107367799263 33.96581204719716 785\n",
      "0.0\n",
      "258\n",
      "hii\n",
      "40.438819168334724 40.438819168334724 786\n",
      "1.0\n",
      "529\n",
      "30.775126025064733 30.775126025064733 787\n",
      "1.0\n",
      "530\n",
      "34.03942674123079 34.23976406728775 788\n",
      "0.0\n",
      "259\n",
      "hii\n",
      "28.9153004566647 28.9153004566647 789\n",
      "1.0\n",
      "531\n",
      "41.81148894879812 42.19780039774843 790\n",
      "0.0\n",
      "260\n",
      "hii\n",
      "38.35964551043909 38.35964551043909 791\n",
      "1.0\n",
      "532\n",
      "32.708145517087 32.708145517087 792\n",
      "1.0\n",
      "533\n",
      "34.792730140391555 34.792730140391555 793\n",
      "1.0\n",
      "534\n",
      "37.40628242871439 37.40628242871439 794\n",
      "1.0\n",
      "535\n",
      "34.259278552163345 35.01722142942793 795\n",
      "0.0\n",
      "261\n",
      "hii\n",
      "33.60921855593282 33.60921855593282 796\n",
      "1.0\n",
      "536\n",
      "32.39334663891704 32.39334663891704 797\n",
      "1.0\n",
      "537\n",
      "36.98209748852754 36.98209748852754 798\n",
      "1.0\n",
      "538\n",
      "34.29998041299684 34.29998041299684 799\n",
      "1.0\n",
      "539\n",
      "32.26925669245575 32.26925669245575 800\n",
      "1.0\n",
      "540\n",
      "38.84042525894939 45.48716277633208 801\n",
      "0.0\n",
      "262\n",
      "hii\n",
      "34.85318295632 34.85318295632 802\n",
      "1.0\n",
      "541\n",
      "30.284281148931623 30.284281148931623 803\n",
      "1.0\n",
      "542\n",
      "35.0313562607776 38.29700015709586 804\n",
      "0.0\n",
      "263\n",
      "hii\n",
      "31.381959714020457 31.448402924492438 805\n",
      "0.0\n",
      "264\n",
      "hii\n",
      "42.11121351794904 42.11121351794904 806\n",
      "1.0\n",
      "543\n",
      "31.048991150972864 33.90323901322912 807\n",
      "0.0\n",
      "265\n",
      "hii\n",
      "37.032146222535125 40.07123004089631 808\n",
      "0.0\n",
      "266\n",
      "hii\n",
      "34.93202520569402 34.93202520569402 809\n",
      "1.0\n",
      "544\n",
      "38.17355689343706 38.17355689343706 810\n",
      "1.0\n",
      "545\n",
      "39.664784405600315 43.29502795959333 811\n",
      "0.0\n",
      "267\n",
      "hii\n",
      "39.68658678524953 39.68658678524953 812\n",
      "1.0\n",
      "546\n",
      "35.90181552179217 35.90181552179217 813\n",
      "1.0\n",
      "547\n",
      "36.05672822772925 36.05672822772925 814\n",
      "1.0\n",
      "548\n",
      "29.817648188285894 29.817648188285894 815\n",
      "1.0\n",
      "549\n",
      "35.28278508026882 35.28278508026882 816\n",
      "1.0\n",
      "550\n",
      "28.93764328365111 30.72530786376824 817\n",
      "0.0\n",
      "268\n",
      "hii\n",
      "38.307723906076255 38.307723906076255 818\n",
      "1.0\n",
      "551\n",
      "32.747324483109296 35.072939264082336 819\n",
      "0.0\n",
      "269\n",
      "hii\n",
      "29.324947915986428 29.324947915986428 820\n",
      "1.0\n",
      "552\n",
      "33.14502961855897 33.14502961855897 821\n",
      "1.0\n",
      "553\n",
      "39.11768562242709 39.11768562242709 822\n",
      "1.0\n",
      "554\n",
      "34.77491341336134 35.317959484471295 823\n",
      "0.0\n",
      "270\n",
      "hii\n",
      "36.269322153158626 36.269322153158626 824\n",
      "1.0\n",
      "555\n",
      "35.23075271784705 35.23075271784705 825\n",
      "1.0\n",
      "556\n",
      "39.33794422813435 40.04510173676121 826\n",
      "0.0\n",
      "271\n",
      "hii\n",
      "30.673844199362797 30.673844199362797 827\n",
      "1.0\n",
      "557\n",
      "32.019283341635365 32.019283341635365 828\n",
      "1.0\n",
      "558\n",
      "35.47454227062719 35.47454227062719 829\n",
      "1.0\n",
      "559\n",
      "34.64726922001089 34.64726922001089 830\n",
      "1.0\n",
      "560\n",
      "37.01631329531467 37.01631329531467 831\n",
      "1.0\n",
      "561\n",
      "37.662865302389385 37.662865302389385 832\n",
      "1.0\n",
      "562\n",
      "32.2453404965971 33.511895673228295 833\n",
      "0.0\n",
      "272\n",
      "hii\n",
      "36.382681829310236 36.382681829310236 834\n",
      "1.0\n",
      "563\n",
      "30.541494635678067 30.541494635678067 835\n",
      "1.0\n",
      "564\n",
      "37.712177766512156 37.712177766512156 836\n",
      "1.0\n",
      "565\n",
      "29.118858424536626 29.118858424536626 837\n",
      "1.0\n",
      "566\n",
      "32.24468112720236 33.50257096909272 838\n",
      "0.0\n",
      "273\n",
      "hii\n",
      "37.9009785818911 37.9009785818911 839\n",
      "1.0\n",
      "567\n",
      "37.45227062802268 37.45227062802268 840\n",
      "1.0\n",
      "568\n",
      "30.914211541832778 30.914211541832778 841\n",
      "1.0\n",
      "569\n",
      "31.036260471732472 31.036260471732472 842\n",
      "1.0\n",
      "570\n",
      "33.36753844173278 33.74496233259269 843\n",
      "0.0\n",
      "274\n",
      "hii\n",
      "31.796948038850097 31.796948038850097 844\n",
      "1.0\n",
      "571\n",
      "32.44519449152464 32.44519449152464 845\n",
      "1.0\n",
      "572\n",
      "31.47052420096365 33.91280806671259 846\n",
      "0.0\n",
      "275\n",
      "hii\n",
      "36.83281650169965 36.83281650169965 847\n",
      "1.0\n",
      "573\n",
      "36.455176619747775 36.455176619747775 848\n",
      "1.0\n",
      "574\n",
      "39.58824978475019 39.58824978475019 849\n",
      "1.0\n",
      "575\n",
      "38.98772865206473 38.98772865206473 850\n",
      "1.0\n",
      "576\n",
      "35.144996443113115 35.144996443113115 851\n",
      "1.0\n",
      "577\n",
      "34.32566522191213 34.58192758878713 852\n",
      "0.0\n",
      "276\n",
      "hii\n",
      "39.172124290207385 39.172124290207385 853\n",
      "1.0\n",
      "578\n",
      "28.84597777965363 28.84597777965363 854\n",
      "1.0\n",
      "579\n",
      "35.03230576247436 35.03230576247436 855\n",
      "1.0\n",
      "580\n",
      "37.64098295281639 37.64098295281639 856\n",
      "1.0\n",
      "581\n",
      "34.7593466173686 35.74449056420577 857\n",
      "0.0\n",
      "277\n",
      "hii\n",
      "39.905981794929446 39.905981794929446 858\n",
      "1.0\n",
      "582\n",
      "42.849696599316616 45.12023136751101 859\n",
      "0.0\n",
      "278\n",
      "hii\n",
      "36.4022038065362 36.4022038065362 860\n",
      "1.0\n",
      "583\n",
      "31.102786674700106 31.102786674700106 861\n",
      "1.0\n",
      "584\n",
      "37.9712411759648 37.9712411759648 862\n",
      "1.0\n",
      "585\n",
      "36.643328197964514 36.643328197964514 863\n",
      "1.0\n",
      "586\n",
      "33.248580605265026 33.248580605265026 864\n",
      "1.0\n",
      "587\n",
      "43.480190565838924 46.09548195911086 865\n",
      "0.0\n",
      "279\n",
      "hii\n",
      "34.04248945788249 34.507374729334906 866\n",
      "0.0\n",
      "280\n",
      "hii\n",
      "32.98810758746963 32.98810758746963 867\n",
      "1.0\n",
      "588\n",
      "33.91079664427963 33.91079664427963 868\n",
      "1.0\n",
      "589\n",
      "40.584406818347105 40.584406818347105 869\n",
      "1.0\n",
      "590\n",
      "35.321583053330926 35.321583053330926 870\n",
      "1.0\n",
      "591\n",
      "37.085399901780285 37.085399901780285 871\n",
      "1.0\n",
      "592\n",
      "35.09277912677014 35.10945888752254 872\n",
      "0.0\n",
      "281\n",
      "hii\n",
      "32.35204197306379 32.35204197306379 873\n",
      "1.0\n",
      "593\n",
      "37.590349349946486 40.626330373177375 874\n",
      "0.0\n",
      "282\n",
      "hii\n",
      "35.91760932963979 35.91760932963979 875\n",
      "1.0\n",
      "594\n",
      "37.388329779489375 39.521008085378575 876\n",
      "0.0\n",
      "283\n",
      "hii\n",
      "33.71128179238053 36.392768752636336 877\n",
      "0.0\n",
      "284\n",
      "hii\n",
      "33.52906691358475 33.52906691358475 878\n",
      "1.0\n",
      "595\n",
      "28.316227566071323 31.80369519742739 879\n",
      "0.0\n",
      "285\n",
      "hii\n",
      "31.584371310365988 31.584371310365988 880\n",
      "1.0\n",
      "596\n",
      "32.85343922610676 32.85343922610676 881\n",
      "1.0\n",
      "597\n",
      "34.14450339355416 34.14450339355416 882\n",
      "1.0\n",
      "598\n",
      "37.93133738170426 37.93133738170426 883\n",
      "1.0\n",
      "599\n",
      "30.40080348491879 30.40080348491879 884\n",
      "1.0\n",
      "600\n",
      "41.95325301730688 41.95325301730688 885\n",
      "1.0\n",
      "601\n",
      "39.028830926582685 39.028830926582685 886\n",
      "1.0\n",
      "602\n",
      "34.980727533587306 35.30775405696841 887\n",
      "0.0\n",
      "286\n",
      "hii\n",
      "32.437105577946795 33.32369779917353 888\n",
      "0.0\n",
      "287\n",
      "hii\n",
      "37.2776024489446 37.2776024489446 889\n",
      "1.0\n",
      "603\n",
      "29.56395442948703 29.56395442948703 890\n",
      "1.0\n",
      "604\n",
      "42.28490429119141 42.28490429119141 891\n",
      "1.0\n",
      "605\n",
      "33.45863120019997 33.45863120019997 892\n",
      "1.0\n",
      "606\n",
      "36.99995126128727 37.534069386116826 893\n",
      "0.0\n",
      "288\n",
      "hii\n",
      "29.905225392906253 30.63327686522549 894\n",
      "0.0\n",
      "289\n",
      "hii\n",
      "32.91213348508958 32.91213348508958 895\n",
      "1.0\n",
      "607\n",
      "32.49239232970166 32.49239232970166 896\n",
      "1.0\n",
      "608\n",
      "40.81036051782495 40.81036051782495 897\n",
      "1.0\n",
      "609\n",
      "33.56594193615338 33.56594193615338 898\n",
      "1.0\n",
      "610\n",
      "30.621094885121593 30.621094885121593 899\n",
      "1.0\n",
      "611\n",
      "38.57146028323871 42.37060548731429 900\n",
      "0.0\n",
      "290\n",
      "hii\n",
      "36.763366874089755 37.40209523195189 901\n",
      "0.0\n",
      "291\n",
      "hii\n",
      "32.78935466142692 32.78935466142692 902\n",
      "1.0\n",
      "612\n",
      "32.909010963892655 32.909010963892655 903\n",
      "1.0\n",
      "613\n",
      "32.66361149268174 32.66361149268174 904\n",
      "1.0\n",
      "614\n",
      "26.050654730016046 26.050654730016046 905\n",
      "1.0\n",
      "615\n",
      "37.685301236141655 38.07795572706309 906\n",
      "0.0\n",
      "292\n",
      "hii\n",
      "36.33681461711432 36.43552819408265 907\n",
      "0.0\n",
      "293\n",
      "hii\n",
      "37.39193164653995 38.341529845284455 908\n",
      "0.0\n",
      "294\n",
      "hii\n",
      "29.5615306553844 29.5615306553844 909\n",
      "1.0\n",
      "616\n",
      "34.687712720874714 34.687712720874714 910\n",
      "1.0\n",
      "617\n",
      "30.3620954765448 30.3620954765448 911\n",
      "1.0\n",
      "618\n",
      "33.70260311240316 34.103602781685375 912\n",
      "0.0\n",
      "295\n",
      "hii\n",
      "34.11108215452391 35.46648287191241 913\n",
      "0.0\n",
      "296\n",
      "hii\n",
      "34.52879429897778 34.52879429897778 914\n",
      "1.0\n",
      "619\n",
      "31.702156837303423 31.702156837303423 915\n",
      "1.0\n",
      "620\n",
      "40.06408797187979 40.06408797187979 916\n",
      "1.0\n",
      "621\n",
      "30.731506162473917 30.731506162473917 917\n",
      "1.0\n",
      "622\n",
      "36.21418920992048 40.871888649610014 918\n",
      "0.0\n",
      "297\n",
      "hii\n",
      "25.18892913150133 25.18892913150133 919\n",
      "1.0\n",
      "623\n",
      "31.33884859440041 32.64294863390496 920\n",
      "0.0\n",
      "298\n",
      "hii\n",
      "32.76912367710467 32.76912367710467 921\n",
      "1.0\n",
      "624\n",
      "31.814603097647236 31.814603097647236 922\n",
      "1.0\n",
      "625\n",
      "40.19441307650419 40.19441307650419 923\n",
      "1.0\n",
      "626\n",
      "35.12741847633276 35.12741847633276 924\n",
      "1.0\n",
      "627\n",
      "35.421751584431995 36.9491180890273 925\n",
      "0.0\n",
      "299\n",
      "hii\n",
      "36.11656405833711 36.667896750217814 926\n",
      "0.0\n",
      "300\n",
      "hii\n",
      "35.25444461936302 35.25444461936302 927\n",
      "1.0\n",
      "628\n",
      "41.933007312564634 41.933007312564634 928\n",
      "1.0\n",
      "629\n",
      "35.73387452103404 35.73387452103404 929\n",
      "1.0\n",
      "630\n",
      "34.816519729914425 36.470970883656534 930\n",
      "0.0\n",
      "301\n",
      "hii\n",
      "39.84252697425779 39.84252697425779 931\n",
      "1.0\n",
      "631\n",
      "39.621169047233835 39.621169047233835 932\n",
      "1.0\n",
      "632\n",
      "46.554632059593494 48.27019514231325 933\n",
      "0.0\n",
      "302\n",
      "hii\n",
      "35.22635657254704 36.77847275785767 934\n",
      "0.0\n",
      "303\n",
      "hii\n",
      "31.802549434556813 31.802549434556813 935\n",
      "1.0\n",
      "633\n",
      "32.4916383741381 32.4916383741381 936\n",
      "1.0\n",
      "634\n",
      "33.036947363333965 33.036947363333965 937\n",
      "1.0\n",
      "635\n",
      "36.60520861610058 36.60520861610058 938\n",
      "1.0\n",
      "636\n",
      "32.998056604881405 32.998056604881405 939\n",
      "1.0\n",
      "637\n",
      "39.01780557743408 39.01780557743408 940\n",
      "1.0\n",
      "638\n",
      "33.07718486419132 33.07718486419132 941\n",
      "1.0\n",
      "639\n",
      "29.72868656418238 29.72868656418238 942\n",
      "1.0\n",
      "640\n",
      "40.7780362815352 40.7780362815352 943\n",
      "1.0\n",
      "641\n",
      "37.14058773560436 37.14058773560436 944\n",
      "1.0\n",
      "642\n",
      "40.34361618144488 40.34361618144488 945\n",
      "1.0\n",
      "643\n",
      "33.000979884432816 33.000979884432816 946\n",
      "1.0\n",
      "644\n",
      "34.28212755738031 35.85877448051896 947\n",
      "0.0\n",
      "304\n",
      "hii\n",
      "32.40539912119811 32.40539912119811 948\n",
      "1.0\n",
      "645\n",
      "32.83610708863566 32.83610708863566 949\n",
      "1.0\n",
      "646\n",
      "33.96011674937562 33.96011674937562 950\n",
      "1.0\n",
      "647\n",
      "36.52567921145688 36.52567921145688 951\n",
      "1.0\n",
      "648\n",
      "33.86486741073427 36.68831358117985 952\n",
      "0.0\n",
      "305\n",
      "hii\n",
      "36.140224609328406 36.140224609328406 953\n",
      "1.0\n",
      "649\n",
      "34.93198271871302 34.93198271871302 954\n",
      "1.0\n",
      "650\n",
      "33.74977717228497 33.74977717228497 955\n",
      "1.0\n",
      "651\n",
      "33.46224841996983 33.46224841996983 956\n",
      "1.0\n",
      "652\n",
      "34.0754439628447 34.0754439628447 957\n",
      "1.0\n",
      "653\n",
      "35.102185663244455 35.102185663244455 958\n",
      "1.0\n",
      "654\n",
      "34.30193231349704 34.30193231349704 959\n",
      "1.0\n",
      "655\n",
      "40.10129580858885 40.10129580858885 960\n",
      "1.0\n",
      "656\n",
      "39.02896700177687 39.974215271333605 961\n",
      "0.0\n",
      "306\n",
      "hii\n",
      "40.81364065650032 41.643207532086514 962\n",
      "0.0\n",
      "307\n",
      "hii\n",
      "38.42425592463397 39.54760862432489 963\n",
      "0.0\n",
      "308\n",
      "hii\n",
      "38.70750571400034 38.70750571400034 964\n",
      "1.0\n",
      "657\n",
      "37.528266487018676 38.86216809236085 965\n",
      "0.0\n",
      "309\n",
      "hii\n",
      "34.94802648693494 34.94802648693494 966\n",
      "1.0\n",
      "658\n",
      "36.32804196897385 36.32804196897385 967\n",
      "1.0\n",
      "659\n",
      "31.245661103977188 32.78481892568362 968\n",
      "0.0\n",
      "310\n",
      "hii\n",
      "40.667723630259495 40.667723630259495 969\n",
      "1.0\n",
      "660\n",
      "29.824174544395618 29.824174544395618 970\n",
      "1.0\n",
      "661\n",
      "33.274551859473114 33.274551859473114 971\n",
      "1.0\n",
      "662\n",
      "36.38552497880001 36.61882826047436 972\n",
      "0.0\n",
      "311\n",
      "hii\n",
      "33.12364101329182 33.12364101329182 973\n",
      "1.0\n",
      "663\n",
      "39.235733738625385 39.235733738625385 974\n",
      "1.0\n",
      "664\n",
      "34.146065549673 37.00858325146252 975\n",
      "0.0\n",
      "312\n",
      "hii\n",
      "27.037752414035275 27.037752414035275 976\n",
      "1.0\n",
      "665\n",
      "32.5735015994865 32.847435457593264 977\n",
      "0.0\n",
      "313\n",
      "hii\n",
      "33.09777121630192 36.54418116685045 978\n",
      "0.0\n",
      "314\n",
      "hii\n",
      "36.29942699199608 37.52536687670297 979\n",
      "0.0\n",
      "315\n",
      "hii\n",
      "34.88508142871376 34.88508142871376 980\n",
      "1.0\n",
      "666\n",
      "33.670899416962804 33.670899416962804 981\n",
      "1.0\n",
      "667\n",
      "39.49362493889833 39.49362493889833 982\n",
      "1.0\n",
      "668\n",
      "34.52577507199441 34.88923774061674 983\n",
      "0.0\n",
      "316\n",
      "hii\n",
      "32.35333741821565 32.35333741821565 984\n",
      "1.0\n",
      "669\n",
      "39.0054545315115 41.150886430891056 985\n",
      "0.0\n",
      "317\n",
      "hii\n",
      "37.01590821210027 37.01590821210027 986\n",
      "1.0\n",
      "670\n",
      "35.372573928247725 35.914314088987425 987\n",
      "0.0\n",
      "318\n",
      "hii\n",
      "32.78325711953458 34.176083309597935 988\n",
      "0.0\n",
      "319\n",
      "hii\n",
      "37.285529335523535 37.285529335523535 989\n",
      "1.0\n",
      "671\n",
      "37.71480217995048 37.71480217995048 990\n",
      "1.0\n",
      "672\n",
      "38.37007801498445 38.37007801498445 991\n",
      "1.0\n",
      "673\n",
      "33.58008561243737 33.58008561243737 992\n",
      "1.0\n",
      "674\n",
      "31.177966816046673 31.177966816046673 993\n",
      "1.0\n",
      "675\n",
      "36.517694321029296 36.517694321029296 994\n",
      "1.0\n",
      "676\n",
      "38.87471344879464 38.87471344879464 995\n",
      "1.0\n",
      "677\n",
      "34.32657672343805 35.653577028606094 996\n",
      "0.0\n",
      "320\n",
      "hii\n",
      "35.983502165826785 36.51523312080503 997\n"
     ]
    },
    {
     "name": "stdout",
     "output_type": "stream",
     "text": [
      "0.0\n",
      "321\n",
      "hii\n",
      "30.517845827113444 32.52830380620665 998\n",
      "0.0\n",
      "322\n",
      "hii\n",
      "29.847315417296965 29.847315417296965 999\n",
      "1.0\n",
      "678\n",
      "322 678\n"
     ]
    }
   ],
   "source": [
    "is_dog_correct(dog_distances_pd)"
   ]
  },
  {
   "cell_type": "code",
   "execution_count": null,
   "metadata": {},
   "outputs": [],
   "source": [
    "dog_distances_pd"
   ]
  },
  {
   "cell_type": "code",
   "execution_count": 49,
   "metadata": {},
   "outputs": [
    {
     "data": {
      "text/plain": [
       "0"
      ]
     },
     "execution_count": 49,
     "metadata": {},
     "output_type": "execute_result"
    }
   ],
   "source": [
    "dog_distances_pd[\"res\"].sum()"
   ]
  },
  {
   "cell_type": "code",
   "execution_count": 90,
   "metadata": {},
   "outputs": [],
   "source": [
    "def is_dog_correct(row):\n",
    "    t=np.array([row[3],row[0],row[1],row[2]])\n",
    "#         print(t)\n",
    "    if t.min()==t[0]:\n",
    "        row[4]=1\n",
    "    else:\n",
    "        row[4]=0"
   ]
  },
  {
   "cell_type": "code",
   "execution_count": 91,
   "metadata": {},
   "outputs": [
    {
     "name": "stderr",
     "output_type": "stream",
     "text": [
      "/home/prachi/anaconda3/lib/python3.7/site-packages/ipykernel_launcher.py:5: SettingWithCopyWarning: \n",
      "A value is trying to be set on a copy of a slice from a DataFrame\n",
      "\n",
      "See the caveats in the documentation: https://pandas.pydata.org/pandas-docs/stable/user_guide/indexing.html#returning-a-view-versus-a-copy\n",
      "  \"\"\"\n",
      "/home/prachi/anaconda3/lib/python3.7/site-packages/ipykernel_launcher.py:7: SettingWithCopyWarning: \n",
      "A value is trying to be set on a copy of a slice from a DataFrame\n",
      "\n",
      "See the caveats in the documentation: https://pandas.pydata.org/pandas-docs/stable/user_guide/indexing.html#returning-a-view-versus-a-copy\n",
      "  import sys\n"
     ]
    }
   ],
   "source": [
    "for i in range(len(dog_distances_pd)):\n",
    "    is_dog_correct(dog_distances_pd.iloc[i])"
   ]
  },
  {
   "cell_type": "code",
   "execution_count": 93,
   "metadata": {},
   "outputs": [
    {
     "data": {
      "text/html": [
       "<div>\n",
       "<style scoped>\n",
       "    .dataframe tbody tr th:only-of-type {\n",
       "        vertical-align: middle;\n",
       "    }\n",
       "\n",
       "    .dataframe tbody tr th {\n",
       "        vertical-align: top;\n",
       "    }\n",
       "\n",
       "    .dataframe thead th {\n",
       "        text-align: right;\n",
       "    }\n",
       "</style>\n",
       "<table border=\"1\" class=\"dataframe\">\n",
       "  <thead>\n",
       "    <tr style=\"text-align: right;\">\n",
       "      <th></th>\n",
       "      <th>dog-cat</th>\n",
       "      <th>dog-automobile</th>\n",
       "      <th>dog-bird</th>\n",
       "      <th>dog-dog</th>\n",
       "      <th>res</th>\n",
       "    </tr>\n",
       "  </thead>\n",
       "  <tbody>\n",
       "    <tr>\n",
       "      <th>0</th>\n",
       "      <td>36.419608</td>\n",
       "      <td>41.957976</td>\n",
       "      <td>41.753865</td>\n",
       "      <td>33.477359</td>\n",
       "      <td>NaN</td>\n",
       "    </tr>\n",
       "    <tr>\n",
       "      <th>1</th>\n",
       "      <td>38.835327</td>\n",
       "      <td>46.002133</td>\n",
       "      <td>41.338296</td>\n",
       "      <td>32.845850</td>\n",
       "      <td>NaN</td>\n",
       "    </tr>\n",
       "    <tr>\n",
       "      <th>2</th>\n",
       "      <td>36.976341</td>\n",
       "      <td>42.946229</td>\n",
       "      <td>38.615759</td>\n",
       "      <td>35.039707</td>\n",
       "      <td>NaN</td>\n",
       "    </tr>\n",
       "    <tr>\n",
       "      <th>3</th>\n",
       "      <td>34.575007</td>\n",
       "      <td>41.686606</td>\n",
       "      <td>37.089227</td>\n",
       "      <td>33.901033</td>\n",
       "      <td>NaN</td>\n",
       "    </tr>\n",
       "    <tr>\n",
       "      <th>4</th>\n",
       "      <td>34.778825</td>\n",
       "      <td>39.226966</td>\n",
       "      <td>38.272289</td>\n",
       "      <td>37.484925</td>\n",
       "      <td>NaN</td>\n",
       "    </tr>\n",
       "    <tr>\n",
       "      <th>...</th>\n",
       "      <td>...</td>\n",
       "      <td>...</td>\n",
       "      <td>...</td>\n",
       "      <td>...</td>\n",
       "      <td>...</td>\n",
       "    </tr>\n",
       "    <tr>\n",
       "      <th>995</th>\n",
       "      <td>43.477975</td>\n",
       "      <td>44.309539</td>\n",
       "      <td>40.397740</td>\n",
       "      <td>38.874713</td>\n",
       "      <td>NaN</td>\n",
       "    </tr>\n",
       "    <tr>\n",
       "      <th>996</th>\n",
       "      <td>34.326577</td>\n",
       "      <td>44.519190</td>\n",
       "      <td>38.816912</td>\n",
       "      <td>35.653577</td>\n",
       "      <td>NaN</td>\n",
       "    </tr>\n",
       "    <tr>\n",
       "      <th>997</th>\n",
       "      <td>35.983502</td>\n",
       "      <td>42.326396</td>\n",
       "      <td>37.722022</td>\n",
       "      <td>36.515233</td>\n",
       "      <td>NaN</td>\n",
       "    </tr>\n",
       "    <tr>\n",
       "      <th>998</th>\n",
       "      <td>30.517846</td>\n",
       "      <td>39.457424</td>\n",
       "      <td>37.264526</td>\n",
       "      <td>32.528304</td>\n",
       "      <td>NaN</td>\n",
       "    </tr>\n",
       "    <tr>\n",
       "      <th>999</th>\n",
       "      <td>31.802286</td>\n",
       "      <td>40.188161</td>\n",
       "      <td>35.904993</td>\n",
       "      <td>29.847315</td>\n",
       "      <td>NaN</td>\n",
       "    </tr>\n",
       "  </tbody>\n",
       "</table>\n",
       "<p>1000 rows × 5 columns</p>\n",
       "</div>"
      ],
      "text/plain": [
       "       dog-cat  dog-automobile   dog-bird    dog-dog  res\n",
       "0    36.419608       41.957976  41.753865  33.477359  NaN\n",
       "1    38.835327       46.002133  41.338296  32.845850  NaN\n",
       "2    36.976341       42.946229  38.615759  35.039707  NaN\n",
       "3    34.575007       41.686606  37.089227  33.901033  NaN\n",
       "4    34.778825       39.226966  38.272289  37.484925  NaN\n",
       "..         ...             ...        ...        ...  ...\n",
       "995  43.477975       44.309539  40.397740  38.874713  NaN\n",
       "996  34.326577       44.519190  38.816912  35.653577  NaN\n",
       "997  35.983502       42.326396  37.722022  36.515233  NaN\n",
       "998  30.517846       39.457424  37.264526  32.528304  NaN\n",
       "999  31.802286       40.188161  35.904993  29.847315  NaN\n",
       "\n",
       "[1000 rows x 5 columns]"
      ]
     },
     "execution_count": 93,
     "metadata": {},
     "output_type": "execute_result"
    }
   ],
   "source": [
    "dog_distances_pd"
   ]
  },
  {
   "cell_type": "code",
   "execution_count": 70,
   "metadata": {},
   "outputs": [],
   "source": [
    "df = pd.DataFrame({\"A\": [65,2,31], \"B\": [2,3,4]})"
   ]
  },
  {
   "cell_type": "code",
   "execution_count": 76,
   "metadata": {},
   "outputs": [
    {
     "data": {
      "text/plain": [
       "0    \n",
       "1    \n",
       "2    \n",
       "Name: c, dtype: object"
      ]
     },
     "execution_count": 76,
     "metadata": {},
     "output_type": "execute_result"
    }
   ],
   "source": [
    "df['c']"
   ]
  },
  {
   "cell_type": "code",
   "execution_count": 77,
   "metadata": {},
   "outputs": [
    {
     "data": {
      "text/html": [
       "<div>\n",
       "<style scoped>\n",
       "    .dataframe tbody tr th:only-of-type {\n",
       "        vertical-align: middle;\n",
       "    }\n",
       "\n",
       "    .dataframe tbody tr th {\n",
       "        vertical-align: top;\n",
       "    }\n",
       "\n",
       "    .dataframe thead th {\n",
       "        text-align: right;\n",
       "    }\n",
       "</style>\n",
       "<table border=\"1\" class=\"dataframe\">\n",
       "  <thead>\n",
       "    <tr style=\"text-align: right;\">\n",
       "      <th></th>\n",
       "      <th>A</th>\n",
       "      <th>B</th>\n",
       "      <th>c</th>\n",
       "    </tr>\n",
       "  </thead>\n",
       "  <tbody>\n",
       "    <tr>\n",
       "      <th>0</th>\n",
       "      <td>65</td>\n",
       "      <td>2</td>\n",
       "      <td></td>\n",
       "    </tr>\n",
       "    <tr>\n",
       "      <th>1</th>\n",
       "      <td>2</td>\n",
       "      <td>3</td>\n",
       "      <td></td>\n",
       "    </tr>\n",
       "    <tr>\n",
       "      <th>2</th>\n",
       "      <td>31</td>\n",
       "      <td>4</td>\n",
       "      <td></td>\n",
       "    </tr>\n",
       "  </tbody>\n",
       "</table>\n",
       "</div>"
      ],
      "text/plain": [
       "    A  B c\n",
       "0  65  2  \n",
       "1   2  3  \n",
       "2  31  4  "
      ]
     },
     "execution_count": 77,
     "metadata": {},
     "output_type": "execute_result"
    }
   ],
   "source": [
    "df"
   ]
  },
  {
   "cell_type": "code",
   "execution_count": 78,
   "metadata": {},
   "outputs": [
    {
     "name": "stderr",
     "output_type": "stream",
     "text": [
      "/home/prachi/anaconda3/lib/python3.7/site-packages/ipykernel_launcher.py:5: SettingWithCopyWarning: \n",
      "A value is trying to be set on a copy of a slice from a DataFrame\n",
      "\n",
      "See the caveats in the documentation: https://pandas.pydata.org/pandas-docs/stable/user_guide/indexing.html#returning-a-view-versus-a-copy\n",
      "  \"\"\"\n",
      "/home/prachi/anaconda3/lib/python3.7/site-packages/ipykernel_launcher.py:3: SettingWithCopyWarning: \n",
      "A value is trying to be set on a copy of a slice from a DataFrame\n",
      "\n",
      "See the caveats in the documentation: https://pandas.pydata.org/pandas-docs/stable/user_guide/indexing.html#returning-a-view-versus-a-copy\n",
      "  This is separate from the ipykernel package so we can avoid doing imports until\n"
     ]
    },
    {
     "data": {
      "text/html": [
       "<div>\n",
       "<style scoped>\n",
       "    .dataframe tbody tr th:only-of-type {\n",
       "        vertical-align: middle;\n",
       "    }\n",
       "\n",
       "    .dataframe tbody tr th {\n",
       "        vertical-align: top;\n",
       "    }\n",
       "\n",
       "    .dataframe thead th {\n",
       "        text-align: right;\n",
       "    }\n",
       "</style>\n",
       "<table border=\"1\" class=\"dataframe\">\n",
       "  <thead>\n",
       "    <tr style=\"text-align: right;\">\n",
       "      <th></th>\n",
       "      <th>A</th>\n",
       "      <th>B</th>\n",
       "      <th>c</th>\n",
       "    </tr>\n",
       "  </thead>\n",
       "  <tbody>\n",
       "    <tr>\n",
       "      <th>0</th>\n",
       "      <td>65</td>\n",
       "      <td>2</td>\n",
       "      <td></td>\n",
       "    </tr>\n",
       "    <tr>\n",
       "      <th>1</th>\n",
       "      <td>2</td>\n",
       "      <td>3</td>\n",
       "      <td></td>\n",
       "    </tr>\n",
       "    <tr>\n",
       "      <th>2</th>\n",
       "      <td>31</td>\n",
       "      <td>4</td>\n",
       "      <td></td>\n",
       "    </tr>\n",
       "  </tbody>\n",
       "</table>\n",
       "</div>"
      ],
      "text/plain": [
       "    A  B c\n",
       "0  65  2  \n",
       "1   2  3  \n",
       "2  31  4  "
      ]
     },
     "execution_count": 78,
     "metadata": {},
     "output_type": "execute_result"
    }
   ],
   "source": [
    "for i in range(len(df)):\n",
    "    if df.loc[i]['A']<df.loc[i]['B']:\n",
    "        df.loc[i]['c']=0\n",
    "    else:\n",
    "        df.loc[i]['c']=1\n",
    "df"
   ]
  },
  {
   "cell_type": "code",
   "execution_count": null,
   "metadata": {},
   "outputs": [],
   "source": []
  }
 ],
 "metadata": {
  "kernelspec": {
   "display_name": "Python 3",
   "language": "python",
   "name": "python3"
  },
  "language_info": {
   "codemirror_mode": {
    "name": "ipython",
    "version": 3
   },
   "file_extension": ".py",
   "mimetype": "text/x-python",
   "name": "python",
   "nbconvert_exporter": "python",
   "pygments_lexer": "ipython3",
   "version": "3.7.6"
  }
 },
 "nbformat": 4,
 "nbformat_minor": 4
}
