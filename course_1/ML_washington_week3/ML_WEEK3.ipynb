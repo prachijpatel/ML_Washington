{
 "cells": [
  {
   "cell_type": "code",
   "execution_count": 14,
   "metadata": {},
   "outputs": [
    {
     "data": {
      "text/plain": [
       "1         {'it': 2, 'came': 1, 'early': 1, 'and': 3, 'wa...\n",
       "2         {'very': 1, 'soft': 1, 'and': 2, 'comfortable'...\n",
       "3         {'this': 3, 'is': 4, 'a': 2, 'product': 2, 'we...\n",
       "4         {'all': 2, 'of': 1, 'my': 1, 'kids': 2, 'have'...\n",
       "5         {'when': 2, 'the': 6, 'binky': 3, 'fairy': 3, ...\n",
       "                                ...                        \n",
       "183526    {'such': 1, 'a': 1, 'great': 2, 'idea!': 1, 'v...\n",
       "183527    {'this': 1, 'product': 2, 'rocks!': 1, 'it': 2...\n",
       "183528    {'this': 2, 'item': 1, 'looks': 1, 'great': 2,...\n",
       "183529    {'i': 9, 'am': 2, 'extremely': 1, 'happy': 1, ...\n",
       "183530    {'i': 2, 'love': 1, 'this': 1, 'product': 1, '...\n",
       "Name: word_count, Length: 165679, dtype: object"
      ]
     },
     "execution_count": 14,
     "metadata": {},
     "output_type": "execute_result"
    }
   ],
   "source": [
    "from collections import Counter\n",
    "from sklearn import svm\n",
    "import numpy as np\n",
    "import pandas as pd \n",
    "from sklearn.model_selection import train_test_split\n",
    "from sklearn.metrics import accuracy_score,confusion_matrix\n",
    "df=pd.read_csv('amazon_baby.csv')\n",
    "df.head()\n",
    "df['sentiment']=df['rating'].map({4:1,5:1,1:0,2:0})\n",
    "df=df.dropna(axis=0)\n",
    "df['sentiment']=df['sentiment'].astype(int)\n",
    "# df['word_count'] = pd.text_analytics.count_words(df['review'])\n",
    "df['word_count'] = df['review'].apply(lambda x: Counter(x.lower().split()))\n",
    "y=df['sentiment'].values\n",
    "x=df[\"word_count\"]\n",
    "train_x,test_x,train_y,test_y=train_test_split(x,y,test_size=0.2,random_state=0)\n",
    "clf = svm.SVC()\n",
    "clf.fit(train_x, train_y)\n",
    "prediction=clf.predict(test_x)\n",
    "accuracy_sc=accuracy_score(test_y,prediction)\n",
    "print(\"accuracy_score:\",accuracy_sc,\"\\n\")\n",
    "confusion_mat=confusion_matrix(test_y,prediction)\n",
    "print(\"confusion_matrix:\",\"\\n\",confusion_mat,\"\\n\")\n",
    "print(\"Misclassified samples: %d\" % (test_y!=prediction).sum())\n",
    "df['word_count']"
   ]
  },
  {
   "cell_type": "code",
   "execution_count": 17,
   "metadata": {},
   "outputs": [
    {
     "data": {
      "text/plain": [
       "array([[2., 0., 1.],\n",
       "       [0., 1., 3.]])"
      ]
     },
     "execution_count": 17,
     "metadata": {},
     "output_type": "execute_result"
    }
   ],
   "source": [
    "from sklearn.feature_extraction import DictVectorizer\n",
    "v = DictVectorizer(sparse=False)\n",
    "D = [{'foo': 1, 'bar': 2}, {'foo': 3, 'baz': 1}]\n",
    "X = v.fit_transform(D)\n",
    "X"
   ]
  },
  {
   "cell_type": "code",
   "execution_count": null,
   "metadata": {},
   "outputs": [],
   "source": []
  }
 ],
 "metadata": {
  "kernelspec": {
   "display_name": "Python 3",
   "language": "python",
   "name": "python3"
  },
  "language_info": {
   "codemirror_mode": {
    "name": "ipython",
    "version": 3
   },
   "file_extension": ".py",
   "mimetype": "text/x-python",
   "name": "python",
   "nbconvert_exporter": "python",
   "pygments_lexer": "ipython3",
   "version": "3.7.6"
  }
 },
 "nbformat": 4,
 "nbformat_minor": 4
}
